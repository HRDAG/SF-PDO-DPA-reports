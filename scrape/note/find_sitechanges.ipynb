{
 "cells": [
  {
   "cell_type": "markdown",
   "id": "1e20b547-e505-4114-9756-0e03dad4af5e",
   "metadata": {},
   "source": [
    "# test\n",
    "\\\n",
    "While updating the DPA repo and looking for new reports, I noticed that the reference table coming out of the `segment` task has no rows.\n",
    "\n",
    "Upon further inspection with a fresh clone of the repo, the DPA link used in the `scrape` task is still working, but the webpage looks slightly different. I think the yearly links should still be working, but something is going wrong from the get-go.\n",
    "\n"
   ]
  },
  {
   "cell_type": "code",
   "execution_count": 1,
   "id": "0e58cb66-7fb4-49be-98a4-b61465d087c7",
   "metadata": {},
   "outputs": [],
   "source": [
    "# dependencies\n",
    "import re\n",
    "import hashlib\n",
    "from random import randint\n",
    "import yaml\n",
    "import requests\n",
    "from bs4 import BeautifulSoup\n",
    "import pandas as pd"
   ]
  },
  {
   "cell_type": "code",
   "execution_count": 2,
   "id": "76902243-94df-413a-b93b-2185b42c1daf",
   "metadata": {},
   "outputs": [],
   "source": [
    "def read_yaml(yaml_file):\n",
    "    with open(yaml_file, 'r') as f:\n",
    "        data = yaml.safe_load(f)\n",
    "        f.close()\n",
    "    return data\n",
    "\n",
    "\n",
    "def get_user_agent():\n",
    "    idx = randint(0, len(users)-1)\n",
    "    return users[idx]\n",
    "\n",
    "\n",
    "# should play nice with any webpage we need step through\n",
    "def parse_link(url):\n",
    "    # i had the \"allow_redirects\" arg set to False but it didnt work?\n",
    "    res = requests.get(url, headers={\n",
    "        \"User-Agent\" : get_user_agent()\n",
    "})\n",
    "    html = res.content\n",
    "    parsed = BeautifulSoup(html, \"html.parser\")\n",
    "    print(f\"page url:\\t{url}\")\n",
    "    try:\n",
    "        print(f\"page title:\\t{parsed.title.string}\\n\")\n",
    "    except:\n",
    "        return parsed\n",
    "    return parsed\n",
    "\n",
    "# bc we want links, this by default only looks for that type attribute\n",
    "# flexible enough for the first few rounds of html sifting\n",
    "def find_content(parsed, tagtype, classname, kw):\n",
    "    # there are other sections on the page outside this scope\n",
    "    if classname:\n",
    "        tags = parsed.find_all(tagtype, class_=classname)\n",
    "    else:\n",
    "        tags = parsed.find_all(tagtype)\n",
    "    if kw:\n",
    "        return [link['href'] for tag in tags for link in tag.find_all(\"a\")\n",
    "                 if kw in tag.text.lower()]\n",
    "    return [link['href'] for tag in tags for link in tag.find_all(\"a\")]\n",
    "\n",
    "\n",
    "# the initial links are separated by years but all appear under the same section name\n",
    "# the focus of this work is complaints so that is the default kw used to filter results\n",
    "def find_complaint_years(parsed, tagtype=\"div\", classname=\"sfgov-section__content\", kw=\"complaints\"):\n",
    "    return find_content(parsed, tagtype, classname, kw)\n",
    "\n",
    "\n",
    "# make initial links more organized\n",
    "# initial links can very in source / host platform, so this separation helps organizes the solution\n",
    "def sort_links_by_year(links):\n",
    "    \"\"\"2025 link is picked up as a partial url missing domain, \n",
    "    but other years still work as expected.\"\"\"\n",
    "    links = {link[link.find(\"20\"):link.find(\"20\")+4]: link\n",
    "            for link in links}\n",
    "    domain = \"https://www.sf.gov\"\n",
    "    links = {year: link if ('sf.gov' in link) | ('wayback.archive-it.org' in link)\n",
    "             else f\"{domain}{link}\" for year, link in links.items()}\n",
    "    return links\n",
    "\n",
    "\n",
    "# this function can be passed to `soup.find_all()` via the `href` arg\n",
    "# then it filters the soup for links matching the kw\n",
    "def openness_files(href, kw=\"openness|CSR\"):\n",
    "    return href and re.compile(kw, flags=re.IGNORECASE).search(href)\n",
    "\n",
    "\n",
    "# assumes we want to download the full content without doing any filtering\n",
    "# p sure this would work for not-pdfs but that is the type of file we expect here\n",
    "def download_file(pdf_url, filename):\n",
    "    response = requests.get(pdf_url, headers={\n",
    "        \"User-Agent\" : \"Mozilla/5.0 (X11; Linux x86_64) AppleWebKit/537.36 (KHTML, like Gecko) Chrome/51.0.2704.103 Safari/537.36\"\n",
    "})\n",
    "    if os.path.exists(filename):\n",
    "        print(f\"*** WARNING: filename '{filename}' already exists. Skipping write. ***\\n\")\n",
    "        return 0\n",
    "    pdf = open(filename, 'wb')\n",
    "    pdf.write(response.content)\n",
    "    pdf.close()\n",
    "    print(f\"successful download:\\t{pdf_url}\\n\")\n",
    "    return 1\n",
    "\n",
    "\n",
    "def download_pdfs(pdf_links, output_dir):\n",
    "    print(\"begin downloading pdfs from list of urls\")\n",
    "    curr = 1\n",
    "    successes = {pdf_link:None for pdf_link in pdf_links}\n",
    "    for pdf_link in pdf_links:\n",
    "        print(\"------------------------------------\")\n",
    "        print(f\"link:\\t{curr} of {len(pdf_links)}\")\n",
    "        print(\"------------------------------------\")\n",
    "        # assumes our save location/env might change\n",
    "        # + we want to preserve the uploaded pdf's filename\n",
    "        output_stub = f\"{output_dir}\"\n",
    "        corrfname = f\"{pdf_link[pdf_link.rfind('files/')+6:]}\".replace(\"/\", \"-\")\n",
    "        filename = f\"{output_stub}/{corrfname}\"\n",
    "        curr += 1\n",
    "        try:\n",
    "            print(f\"\\nattempting to download:\\t{pdf_link}\")\n",
    "            attempt = download_file(pdf_link, filename)\n",
    "            if attempt == 1:\n",
    "                print(f\"\\nsaved content as:\\n\\t\\t{filename}\\n\")\n",
    "            successes[pdf_link] = filename\n",
    "        except:\n",
    "            print(f\"\\t\\t!!\\t\\tERROR WHILE DOWNLOADING:\\t{pdf_link}\\n\")\n",
    "            continue\n",
    "    print()\n",
    "    print(\"--->   end of download list   <---\")\n",
    "    return successes\n",
    "\n",
    "\n",
    "# maybe I'm doing the link scraping wrong but the links need to be prefixed with the domain to work\n",
    "def add_domain(pdf_links, domain):\n",
    "    return [f\"{domain}{link}\" if domain not in link else link for link in pdf_links]\n",
    "\n",
    "\n",
    "def download_yearly_pdfs(yearly_pdfs, output_dir):\n",
    "    downloaded = {year:{} for year in yearly_pdfs.keys()}\n",
    "    print(downloaded.keys())\n",
    "    for year, pdf_list in yearly_pdfs.items():\n",
    "        print(f\"attempting to download files from {year}\")\n",
    "        downloaded[year] = download_pdfs(pdf_list, output_dir)\n",
    "        # TODO: check again for 2025 reports; none posted as of 14-JAN-25\n",
    "        if year != '2025': assert downloaded[year]\n",
    "    doc_data = [(url, filename) for year, file_status in downloaded.items()\n",
    "                for url, filename in file_status.items()]\n",
    "    doc_df = pd.DataFrame(doc_data, columns=['pdf_url', 'pdf_file'])\n",
    "    return doc_df\n",
    "\n",
    "\n",
    "def hashid(fname):\n",
    "    if pd.isna(fname): return None\n",
    "    with open(fname, 'rb') as f:\n",
    "        digest = hashlib.file_digest(f, \"sha1\")\n",
    "    return digest.hexdigest()[:8]"
   ]
  },
  {
   "cell_type": "code",
   "execution_count": 3,
   "id": "b6596fff-c5fc-4836-a49c-3b4cbfa7604a",
   "metadata": {},
   "outputs": [
    {
     "name": "stdout",
     "output_type": "stream",
     "text": [
      "page url:\thttps://sf.gov/information/reports-policing-complaints\n",
      "page title:\tReports on policing complaints | SF.gov\n",
      "\n"
     ]
    }
   ],
   "source": [
    "# main\n",
    "output_dir = 'output/pdfs'\n",
    "users = read_yaml(\"../hand/useragents.yml\")\n",
    "\n",
    "# read data, initial verification\n",
    "expected = [str(year) for year in range(2020, 2026, 1)]\n",
    "main_parsed = parse_link(\"https://sf.gov/information/reports-policing-complaints\")\n",
    "\n",
    "# find_content() and find_complaint_years() take us from 1 home page link\n",
    "# with other stuff on the page we don't want to scrape\n",
    "# to a dict of years and the associated urls for that year's complaint reports\n",
    "yearly_links = find_complaint_years(main_parsed)\n",
    "yearly_links = sort_links_by_year(yearly_links)\n",
    "\n",
    "# initial parsing of the links for complaint reports\n",
    "years_parsed = {year: parse_link(link)\n",
    "                for year, link in yearly_links.items()}\n",
    "\n",
    "# since the 2020 link goes to the wayback page\n",
    "# and the wayback page just organizes the years (1998, 2021) by anchors\n",
    "# we can just read 2020 and collect all the pdfs\n",
    "yearly_pdf_links = {year: [tag[\"href\"]\n",
    "                           for tag in parsed.find_all(href=openness_files)]\n",
    "                    for year, parsed in years_parsed.items()\n",
    "                    if year in expected}\n",
    "yearly_pdf_links = {year:\n",
    "                    add_domain(parsed, domain=\"https://sf.gov\")\n",
    "                    if year in (\"2025\", \"2024\", \"2023\", \"2022\", \"2021\")\n",
    "                    else add_domain(parsed, domain=\"https://wayback.archive-it.org\")\n",
    "                    for year, parsed in yearly_pdf_links.items()}\n",
    "\n",
    "# we don't need to be downloading the reports if the debugging works, we'll put changes in the script and run from there\n",
    "#ref_table = download_yearly_pdfs(yearly_pdf_links, output_dir)\n",
    "#ref_table['fileid'] = ref_table.pdf_file.apply(hashid)"
   ]
  },
  {
   "cell_type": "markdown",
   "id": "958e3eba-b703-4e87-a118-13e68d47853f",
   "metadata": {},
   "source": [
    "### what does the first pass at processing the data result in?"
   ]
  },
  {
   "cell_type": "code",
   "execution_count": 4,
   "id": "33375385-ae42-4f8f-a333-59d3c641a437",
   "metadata": {},
   "outputs": [
    {
     "data": {
      "text/plain": [
       "{}"
      ]
     },
     "execution_count": 4,
     "metadata": {},
     "output_type": "execute_result"
    }
   ],
   "source": [
    "yearly_links"
   ]
  },
  {
   "cell_type": "markdown",
   "id": "7fb4a928-c04b-40e7-8d99-54708278fcfa",
   "metadata": {},
   "source": [
    "### what are we getting from reading the page?"
   ]
  },
  {
   "cell_type": "code",
   "execution_count": 5,
   "id": "c6055256-3551-449c-97a1-b9e6d992292d",
   "metadata": {},
   "outputs": [
    {
     "data": {
      "text/plain": [
       "'<!DOCTYPE html>\\n<html lang=\"en\"><head><meta charset=\"utf-8\"/><meta content=\"width=device-width\" name=\"viewport\"/><title>Reports on policing complaints | SF.gov</title><meta content=\"3\" name=\"next-head-count\"/><link href=\"/icon.ico\" rel=\"icon\"/><link as=\"font\" crossorigin=\"anonymous\" data-next-font=\"size-adjust\" href=\"/_next/static/media/b5c95a22b4347906-s.p.woff2\" rel=\"preload\" type=\"font/woff2\"/><link as=\"font\" crossorigin=\"anonymous\" data-next-font=\"size-adjust\" href=\"/_next/static/media/d3d85d86ad5c431a-s.p.woff2\" rel=\"preload\" type=\"font/woff2\"/><link as=\"font\" crossorigin=\"anonymous\" data-next-font=\"size-adjust\" href=\"/_next/static/media/12d86e8d7e1c2769-s.p.woff2\" rel=\"preload\" type=\"font/woff2\"/><link as=\"style\" href=\"/_next/static/css/9a18325f5710f76e.css\" rel=\"preload\"/><link data-n-g=\"\" href=\"/_next/static/css/9a18325f5710f76e.css\" rel=\"stylesheet\"/><noscript data-n-css=\"\"></noscript><script defer=\"\" nomodule=\"\" src=\"/_next/static/chunks/polyfills-42372ed130431b0a.js\"></scrip'"
      ]
     },
     "execution_count": 5,
     "metadata": {},
     "output_type": "execute_result"
    }
   ],
   "source": [
    "str(main_parsed)[:1000]"
   ]
  },
  {
   "cell_type": "markdown",
   "id": "74910cb2-1b09-4585-addf-62625cc5e944",
   "metadata": {},
   "source": [
    "### okay, so we are finding HTML on the page but our processing is broken.\n",
    "\n",
    "I made changes ~3 weeks ago to support scraping the new 2025 tab, but there were no reports for 2025 added and there still aren't as of Tue 4 Feb 2025.\n",
    "- I can confirm I updated the [complaints.xlsx](https://docs.google.com/spreadsheets/d/1-yldlizXlRBGhu2RJEP4ogj6ZCT6QSR7/edit?usp=drive_link&ouid=108469006105963119869&rtpof=true&sd=true) file we share with Zac + team on 15 Jan 2025, so I was able to run the repo at that time and I know since I was fiddling with the scrape task, I would have been cleaning and re-rebuilding the PDF collection from scratch.\n",
    "\n",
    "So, something changed on the website in the last 3 weeks and completely broke our processing.\n",
    "\n",
    "### the first step in processing the extracted HTML document is identifying the year tabs with `find_complaint_years()`"
   ]
  },
  {
   "cell_type": "code",
   "execution_count": 6,
   "id": "b9da56b7-c5f1-4f7a-8fc1-8978567c1e0d",
   "metadata": {},
   "outputs": [],
   "source": [
    "def find_complaint_years(parsed, tagtype=\"div\", classname=\"sfgov-section__content\", kw=\"complaints\"):\n",
    "    return find_content(parsed, tagtype, classname, kw)"
   ]
  },
  {
   "cell_type": "code",
   "execution_count": 7,
   "id": "a7a1ad67-de7e-4c31-b3f6-b2690828226a",
   "metadata": {},
   "outputs": [
    {
     "data": {
      "text/plain": [
       "[]"
      ]
     },
     "execution_count": 7,
     "metadata": {},
     "output_type": "execute_result"
    }
   ],
   "source": [
    "find_complaint_years(main_parsed)"
   ]
  },
  {
   "cell_type": "code",
   "execution_count": 8,
   "id": "700e7fcb-fd34-4258-87e5-3ad31cd82d65",
   "metadata": {},
   "outputs": [],
   "source": [
    "str_mainp = str(main_parsed)"
   ]
  },
  {
   "cell_type": "code",
   "execution_count": 9,
   "id": "0868636d-7cf9-4a51-8ca7-845e3fe19ab8",
   "metadata": {},
   "outputs": [
    {
     "data": {
      "text/plain": [
       "False"
      ]
     },
     "execution_count": 9,
     "metadata": {},
     "output_type": "execute_result"
    }
   ],
   "source": [
    "'sfgov-section__content' in str_mainp"
   ]
  },
  {
   "cell_type": "code",
   "execution_count": 10,
   "id": "33cadcf6-9d2e-4f62-a0f7-b94506c07c1b",
   "metadata": {},
   "outputs": [
    {
     "data": {
      "text/plain": [
       "True"
      ]
     },
     "execution_count": 10,
     "metadata": {},
     "output_type": "execute_result"
    }
   ],
   "source": [
    "'complaints' in str_mainp"
   ]
  },
  {
   "cell_type": "markdown",
   "id": "54711985-071a-48fd-a5be-049d4894c656",
   "metadata": {},
   "source": [
    "### allrrrigght. So the class name changed.\n",
    "\n",
    "I went and used the Inspect Element tool on the DPA reports page and checked the class name of the 2024 and 2023 links.\n",
    "\n",
    "As found on the page:\n",
    "> <a class=\"text-primary500 cursor-pointer\" href=\"https://www.sf.gov/resource/2024/reports-policing-complaints-2024\">2024</a>\n",
    "\n",
    "As code:\n",
    "`<a class=\"text-primary500 cursor-pointer\" href=\"https://www.sf.gov/resource/2024/reports-policing-complaints-2024\">2024</a>`"
   ]
  },
  {
   "cell_type": "code",
   "execution_count": 11,
   "id": "1e402420-a7c9-4d0d-8aa1-15b4e0ec9875",
   "metadata": {},
   "outputs": [],
   "source": [
    "newclass = 'text-primary500 cursor-pointer'"
   ]
  },
  {
   "cell_type": "code",
   "execution_count": 12,
   "id": "ff377ab1-6fa4-43b2-95a8-b9434666400d",
   "metadata": {},
   "outputs": [
    {
     "data": {
      "text/plain": [
       "[]"
      ]
     },
     "execution_count": 12,
     "metadata": {},
     "output_type": "execute_result"
    }
   ],
   "source": [
    "find_complaint_years(main_parsed, tagtype=\"div\", classname=newclass, kw=\"complaints\")"
   ]
  },
  {
   "cell_type": "markdown",
   "id": "e6c8c97b-8453-4856-9bd2-7ddd87affd9d",
   "metadata": {},
   "source": [
    "### Hmm. That didn't work as expected."
   ]
  },
  {
   "cell_type": "code",
   "execution_count": 13,
   "id": "38320435-e22e-4cba-8c63-ae5e47fb6544",
   "metadata": {},
   "outputs": [
    {
     "data": {
      "text/plain": [
       "True"
      ]
     },
     "execution_count": 13,
     "metadata": {},
     "output_type": "execute_result"
    }
   ],
   "source": [
    "newclass in str_mainp"
   ]
  },
  {
   "cell_type": "code",
   "execution_count": 14,
   "id": "3e58cb44-c723-47e7-acbd-b54ef1607d7a",
   "metadata": {},
   "outputs": [
    {
     "data": {
      "text/plain": [
       "'text-primary500 cursor-pointer\" href=\"https://www.sf.gov/resource--2025--reports-policing-complaints-2025\">2025</a></p><'"
      ]
     },
     "execution_count": 14,
     "metadata": {},
     "output_type": "execute_result"
    }
   ],
   "source": [
    "str_mainp[str_mainp.find(newclass):str_mainp.find(newclass) + 120]"
   ]
  },
  {
   "cell_type": "markdown",
   "id": "5cabe04d-a27b-43fb-95ae-31cdab34cc95",
   "metadata": {},
   "source": [
    "### Okay. So we're confirming that we can scrape the links from the DPA reports page but there's more to fix than just the classname.\n",
    "\n",
    "The `find_complaint_years()` method calls `find_content()` on the HTML, so let's look closer at that."
   ]
  },
  {
   "cell_type": "code",
   "execution_count": 15,
   "id": "7d4247e7-612d-4148-9fa1-5d810f05da1d",
   "metadata": {},
   "outputs": [],
   "source": [
    "def find_content(parsed, tagtype, classname, kw):\n",
    "    # there are other sections on the page outside this scope\n",
    "    if classname:\n",
    "        tags = parsed.find_all(tagtype, class_=classname)\n",
    "    else:\n",
    "        tags = parsed.find_all(tagtype)\n",
    "    if kw:\n",
    "        return [link['href'] for tag in tags for link in tag.find_all(\"a\")\n",
    "                 if kw in tag.text.lower()]\n",
    "    return [link['href'] for tag in tags for link in tag.find_all(\"a\")]"
   ]
  },
  {
   "cell_type": "code",
   "execution_count": 16,
   "id": "72f52618-c2d0-424d-ac62-c6046b10606b",
   "metadata": {},
   "outputs": [
    {
     "data": {
      "text/plain": [
       "[]"
      ]
     },
     "execution_count": 16,
     "metadata": {},
     "output_type": "execute_result"
    }
   ],
   "source": [
    "main_parsed.find_all(tagtype=\"div\", class_=newclass)"
   ]
  },
  {
   "cell_type": "markdown",
   "id": "0fe4fe4c-aa72-40dc-8259-f2c9fff8b7d2",
   "metadata": {},
   "source": [
    "More sifted through the HTML to find what the expected section of the page is going by these days.\n",
    "\n",
    "The full outer section, I think, is this:\n",
    "> <div class=\"flex flex-col gap-[36px] md:gap-28 lg:gap-40 col-span-full lg:col-span-7\"><span class=\"flex flex-col space-y-40\" as=\"main\"><section class=\"flex flex-col gap-y-12\" data-testid=\"block-901d7f67-7fb4-4474-bc9a-9161f38c12d4\"><p class=\"mb-16\">The Department of Public Accountability (DPA) reports on the complaints we receive about police officers.&nbsp;</p><p class=\"mb-16\">These reports summarize DPA activities. They do not include any identifying information about the people involved.&nbsp;</p><p class=\"mb-16\"><a class=\"text-primary500 cursor-pointer\" href=\"https://www.sf.gov/resource--2025--reports-policing-complaints-2025\">2025</a></p><p class=\"mb-16\"><a class=\"text-primary500 cursor-pointer\" href=\"https://www.sf.gov/resource/2024/reports-policing-complaints-2024\">2024</a></p><p class=\"mb-16\"><a class=\"text-primary500 cursor-pointer\" href=\"https://sf.gov/resource/2023/reports-policing-complaints-2023\">2023</a></p><p class=\"mb-16\"><a class=\"text-primary500 cursor-pointer\" href=\"https://sf.gov/resource/2022/reports-policing-complaints-2022\">2022</a></p><p class=\"mb-16\"><a class=\"text-primary500 cursor-pointer\" href=\"https://sf.gov/resource/2021/2021-reports-complaints-against-police\">2021</a></p><p class=\"mb-16\"><a class=\"text-primary500 cursor-pointer\" href=\"https://wayback.archive-it.org/org-571/3/https://sfgov.org/dpa/reports-statistics#2020\">2020</a></p><p class=\"mb-16\"><a class=\"text-primary500 cursor-pointer\" href=\"https://wayback.archive-it.org/org-571/3/https://sfgov.org/dpa/reports-statistics#2019\">2019</a>&nbsp;</p><p class=\"mb-16\"><a class=\"text-primary500 cursor-pointer\" href=\"https://wayback.archive-it.org/org-571/3/https://sfgov.org/dpa/reports-statistics#2018\">2018</a></p><p class=\"mb-16\"><a class=\"text-primary500 cursor-pointer\" href=\"https://wayback.archive-it.org/org-571/3/https://sfgov.org/dpa/reports-statistics#2017\">2017</a></p><p class=\"\"><a class=\"text-primary500 cursor-pointer\" href=\"https://wayback.archive-it.org/org-571/3/https://sfgov.org/dpa/reports-statistics#2016\">2016</a></p></section><section class=\"flex flex-col gap-y-12\" data-testid=\"block-947fa67b-2c83-4072-b2ac-7d21cee38c33\"><h2 class=\"font-slab text-heading-xxl lg:text-desktop-heading-xxl text-neutral900 mb-space-body\" id=\"\">Audit Reports</h2><p class=\"mb-16\">The DPA Audit Division conducts performance audits of the San Francisco Police Department.</p><p class=\"\"><a class=\"text-primary500 cursor-pointer\" href=\"https://sf.gov/departments/department-police-accountability/audit-division\">Audit Reports</a></p></section><section class=\"flex flex-col gap-y-12\" data-testid=\"block-9f7d1c6d-5902-49c6-a3f6-2e4e16448a4e\"><h2 class=\"font-slab text-heading-xxl lg:text-desktop-heading-xxl text-neutral900 mb-space-body\" id=\"\">SB 1421 Records</h2><p class=\"mb-16\">The DPA Public Records division is responsible for releasing Senate Bill 1421 cases.</p><p class=\"mb-16\"><a class=\"text-primary500 cursor-pointer\" href=\"https://www.sf.gov/records-of-released-officer-involved-shooting-case-files\">SB1421 Officer Involved Shooting Records</a></p><p class=\"\"><a class=\"text-primary500 cursor-pointer\" href=\"https://sf.gov/resource/2021/dpa-released-sb-1421-records-0\">SB1421 Great Bodily Injury Records</a></p></section><section class=\"flex flex-col gap-y-12\" data-testid=\"block-492bcfb7-c760-4d0b-a6e9-6883bcd42122\"><h2 class=\"font-slab text-heading-xxl lg:text-desktop-heading-xxl text-neutral900 mb-space-body\" id=\"\">SB 16 Records</h2><p class=\"mb-16\"><a class=\"text-primary500 cursor-pointer\" href=\"https://sf.gov/resource/2022/records-released-unlawful-arrest-or-search-case\">SB16 Unlawful Arrest or Search Records</a></p><p class=\"mb-16\"><a class=\"text-primary500 cursor-pointer\" href=\"https://sf.gov/resource/2022/biased-policing\">SB16 Biased Policing</a></p><p class=\"\"><a class=\"text-primary500 cursor-pointer\" href=\"https://sf.gov/resource/2023/sb-16-excessive-or-unnecessary-force\">SB 16 Excessive or Unnecessary Force</a></p></section></span><div id=\"divisions\"><h2 class=\"font-slab text-heading-xxl lg:text-desktop-heading-xxl text-neutral900 mb-space-body !mb-20\">Departments</h2><div class=\"flex flex-col md:grid gap-x-28 md:grid-cols-3 \"><div class=\" pb-20 md:[&amp;:nth-child(3n+1)]:border-r-1  md:[&amp;:nth-child(3n+1)]:pr-28 md:[&amp;:nth-child(3n)]:border-l-1  md:[&amp;:only-child]:border-r-0 md:border-neutral200 md:[&amp;:not(:nth-child(3n+1))]:pl-28  \"><a class=\"text-primary500\" href=\"/departments--department-police-accountability\">Department of Police Accountability</a></div><div class=\" pb-20 md:[&amp;:nth-child(3n+1)]:border-r-1  md:[&amp;:nth-child(3n+1)]:pr-28 md:[&amp;:nth-child(3n)]:border-l-1  md:[&amp;:only-child]:border-r-0 md:border-neutral200 md:[&amp;:not(:nth-child(3n+1))]:pl-28  \"><a class=\"text-primary500\" href=\"/departments--police-department\">Police Department</a></div><div class=\" pb-20 md:[&amp;:nth-child(3n+1)]:border-r-1  md:[&amp;:nth-child(3n+1)]:pr-28 md:[&amp;:nth-child(3n)]:border-l-1  md:[&amp;:only-child]:border-r-0 md:border-neutral200 md:[&amp;:not(:nth-child(3n+1))]:pl-28  \"><a class=\"text-primary500\" href=\"/departments--sheriffs-office\">Sheriff's Office</a></div></div></div></div>\n",
    "\n",
    "The specific section we want, as an element copied from the webpage:\n",
    "> <section class=\"flex flex-col gap-y-12\" data-testid=\"block-901d7f67-7fb4-4474-bc9a-9161f38c12d4\"><p class=\"mb-16\">The Department of Public Accountability (DPA) reports on the complaints we receive about police officers.&nbsp;</p><p class=\"mb-16\">These reports summarize DPA activities. They do not include any identifying information about the people involved.&nbsp;</p><p class=\"mb-16\"><a class=\"text-primary500 cursor-pointer\" href=\"https://www.sf.gov/resource--2025--reports-policing-complaints-2025\">2025</a></p><p class=\"mb-16\"><a class=\"text-primary500 cursor-pointer\" href=\"https://www.sf.gov/resource/2024/reports-policing-complaints-2024\">2024</a></p><p class=\"mb-16\"><a class=\"text-primary500 cursor-pointer\" href=\"https://sf.gov/resource/2023/reports-policing-complaints-2023\">2023</a></p><p class=\"mb-16\"><a class=\"text-primary500 cursor-pointer\" href=\"https://sf.gov/resource/2022/reports-policing-complaints-2022\">2022</a></p><p class=\"mb-16\"><a class=\"text-primary500 cursor-pointer\" href=\"https://sf.gov/resource/2021/2021-reports-complaints-against-police\">2021</a></p><p class=\"mb-16\"><a class=\"text-primary500 cursor-pointer\" href=\"https://wayback.archive-it.org/org-571/3/https://sfgov.org/dpa/reports-statistics#2020\">2020</a></p><p class=\"mb-16\"><a class=\"text-primary500 cursor-pointer\" href=\"https://wayback.archive-it.org/org-571/3/https://sfgov.org/dpa/reports-statistics#2019\">2019</a>&nbsp;</p><p class=\"mb-16\"><a class=\"text-primary500 cursor-pointer\" href=\"https://wayback.archive-it.org/org-571/3/https://sfgov.org/dpa/reports-statistics#2018\">2018</a></p><p class=\"mb-16\"><a class=\"text-primary500 cursor-pointer\" href=\"https://wayback.archive-it.org/org-571/3/https://sfgov.org/dpa/reports-statistics#2017\">2017</a></p><p class=\"\"><a class=\"text-primary500 cursor-pointer\" href=\"https://wayback.archive-it.org/org-571/3/https://sfgov.org/dpa/reports-statistics#2016\">2016</a></p></section>"
   ]
  },
  {
   "cell_type": "code",
   "execution_count": 17,
   "id": "1b13b2ce-d0d7-4bfc-bc34-80b0cf2a9053",
   "metadata": {},
   "outputs": [
    {
     "data": {
      "text/plain": [
       "[]"
      ]
     },
     "execution_count": 17,
     "metadata": {},
     "output_type": "execute_result"
    }
   ],
   "source": [
    "main_parsed.find_all(tagtype=\"div\", class_='flex flex-col gap-[36px] md:gap-28 lg:gap-40 col-span-full lg:col-span-7')"
   ]
  },
  {
   "cell_type": "markdown",
   "id": "14f8b7ff-9620-4464-a5fe-bdc7cda43cb6",
   "metadata": {},
   "source": [
    "### Okay, this filtering is still not capturing the expected section of the page. Let's review the `find_all()` method and see if we can drop the tagtype parameter."
   ]
  },
  {
   "cell_type": "code",
   "execution_count": 18,
   "id": "77a31a4f-734a-4603-bccf-daf0cdc8b377",
   "metadata": {},
   "outputs": [
    {
     "data": {
      "text/plain": [
       "\u001b[0;31mSignature:\u001b[0m\n",
       "\u001b[0mmain_parsed\u001b[0m\u001b[0;34m.\u001b[0m\u001b[0mfind_all\u001b[0m\u001b[0;34m(\u001b[0m\u001b[0;34m\u001b[0m\n",
       "\u001b[0;34m\u001b[0m    \u001b[0mname\u001b[0m\u001b[0;34m=\u001b[0m\u001b[0;32mNone\u001b[0m\u001b[0;34m,\u001b[0m\u001b[0;34m\u001b[0m\n",
       "\u001b[0;34m\u001b[0m    \u001b[0mattrs\u001b[0m\u001b[0;34m=\u001b[0m\u001b[0;34m{\u001b[0m\u001b[0;34m}\u001b[0m\u001b[0;34m,\u001b[0m\u001b[0;34m\u001b[0m\n",
       "\u001b[0;34m\u001b[0m    \u001b[0mrecursive\u001b[0m\u001b[0;34m=\u001b[0m\u001b[0;32mTrue\u001b[0m\u001b[0;34m,\u001b[0m\u001b[0;34m\u001b[0m\n",
       "\u001b[0;34m\u001b[0m    \u001b[0mstring\u001b[0m\u001b[0;34m=\u001b[0m\u001b[0;32mNone\u001b[0m\u001b[0;34m,\u001b[0m\u001b[0;34m\u001b[0m\n",
       "\u001b[0;34m\u001b[0m    \u001b[0mlimit\u001b[0m\u001b[0;34m=\u001b[0m\u001b[0;32mNone\u001b[0m\u001b[0;34m,\u001b[0m\u001b[0;34m\u001b[0m\n",
       "\u001b[0;34m\u001b[0m    \u001b[0;34m**\u001b[0m\u001b[0mkwargs\u001b[0m\u001b[0;34m,\u001b[0m\u001b[0;34m\u001b[0m\n",
       "\u001b[0;34m\u001b[0m\u001b[0;34m)\u001b[0m\u001b[0;34m\u001b[0m\u001b[0;34m\u001b[0m\u001b[0m\n",
       "\u001b[0;31mDocstring:\u001b[0m\n",
       "Look in the children of this PageElement and find all\n",
       "PageElements that match the given criteria.\n",
       "\n",
       "All find_* methods take a common set of arguments. See the online\n",
       "documentation for detailed explanations.\n",
       "\n",
       ":param name: A filter on tag name.\n",
       ":param attrs: A dictionary of filters on attribute values.\n",
       ":param recursive: If this is True, find_all() will perform a\n",
       "    recursive search of this PageElement's children. Otherwise,\n",
       "    only the direct children will be considered.\n",
       ":param limit: Stop looking after finding this many results.\n",
       ":kwargs: A dictionary of filters on attribute values.\n",
       ":return: A ResultSet of PageElements.\n",
       ":rtype: bs4.element.ResultSet\n",
       "\u001b[0;31mFile:\u001b[0m      ~/opt/miniconda3/lib/python3.12/site-packages/bs4/element.py\n",
       "\u001b[0;31mType:\u001b[0m      method"
      ]
     },
     "metadata": {},
     "output_type": "display_data"
    }
   ],
   "source": [
    "main_parsed.find_all?"
   ]
  },
  {
   "cell_type": "code",
   "execution_count": 19,
   "id": "70836716-61cf-48f5-8402-a7070cd36292",
   "metadata": {},
   "outputs": [
    {
     "data": {
      "text/plain": [
       "[<div class=\"flex flex-col gap-[36px] md:gap-28 lg:gap-40 col-span-full lg:col-span-7\"><span as=\"main\" class=\"flex flex-col space-y-40\"><section class=\"flex flex-col gap-y-12\" data-testid=\"block-901d7f67-7fb4-4474-bc9a-9161f38c12d4\"><p class=\"mb-16\">The Department of Public Accountability (DPA) reports on the complaints we receive about police officers. </p><p class=\"mb-16\">These reports summarize DPA activities. They do not include any identifying information about the people involved. </p><p class=\"mb-16\"><a class=\"text-primary500 cursor-pointer\" href=\"https://www.sf.gov/resource--2025--reports-policing-complaints-2025\">2025</a></p><p class=\"mb-16\"><a class=\"text-primary500 cursor-pointer\" href=\"https://www.sf.gov/resource/2024/reports-policing-complaints-2024\">2024</a></p><p class=\"mb-16\"><a class=\"text-primary500 cursor-pointer\" href=\"https://sf.gov/resource/2023/reports-policing-complaints-2023\">2023</a></p><p class=\"mb-16\"><a class=\"text-primary500 cursor-pointer\" href=\"https://sf.gov/resource/2022/reports-policing-complaints-2022\">2022</a></p><p class=\"mb-16\"><a class=\"text-primary500 cursor-pointer\" href=\"https://sf.gov/resource/2021/2021-reports-complaints-against-police\">2021</a></p><p class=\"mb-16\"><a class=\"text-primary500 cursor-pointer\" href=\"https://wayback.archive-it.org/org-571/3/https://sfgov.org/dpa/reports-statistics#2020\">2020</a></p><p class=\"mb-16\"><a class=\"text-primary500 cursor-pointer\" href=\"https://wayback.archive-it.org/org-571/3/https://sfgov.org/dpa/reports-statistics#2019\">2019</a> </p><p class=\"mb-16\"><a class=\"text-primary500 cursor-pointer\" href=\"https://wayback.archive-it.org/org-571/3/https://sfgov.org/dpa/reports-statistics#2018\">2018</a></p><p class=\"mb-16\"><a class=\"text-primary500 cursor-pointer\" href=\"https://wayback.archive-it.org/org-571/3/https://sfgov.org/dpa/reports-statistics#2017\">2017</a></p><p class=\"\"><a class=\"text-primary500 cursor-pointer\" href=\"https://wayback.archive-it.org/org-571/3/https://sfgov.org/dpa/reports-statistics#2016\">2016</a></p></section><section class=\"flex flex-col gap-y-12\" data-testid=\"block-947fa67b-2c83-4072-b2ac-7d21cee38c33\"><h2 class=\"font-slab text-heading-xxl lg:text-desktop-heading-xxl text-neutral900 mb-space-body\" id=\"\">Audit Reports</h2><p class=\"mb-16\">The DPA Audit Division conducts performance audits of the San Francisco Police Department.</p><p class=\"\"><a class=\"text-primary500 cursor-pointer\" href=\"https://sf.gov/departments/department-police-accountability/audit-division\">Audit Reports</a></p></section><section class=\"flex flex-col gap-y-12\" data-testid=\"block-9f7d1c6d-5902-49c6-a3f6-2e4e16448a4e\"><h2 class=\"font-slab text-heading-xxl lg:text-desktop-heading-xxl text-neutral900 mb-space-body\" id=\"\">SB 1421 Records</h2><p class=\"mb-16\">The DPA Public Records division is responsible for releasing Senate Bill 1421 cases.</p><p class=\"mb-16\"><a class=\"text-primary500 cursor-pointer\" href=\"https://www.sf.gov/records-of-released-officer-involved-shooting-case-files\">SB1421 Officer Involved Shooting Records</a></p><p class=\"\"><a class=\"text-primary500 cursor-pointer\" href=\"https://sf.gov/resource/2021/dpa-released-sb-1421-records-0\">SB1421 Great Bodily Injury Records</a></p></section><section class=\"flex flex-col gap-y-12\" data-testid=\"block-492bcfb7-c760-4d0b-a6e9-6883bcd42122\"><h2 class=\"font-slab text-heading-xxl lg:text-desktop-heading-xxl text-neutral900 mb-space-body\" id=\"\">SB 16 Records</h2><p class=\"mb-16\"><a class=\"text-primary500 cursor-pointer\" href=\"https://sf.gov/resource/2022/records-released-unlawful-arrest-or-search-case\">SB16 Unlawful Arrest or Search Records</a></p><p class=\"mb-16\"><a class=\"text-primary500 cursor-pointer\" href=\"https://sf.gov/resource/2022/biased-policing\">SB16 Biased Policing</a></p><p class=\"\"><a class=\"text-primary500 cursor-pointer\" href=\"https://sf.gov/resource/2023/sb-16-excessive-or-unnecessary-force\">SB 16 Excessive or Unnecessary Force</a></p></section></span><div id=\"divisions\"><h2 class=\"font-slab text-heading-xxl lg:text-desktop-heading-xxl text-neutral900 mb-space-body !mb-20\">Departments</h2><div class=\"flex flex-col md:grid gap-x-28 md:grid-cols-3\"><div class=\"pb-20 md:[&amp;:nth-child(3n+1)]:border-r-1 md:[&amp;:nth-child(3n+1)]:pr-28 md:[&amp;:nth-child(3n)]:border-l-1 md:[&amp;:only-child]:border-r-0 md:border-neutral200 md:[&amp;:not(:nth-child(3n+1))]:pl-28\"><a class=\"text-primary500\" href=\"/departments--department-police-accountability\">Department of Police Accountability</a></div><div class=\"pb-20 md:[&amp;:nth-child(3n+1)]:border-r-1 md:[&amp;:nth-child(3n+1)]:pr-28 md:[&amp;:nth-child(3n)]:border-l-1 md:[&amp;:only-child]:border-r-0 md:border-neutral200 md:[&amp;:not(:nth-child(3n+1))]:pl-28\"><a class=\"text-primary500\" href=\"/departments--police-department\">Police Department</a></div><div class=\"pb-20 md:[&amp;:nth-child(3n+1)]:border-r-1 md:[&amp;:nth-child(3n+1)]:pr-28 md:[&amp;:nth-child(3n)]:border-l-1 md:[&amp;:only-child]:border-r-0 md:border-neutral200 md:[&amp;:not(:nth-child(3n+1))]:pl-28\"><a class=\"text-primary500\" href=\"/departments--sheriffs-office\">Sheriff's Office</a></div></div></div></div>]"
      ]
     },
     "execution_count": 19,
     "metadata": {},
     "output_type": "execute_result"
    }
   ],
   "source": [
    "main_parsed.find_all(class_='flex flex-col gap-[36px] md:gap-28 lg:gap-40 col-span-full lg:col-span-7')"
   ]
  },
  {
   "cell_type": "markdown",
   "id": "30986a94-cbef-48c5-8ab4-4f8b5be54564",
   "metadata": {},
   "source": [
    "### the section we're extracting with the above function call, as an element\n",
    "\n",
    "><div class=\"flex flex-col gap-[36px] md:gap-28 lg:gap-40 col-span-full lg:col-span-7\"><span as=\"main\" class=\"flex flex-col space-y-40\"><section class=\"flex flex-col gap-y-12\" data-testid=\"block-901d7f67-7fb4-4474-bc9a-9161f38c12d4\"><p class=\"mb-16\">The Department of Public Accountability (DPA) reports on the complaints we receive about police officers. </p><p class=\"mb-16\">These reports summarize DPA activities. They do not include any identifying information about the people involved. </p><p class=\"mb-16\"><a class=\"text-primary500 cursor-pointer\" href=\"https://www.sf.gov/resource--2025--reports-policing-complaints-2025\">2025</a></p><p class=\"mb-16\"><a class=\"text-primary500 cursor-pointer\" href=\"https://www.sf.gov/resource/2024/reports-policing-complaints-2024\">2024</a></p><p class=\"mb-16\"><a class=\"text-primary500 cursor-pointer\" href=\"https://sf.gov/resource/2023/reports-policing-complaints-2023\">2023</a></p><p class=\"mb-16\"><a class=\"text-primary500 cursor-pointer\" href=\"https://sf.gov/resource/2022/reports-policing-complaints-2022\">2022</a></p><p class=\"mb-16\"><a class=\"text-primary500 cursor-pointer\" href=\"https://sf.gov/resource/2021/2021-reports-complaints-against-police\">2021</a></p><p class=\"mb-16\"><a class=\"text-primary500 cursor-pointer\" href=\"https://wayback.archive-it.org/org-571/3/https://sfgov.org/dpa/reports-statistics#2020\">2020</a></p><p class=\"mb-16\"><a class=\"text-primary500 cursor-pointer\" href=\"https://wayback.archive-it.org/org-571/3/https://sfgov.org/dpa/reports-statistics#2019\">2019</a> </p><p class=\"mb-16\"><a class=\"text-primary500 cursor-pointer\" href=\"https://wayback.archive-it.org/org-571/3/https://sfgov.org/dpa/reports-statistics#2018\">2018</a></p><p class=\"mb-16\"><a class=\"text-primary500 cursor-pointer\" href=\"https://wayback.archive-it.org/org-571/3/https://sfgov.org/dpa/reports-statistics#2017\">2017</a></p><p class=\"\"><a class=\"text-primary500 cursor-pointer\" href=\"https://wayback.archive-it.org/org-571/3/https://sfgov.org/dpa/reports-statistics#2016\">2016</a></p></section><section class=\"flex flex-col gap-y-12\" data-testid=\"block-947fa67b-2c83-4072-b2ac-7d21cee38c33\"><h2 class=\"font-slab text-heading-xxl lg:text-desktop-heading-xxl text-neutral900 mb-space-body\" id=\"\">Audit Reports</h2><p class=\"mb-16\">The DPA Audit Division conducts performance audits of the San Francisco Police Department.</p><p class=\"\"><a class=\"text-primary500 cursor-pointer\" href=\"https://sf.gov/departments/department-police-accountability/audit-division\">Audit Reports</a></p></section><section class=\"flex flex-col gap-y-12\" data-testid=\"block-9f7d1c6d-5902-49c6-a3f6-2e4e16448a4e\"><h2 class=\"font-slab text-heading-xxl lg:text-desktop-heading-xxl text-neutral900 mb-space-body\" id=\"\">SB 1421 Records</h2><p class=\"mb-16\">The DPA Public Records division is responsible for releasing Senate Bill 1421 cases.</p><p class=\"mb-16\"><a class=\"text-primary500 cursor-pointer\" href=\"https://www.sf.gov/records-of-released-officer-involved-shooting-case-files\">SB1421 Officer Involved Shooting Records</a></p><p class=\"\"><a class=\"text-primary500 cursor-pointer\" href=\"https://sf.gov/resource/2021/dpa-released-sb-1421-records-0\">SB1421 Great Bodily Injury Records</a></p></section><section class=\"flex flex-col gap-y-12\" data-testid=\"block-492bcfb7-c760-4d0b-a6e9-6883bcd42122\"><h2 class=\"font-slab text-heading-xxl lg:text-desktop-heading-xxl text-neutral900 mb-space-body\" id=\"\">SB 16 Records</h2><p class=\"mb-16\"><a class=\"text-primary500 cursor-pointer\" href=\"https://sf.gov/resource/2022/records-released-unlawful-arrest-or-search-case\">SB16 Unlawful Arrest or Search Records</a></p><p class=\"mb-16\"><a class=\"text-primary500 cursor-pointer\" href=\"https://sf.gov/resource/2022/biased-policing\">SB16 Biased Policing</a></p><p class=\"\"><a class=\"text-primary500 cursor-pointer\" href=\"https://sf.gov/resource/2023/sb-16-excessive-or-unnecessary-force\">SB 16 Excessive or Unnecessary Force</a></p></section></span><div id=\"divisions\"><h2 class=\"font-slab text-heading-xxl lg:text-desktop-heading-xxl text-neutral900 mb-space-body !mb-20\">Departments</h2><div class=\"flex flex-col md:grid gap-x-28 md:grid-cols-3\"><div class=\"pb-20 md:[&amp;:nth-child(3n+1)]:border-r-1 md:[&amp;:nth-child(3n+1)]:pr-28 md:[&amp;:nth-child(3n)]:border-l-1 md:[&amp;:only-child]:border-r-0 md:border-neutral200 md:[&amp;:not(:nth-child(3n+1))]:pl-28\"><a class=\"text-primary500\" href=\"/departments--department-police-accountability\">Department of Police Accountability</a></div><div class=\"pb-20 md:[&amp;:nth-child(3n+1)]:border-r-1 md:[&amp;:nth-child(3n+1)]:pr-28 md:[&amp;:nth-child(3n)]:border-l-1 md:[&amp;:only-child]:border-r-0 md:border-neutral200 md:[&amp;:not(:nth-child(3n+1))]:pl-28\"><a class=\"text-primary500\" href=\"/departments--police-department\">Police Department</a></div><div class=\"pb-20 md:[&amp;:nth-child(3n+1)]:border-r-1 md:[&amp;:nth-child(3n+1)]:pr-28 md:[&amp;:nth-child(3n)]:border-l-1 md:[&amp;:only-child]:border-r-0 md:border-neutral200 md:[&amp;:not(:nth-child(3n+1))]:pl-28\"><a class=\"text-primary500\" href=\"/departments--sheriffs-office\">Sheriff's Office</a></div></div></div></div>"
   ]
  },
  {
   "cell_type": "markdown",
   "id": "f49ae77d-e924-446d-93bb-efe8c3687680",
   "metadata": {},
   "source": [
    "### Okay, we're back in business.\n",
    "\n",
    "Still, we'd like to just capture the section with the info we want, so we don't burden the downstream steps with unexpected report types.\n",
    "\n",
    "### Let's try with the classname from the specific section's element."
   ]
  },
  {
   "cell_type": "code",
   "execution_count": 20,
   "id": "cff47b54-b323-4997-a34b-46d126709cc5",
   "metadata": {},
   "outputs": [
    {
     "data": {
      "text/plain": [
       "<section class=\"flex flex-col gap-y-12\" data-testid=\"block-901d7f67-7fb4-4474-bc9a-9161f38c12d4\"><p class=\"mb-16\">The Department of Public Accountability (DPA) reports on the complaints we receive about police officers. </p><p class=\"mb-16\">These reports summarize DPA activities. They do not include any identifying information about the people involved. </p><p class=\"mb-16\"><a class=\"text-primary500 cursor-pointer\" href=\"https://www.sf.gov/resource--2025--reports-policing-complaints-2025\">2025</a></p><p class=\"mb-16\"><a class=\"text-primary500 cursor-pointer\" href=\"https://www.sf.gov/resource/2024/reports-policing-complaints-2024\">2024</a></p><p class=\"mb-16\"><a class=\"text-primary500 cursor-pointer\" href=\"https://sf.gov/resource/2023/reports-policing-complaints-2023\">2023</a></p><p class=\"mb-16\"><a class=\"text-primary500 cursor-pointer\" href=\"https://sf.gov/resource/2022/reports-policing-complaints-2022\">2022</a></p><p class=\"mb-16\"><a class=\"text-primary500 cursor-pointer\" href=\"https://sf.gov/resource/2021/2021-reports-complaints-against-police\">2021</a></p><p class=\"mb-16\"><a class=\"text-primary500 cursor-pointer\" href=\"https://wayback.archive-it.org/org-571/3/https://sfgov.org/dpa/reports-statistics#2020\">2020</a></p><p class=\"mb-16\"><a class=\"text-primary500 cursor-pointer\" href=\"https://wayback.archive-it.org/org-571/3/https://sfgov.org/dpa/reports-statistics#2019\">2019</a> </p><p class=\"mb-16\"><a class=\"text-primary500 cursor-pointer\" href=\"https://wayback.archive-it.org/org-571/3/https://sfgov.org/dpa/reports-statistics#2018\">2018</a></p><p class=\"mb-16\"><a class=\"text-primary500 cursor-pointer\" href=\"https://wayback.archive-it.org/org-571/3/https://sfgov.org/dpa/reports-statistics#2017\">2017</a></p><p class=\"\"><a class=\"text-primary500 cursor-pointer\" href=\"https://wayback.archive-it.org/org-571/3/https://sfgov.org/dpa/reports-statistics#2016\">2016</a></p></section>"
      ]
     },
     "execution_count": 20,
     "metadata": {},
     "output_type": "execute_result"
    }
   ],
   "source": [
    "main_parsed.find_all(class_='flex flex-col gap-y-12')[0]"
   ]
  },
  {
   "cell_type": "markdown",
   "id": "f35c2771-2aef-4e69-b26b-aa96540e8980",
   "metadata": {},
   "source": [
    "### The first item found when used the narrower classname, as an element\n",
    "\n",
    "><section class=\"flex flex-col gap-y-12\" data-testid=\"block-901d7f67-7fb4-4474-bc9a-9161f38c12d4\"><p class=\"mb-16\">The Department of Public Accountability (DPA) reports on the complaints we receive about police officers. </p><p class=\"mb-16\">These reports summarize DPA activities. They do not include any identifying information about the people involved. </p><p class=\"mb-16\"><a class=\"text-primary500 cursor-pointer\" href=\"https://www.sf.gov/resource--2025--reports-policing-complaints-2025\">2025</a></p><p class=\"mb-16\"><a class=\"text-primary500 cursor-pointer\" href=\"https://www.sf.gov/resource/2024/reports-policing-complaints-2024\">2024</a></p><p class=\"mb-16\"><a class=\"text-primary500 cursor-pointer\" href=\"https://sf.gov/resource/2023/reports-policing-complaints-2023\">2023</a></p><p class=\"mb-16\"><a class=\"text-primary500 cursor-pointer\" href=\"https://sf.gov/resource/2022/reports-policing-complaints-2022\">2022</a></p><p class=\"mb-16\"><a class=\"text-primary500 cursor-pointer\" href=\"https://sf.gov/resource/2021/2021-reports-complaints-against-police\">2021</a></p><p class=\"mb-16\"><a class=\"text-primary500 cursor-pointer\" href=\"https://wayback.archive-it.org/org-571/3/https://sfgov.org/dpa/reports-statistics#2020\">2020</a></p><p class=\"mb-16\"><a class=\"text-primary500 cursor-pointer\" href=\"https://wayback.archive-it.org/org-571/3/https://sfgov.org/dpa/reports-statistics#2019\">2019</a> </p><p class=\"mb-16\"><a class=\"text-primary500 cursor-pointer\" href=\"https://wayback.archive-it.org/org-571/3/https://sfgov.org/dpa/reports-statistics#2018\">2018</a></p><p class=\"mb-16\"><a class=\"text-primary500 cursor-pointer\" href=\"https://wayback.archive-it.org/org-571/3/https://sfgov.org/dpa/reports-statistics#2017\">2017</a></p><p class=\"\"><a class=\"text-primary500 cursor-pointer\" href=\"https://wayback.archive-it.org/org-571/3/https://sfgov.org/dpa/reports-statistics#2016\">2016</a></p></section>"
   ]
  },
  {
   "cell_type": "markdown",
   "id": "aceb8f62-6ea3-4b5e-b6b9-ba842e6a6b0b",
   "metadata": {},
   "source": [
    "### Perfect. Okay, time to update the methods in the scrape script."
   ]
  },
  {
   "cell_type": "code",
   "execution_count": 21,
   "id": "dc578a25-1d46-43a6-88b6-0e6b70f3f8f7",
   "metadata": {},
   "outputs": [],
   "source": [
    "def find_content(parsed, classname, kw):\n",
    "    # there are other sections on the page outside this scope\n",
    "    if classname:\n",
    "        tags = parsed.find_all(class_=classname)\n",
    "    else:\n",
    "        tags = parsed.find_all()\n",
    "    if kw:\n",
    "        return [link['href'] for tag in tags for link in tag.find_all(\"a\")\n",
    "                 if kw in tag.text.lower()]\n",
    "    return [link['href'] for tag in tags for link in tag.find_all(\"a\")]\n",
    "\n",
    "\n",
    "def find_complaint_years(parsed, classname=\"flex flex-col gap-y-12\", kw=\"complaints\"):\n",
    "    return find_content(parsed, classname, kw)"
   ]
  },
  {
   "cell_type": "code",
   "execution_count": 22,
   "id": "0e323631-5c9e-48d9-b3c2-15d2b08c9cc0",
   "metadata": {},
   "outputs": [
    {
     "name": "stdout",
     "output_type": "stream",
     "text": [
      "page url:\thttps://sf.gov/information/reports-policing-complaints\n",
      "page title:\tReports on policing complaints | SF.gov\n",
      "\n",
      "page url:\thttps://www.sf.gov/resource--2025--reports-policing-complaints-2025\n",
      "page title:\tReports on policing complaints in 2025 | SF.gov\n",
      "\n",
      "page url:\thttps://www.sf.gov/resource/2024/reports-policing-complaints-2024\n",
      "page title:\tReports on policing complaints in 2024 | SF.gov\n",
      "\n",
      "page url:\thttps://sf.gov/resource/2023/reports-policing-complaints-2023\n",
      "page title:\tReports on policing complaints in 2023 | SF.gov\n",
      "\n",
      "page url:\thttps://sf.gov/resource/2022/reports-policing-complaints-2022\n",
      "page title:\tReports on policing complaints in 2022 | SF.gov\n",
      "\n",
      "page url:\thttps://sf.gov/resource/2021/2021-reports-complaints-against-police\n",
      "page title:\tReports on policing complaints in 2021 | SF.gov\n",
      "\n",
      "page url:\thttps://wayback.archive-it.org/org-571/3/https://sfgov.org/dpa/reports-statistics#2020\n",
      "page title:\tReports & Statistics | Department of Police Accountability\n",
      "\n",
      "page url:\thttps://wayback.archive-it.org/org-571/3/https://sfgov.org/dpa/reports-statistics#2019\n",
      "page title:\tReports & Statistics | Department of Police Accountability\n",
      "\n",
      "page url:\thttps://wayback.archive-it.org/org-571/3/https://sfgov.org/dpa/reports-statistics#2018\n",
      "page title:\tReports & Statistics | Department of Police Accountability\n",
      "\n",
      "page url:\thttps://wayback.archive-it.org/org-571/3/https://sfgov.org/dpa/reports-statistics#2017\n",
      "page title:\tReports & Statistics | Department of Police Accountability\n",
      "\n",
      "page url:\thttps://wayback.archive-it.org/org-571/3/https://sfgov.org/dpa/reports-statistics#2016\n",
      "page title:\tReports & Statistics | Department of Police Accountability\n",
      "\n"
     ]
    }
   ],
   "source": [
    "# read data, initial verification\n",
    "expected = [str(year) for year in range(2020, 2026, 1)]\n",
    "main_parsed = parse_link(\"https://sf.gov/information/reports-policing-complaints\")\n",
    "\n",
    "# find_content() and find_complaint_years() take us from 1 home page link\n",
    "# with other stuff on the page we don't want to scrape\n",
    "# to a dict of years and the associated urls for that year's complaint reports\n",
    "yearly_links = find_complaint_years(main_parsed)\n",
    "yearly_links = sort_links_by_year(yearly_links)\n",
    "\n",
    "# initial parsing of the links for complaint reports\n",
    "years_parsed = {year: parse_link(link)\n",
    "                for year, link in yearly_links.items()}\n",
    "\n",
    "# since the 2020 link goes to the wayback page\n",
    "# and the wayback page just organizes the years (1998, 2021) by anchors\n",
    "# we can just read 2020 and collect all the pdfs\n",
    "yearly_pdf_links = {year: [tag[\"href\"]\n",
    "                           for tag in parsed.find_all(href=openness_files)]\n",
    "                    for year, parsed in years_parsed.items()\n",
    "                    if year in expected}\n",
    "yearly_pdf_links = {year:\n",
    "                    add_domain(parsed, domain=\"https://sf.gov\")\n",
    "                    if year in (\"2025\", \"2024\", \"2023\", \"2022\", \"2021\")\n",
    "                    else add_domain(parsed, domain=\"https://wayback.archive-it.org\")\n",
    "                    for year, parsed in yearly_pdf_links.items()}\n",
    "#ref_table = download_yearly_pdfs(yearly_pdf_links, output_dir)\n",
    "#ref_table['fileid'] = ref_table.pdf_file.apply(hashid)"
   ]
  },
  {
   "cell_type": "code",
   "execution_count": 23,
   "id": "aae2db30-c173-4030-bb29-e007ad7e3ad9",
   "metadata": {},
   "outputs": [
    {
     "data": {
      "text/plain": [
       "{'2025': 'https://www.sf.gov/resource--2025--reports-policing-complaints-2025',\n",
       " '2024': 'https://www.sf.gov/resource/2024/reports-policing-complaints-2024',\n",
       " '2023': 'https://sf.gov/resource/2023/reports-policing-complaints-2023',\n",
       " '2022': 'https://sf.gov/resource/2022/reports-policing-complaints-2022',\n",
       " '2021': 'https://sf.gov/resource/2021/2021-reports-complaints-against-police',\n",
       " '2020': 'https://wayback.archive-it.org/org-571/3/https://sfgov.org/dpa/reports-statistics#2020',\n",
       " '2019': 'https://wayback.archive-it.org/org-571/3/https://sfgov.org/dpa/reports-statistics#2019',\n",
       " '2018': 'https://wayback.archive-it.org/org-571/3/https://sfgov.org/dpa/reports-statistics#2018',\n",
       " '2017': 'https://wayback.archive-it.org/org-571/3/https://sfgov.org/dpa/reports-statistics#2017',\n",
       " '2016': 'https://wayback.archive-it.org/org-571/3/https://sfgov.org/dpa/reports-statistics#2016'}"
      ]
     },
     "execution_count": 23,
     "metadata": {},
     "output_type": "execute_result"
    }
   ],
   "source": [
    "yearly_links"
   ]
  },
  {
   "cell_type": "code",
   "execution_count": 24,
   "id": "037d62af-f99a-4e50-8b21-99860cd66eb4",
   "metadata": {},
   "outputs": [
    {
     "data": {
      "text/plain": [
       "{'2025': [],\n",
       " '2024': ['https://sf.govhttps://media.api.sf.gov/documents/Jan_Openness_24.xlsx.pdf',\n",
       "  'https://sf.govhttps://media.api.sf.gov/documents/Feb_Openness.pdf',\n",
       "  'https://sf.govhttps://media.api.sf.gov/documents/CSR_03-24_Redact_0.pdf',\n",
       "  'https://sf.govhttps://media.api.sf.gov/documents/CSR_Redacted_4.24_0.pdf',\n",
       "  'https://sf.govhttps://media.api.sf.gov/documents/CSR_Redacted_05_-2024.pdf',\n",
       "  'https://sf.govhttps://media.api.sf.gov/documents/Readacted_CSR_6-2024.pdf',\n",
       "  'https://sf.govhttps://media.api.sf.gov/documents/CSR_Redacted_07.2024.pdf',\n",
       "  'https://sf.govhttps://media.api.sf.gov/documents/August_2024_openness_cases.pdf',\n",
       "  'https://sf.govhttps://media.api.sf.gov/documents/Sept_Openness_2024.pdf',\n",
       "  'https://sf.govhttps://media.api.sf.gov/documents/Oct_Openness_2024.pdf',\n",
       "  'https://sf.govhttps://media.api.sf.gov/documents/Nov_openness_2024_SDYnXrN.pdf',\n",
       "  'https://sf.govhttps://media.api.sf.gov/documents/Dec_Openness_2024.pdf'],\n",
       " '2023': ['https://sf.govhttps://media.api.sf.gov/documents/Openness_report_Jan_23_HvM9ghK.pdf',\n",
       "  'https://sf.govhttps://media.api.sf.gov/documents/Openness_report_Feb_23_8ICYgIA.pdf',\n",
       "  'https://sf.govhttps://media.api.sf.gov/documents/Openness_March.pdf',\n",
       "  'https://sf.govhttps://media.api.sf.gov/documents/Openness_April.pdf',\n",
       "  'https://sf.govhttps://media.api.sf.gov/documents/Openness_May.pdf',\n",
       "  'https://sf.govhttps://media.api.sf.gov/documents/June_Openness_4vStELr.pdf',\n",
       "  'https://sf.govhttps://media.api.sf.gov/documents/Jul23_Openness.pdf',\n",
       "  'https://sf.govhttps://media.api.sf.gov/documents/DPA_08_2023_openness_3K9FXa1.pdf',\n",
       "  'https://sf.govhttps://media.api.sf.gov/documents/Openness_September.pdf',\n",
       "  'https://sf.govhttps://media.api.sf.gov/documents/Openness_October.pdf',\n",
       "  'https://sf.govhttps://media.api.sf.gov/documents/CSR_Redacted_2023_November.pdf',\n",
       "  'https://sf.govhttps://media.api.sf.gov/documents/CSR_Redacted_2023_December_2.pdf'],\n",
       " '2022': ['https://sf.govhttps://media.api.sf.gov/documents/DPA_01_22_openness_0_Xbei1lh.pdf',\n",
       "  'https://sf.govhttps://media.api.sf.gov/documents/DPA_02_22_openness_0_GSbEnca.pdf',\n",
       "  'https://sf.govhttps://media.api.sf.gov/documents/DPA_03_22_openness_m8cvjbo.pdf',\n",
       "  'https://sf.govhttps://media.api.sf.gov/documents/DPA_04_22_openness_0_ydutazI.pdf',\n",
       "  'https://sf.govhttps://media.api.sf.gov/documents/DPA_05_22_openness_0_G1RUCq0.pdf',\n",
       "  'https://sf.govhttps://media.api.sf.gov/documents/DPA_06_22_openness_0_nPBJdCv.pdf',\n",
       "  'https://sf.govhttps://media.api.sf.gov/documents/DPA_07_22_openness_1_1.pdf',\n",
       "  'https://sf.govhttps://media.api.sf.gov/documents/DPA_08_22_openness_1_guq5474.pdf',\n",
       "  'https://sf.govhttps://media.api.sf.gov/documents/DPA_09_22_openness_0_x7v8X4X.pdf',\n",
       "  'https://sf.govhttps://media.api.sf.gov/documents/openness_oct.xlsx.pdf',\n",
       "  'https://sf.govhttps://media.api.sf.gov/documents/Openness_Nov.pdf',\n",
       "  'https://sf.govhttps://media.api.sf.gov/documents/openness_dec.xlsx.pdf'],\n",
       " '2021': ['https://sf.govhttps://media.api.sf.gov/documents/DPA_01_21_openness_EyJwSkt.pdf',\n",
       "  'https://sf.govhttps://media.api.sf.gov/documents/DPA_02_21_openness_0_pY12QCT.pdf',\n",
       "  'https://sf.govhttps://media.api.sf.gov/documents/DPA_03_21_openness_kPeo12o.pdf',\n",
       "  'https://sf.govhttps://media.api.sf.gov/documents/DPA_04_2021_openness_7HOZYHL.pdf',\n",
       "  'https://sf.govhttps://media.api.sf.gov/documents/DPA_05_21_openness_0_VqWkKdM.pdf',\n",
       "  'https://sf.govhttps://media.api.sf.gov/documents/DPA_06_21_openness_Pp8838Z.pdf',\n",
       "  'https://sf.govhttps://media.api.sf.gov/documents/DPA_07_21_openness_p0KKjKD.pdf',\n",
       "  'https://sf.govhttps://media.api.sf.gov/documents/DPA_08_21_openness_MY9cH67.pdf',\n",
       "  'https://sf.govhttps://media.api.sf.gov/documents/DPA_09_21_openness_A1d6tUm.pdf',\n",
       "  'https://sf.govhttps://media.api.sf.gov/documents/Openness_Report_DPA_October_2021_120621.pdf',\n",
       "  'https://sf.govhttps://media.api.sf.gov/documents/Openness_Report_DPA_November_2021_0_4R0SG1F.pdf'],\n",
       " '2020': ['https://wayback.archive-it.org/org-571/20230120175459/https://sfgov.org/dpa/sites/default/files/DPA_01_21_openness.pdf',\n",
       "  'https://wayback.archive-it.org/org-571/20230120175459/https://sfgov.org/dpa/sites/default/files/DPA_02_21_openness.pdf.pdf',\n",
       "  'https://wayback.archive-it.org/org-571/20230120175459/https://sfgov.org/dpa/sites/default/files/DPA_03_21_openness.pdf',\n",
       "  'https://wayback.archive-it.org/org-571/20230120175459/https://sfgov.org/dpa/sites/default/files/DPA_04_21_openness.pdf',\n",
       "  'https://wayback.archive-it.org/org-571/20230120175459/https://sfgov.org/dpa/sites/default/files/DPA_05_21_openness.pdf',\n",
       "  'https://wayback.archive-it.org/org-571/20230120175459/https://sfgov.org/dpa/sites/default/files/DPA_06_21_openness.pdf',\n",
       "  'https://wayback.archive-it.org/org-571/20230120175459/https://sfgov.org/dpa/sites/default/files/DPA_07_21_openness.pdf',\n",
       "  'https://wayback.archive-it.org/org-571/20230120175459/https://sfgov.org/dpa/sites/default/files/DPA_01_20_openness.pdf',\n",
       "  'https://wayback.archive-it.org/org-571/20230120175459/https://sfgov.org/dpa/sites/default/files/DPA_02_20_openness.pdf',\n",
       "  'https://wayback.archive-it.org/org-571/20230120175459/https://sfgov.org/dpa/sites/default/files/DPA_03_20_openness.pdf',\n",
       "  'https://wayback.archive-it.org/org-571/20230120175459/https://sfgov.org/dpa/sites/default/files/DPA_04_20_openness.pdf',\n",
       "  'https://wayback.archive-it.org/org-571/20230120175459/https://sfgov.org/dpa/sites/default/files/DPA_05_20_openness.pdf',\n",
       "  'https://wayback.archive-it.org/org-571/20230120175459/https://sfgov.org/dpa/sites/default/files/DPA_06_20_openness.pdf',\n",
       "  'https://wayback.archive-it.org/org-571/20230120175459/https://sfgov.org/dpa/sites/default/files/DPA_07_20_openness.pdf',\n",
       "  'https://wayback.archive-it.org/org-571/20230120175459/https://sfgov.org/dpa/sites/default/files/DPA_08_20_openness.pdf',\n",
       "  'https://wayback.archive-it.org/org-571/20230120175459/https://sfgov.org/dpa/sites/default/files/DPA_09_20_openness.pdf',\n",
       "  'https://wayback.archive-it.org/org-571/20230120175459/https://sfgov.org/dpa/sites/default/files/DPA_10_20_openness.pdf',\n",
       "  'https://wayback.archive-it.org/org-571/20230120175459/https://sfgov.org/dpa/sites/default/files/DPA_11_20_openness.pdf',\n",
       "  'https://wayback.archive-it.org/org-571/20230120175459/https://sfgov.org/dpa/sites/default/files/DPA_12_20_openness.pdf',\n",
       "  'https://wayback.archive-it.org/org-571/20230120175459/https://sfgov.org/dpa/sites/default/files/DPA_01_19_openness.pdf',\n",
       "  'https://wayback.archive-it.org/org-571/20230120175459/https://sfgov.org/dpa/sites/default/files/DPA_02_19_openness.pdf',\n",
       "  'https://wayback.archive-it.org/org-571/20230120175459/https://sfgov.org/dpa/sites/default/files/DPA_03_19_openness.pdf',\n",
       "  'https://wayback.archive-it.org/org-571/20230120175459/https://sfgov.org/dpa/sites/default/files/DPA_04_19_openness.pdf',\n",
       "  'https://wayback.archive-it.org/org-571/20230120175459/https://sfgov.org/dpa/sites/default/files/DPA_05_19_openness.pdf',\n",
       "  'https://wayback.archive-it.org/org-571/20230120175459/https://sfgov.org/dpa/sites/default/files/DPA_6_19_openness.pdf',\n",
       "  'https://wayback.archive-it.org/org-571/20230120175459/https://sfgov.org/dpa/sites/default/files/DPA_07_19_openness.pdf',\n",
       "  'https://wayback.archive-it.org/org-571/20230120175459/https://sfgov.org/dpa/sites/default/files/DPA_08_19_openness.pdf',\n",
       "  'https://wayback.archive-it.org/org-571/20230120175459/https://sfgov.org/dpa/sites/default/files/DPA_09_19_openness.pdf',\n",
       "  'https://wayback.archive-it.org/org-571/20230120175459/https://sfgov.org/dpa/sites/default/files/DPA_10_19_openness.pdf',\n",
       "  'https://wayback.archive-it.org/org-571/20230120175459/https://sfgov.org/dpa/sites/default/files/DPA_11_19_openness.pdf',\n",
       "  'https://wayback.archive-it.org/org-571/20230120175459/https://sfgov.org/dpa/sites/default/files/DPA_12_19_openness.pdf',\n",
       "  'https://wayback.archive-it.org/org-571/20230120175459/https://sfgov.org/dpa/sites/default/files/DPA_01_18_openness.pdf',\n",
       "  'https://wayback.archive-it.org/org-571/20230120175459/https://sfgov.org/dpa/sites/default/files/DPA_02_18_openness.pdf',\n",
       "  'https://wayback.archive-it.org/org-571/20230120175459/https://sfgov.org/dpa/sites/default/files/DPA_03_18_openness.pdf',\n",
       "  'https://wayback.archive-it.org/org-571/20230120175459/https://sfgov.org/dpa/sites/default/files/DPA_04_18_openness.pdf',\n",
       "  'https://wayback.archive-it.org/org-571/20230120175459/https://sfgov.org/dpa/sites/default/files/DPA_05_18_openness.pdf',\n",
       "  'https://wayback.archive-it.org/org-571/20230120175459/https://sfgov.org/dpa/sites/default/files/DPA_06_18_openness.pdf',\n",
       "  'https://wayback.archive-it.org/org-571/20230120175459/https://sfgov.org/dpa/sites/default/files/DPA_07_18_openness.pdf',\n",
       "  'https://wayback.archive-it.org/org-571/20230120175459/https://sfgov.org/dpa/sites/default/files/DPA_08_18_openness.pdf',\n",
       "  'https://wayback.archive-it.org/org-571/20230120175459/https://sfgov.org/dpa/sites/default/files/DPA_09_18_openness.pdf',\n",
       "  'https://wayback.archive-it.org/org-571/20230120175459/https://sfgov.org/dpa/sites/default/files/DPA_10_18_openness.pdf',\n",
       "  'https://wayback.archive-it.org/org-571/20230120175459/https://sfgov.org/dpa/sites/default/files/DPA_11_18_openness.pdf',\n",
       "  'https://wayback.archive-it.org/org-571/20230120175459/https://sfgov.org/dpa/sites/default/files/DPA_12_18_openness.pdf',\n",
       "  'https://wayback.archive-it.org/org-571/20230120175459/https://sfgov.org/dpa/sites/default/files/DPA_01_17_openness.pdf',\n",
       "  'https://wayback.archive-it.org/org-571/20230120175459/https://sfgov.org/dpa/sites/default/files/DPA_02_17_openness.pdf',\n",
       "  'https://wayback.archive-it.org/org-571/20230120175459/https://sfgov.org/dpa/sites/default/files/DPA_03_17_openness.pdf',\n",
       "  'https://wayback.archive-it.org/org-571/20230120175459/https://sfgov.org/dpa/sites/default/files/DPA_04_17_openness.pdf',\n",
       "  'https://wayback.archive-it.org/org-571/20230120175459/https://sfgov.org/dpa/sites/default/files/DPA_05_17_openness.pdf',\n",
       "  'https://wayback.archive-it.org/org-571/20230120175459/https://sfgov.org/dpa/sites/default/files/DPA_06_17_openness.pdf',\n",
       "  'https://wayback.archive-it.org/org-571/20230120175459/https://sfgov.org/dpa/sites/default/files/DPA_07_17_openness.pdf',\n",
       "  'https://wayback.archive-it.org/org-571/20230120175459/https://sfgov.org/dpa/sites/default/files/DPA_08_17_openness.pdf',\n",
       "  'https://wayback.archive-it.org/org-571/20230120175459/https://sfgov.org/dpa/sites/default/files/DPA_09_17_openness.pdf',\n",
       "  'https://wayback.archive-it.org/org-571/20230120175459/https://sfgov.org/dpa/sites/default/files/DPA_10_17_openness.pdf',\n",
       "  'https://wayback.archive-it.org/org-571/20230120175459/https://sfgov.org/dpa/sites/default/files/DPA_11_17_openness.pdf',\n",
       "  'https://wayback.archive-it.org/org-571/20230120175459/https://sfgov.org/dpa/sites/default/files/DPA_12_17_openness.pdf',\n",
       "  'https://wayback.archive-it.org/org-571/20230120175459/https://sfgov.org/dpa/sites/default/files/OCC_01_16_openness.pdf',\n",
       "  'https://wayback.archive-it.org/org-571/20230120175459/https://sfgov.org/dpa/sites/default/files/OCC_02_16_openness.pdf',\n",
       "  'https://wayback.archive-it.org/org-571/20230120175459/https://sfgov.org/dpa/sites/default/files/OCC_03_16_openness.pdf',\n",
       "  'https://wayback.archive-it.org/org-571/20230120175459/https://sfgov.org/dpa/sites/default/files/OCC_04_16_openness.pdf',\n",
       "  'https://wayback.archive-it.org/org-571/20230120175459/https://sfgov.org/dpa/sites/default/files/OCC_05_16_openness.pdf',\n",
       "  'https://wayback.archive-it.org/org-571/20230120175459/https://sfgov.org/dpa/sites/default/files/OCC_06_16_openness.pdf',\n",
       "  'https://wayback.archive-it.org/org-571/20230120175459/https://sfgov.org/dpa/sites/default/files/OCC_07_16_openness.pdf',\n",
       "  'https://wayback.archive-it.org/org-571/20230120175459/https://sfgov.org/dpa/sites/default/files/OCC_08_16_openness.pdf',\n",
       "  'https://wayback.archive-it.org/org-571/20230120175459/https://sfgov.org/dpa/sites/default/files/OCC_09_16_openness.pdf',\n",
       "  'https://wayback.archive-it.org/org-571/20230120175459/https://sfgov.org/dpa/sites/default/files/OCC_10_16_openness.pdf',\n",
       "  'https://wayback.archive-it.org/org-571/20230120175459/https://sfgov.org/dpa/sites/default/files/OCC_11_16_openness.pdf',\n",
       "  'https://wayback.archive-it.org/org-571/20230120175459/https://sfgov.org/dpa/sites/default/files/OCC_12_16_openness.pdf',\n",
       "  'https://wayback.archive-it.org/org-571/20230120175459/https://sfgov.org/dpa/sites/default/files/OCC_01_15_openness.pdf',\n",
       "  'https://wayback.archive-it.org/org-571/20230120175459/https://sfgov.org/dpa/sites/default/files/OCC_02_15_openness.pdf',\n",
       "  'https://wayback.archive-it.org/org-571/20230120175459/https://sfgov.org/dpa/sites/default/files/OCC_03_15_openness.pdf',\n",
       "  'https://wayback.archive-it.org/org-571/20230120175459/https://sfgov.org/dpa/sites/default/files/OCC_04_15_openness.pdf',\n",
       "  'https://wayback.archive-it.org/org-571/20230120175459/https://sfgov.org/dpa/sites/default/files/OCC_05_15_openness.pdf',\n",
       "  'https://wayback.archive-it.org/org-571/20230120175459/https://sfgov.org/dpa/sites/default/files/OCC_06_15_openness.pdf',\n",
       "  'https://wayback.archive-it.org/org-571/20230120175459/https://sfgov.org/dpa/sites/default/files/OCC_07_15_openness.pdf',\n",
       "  'https://wayback.archive-it.org/org-571/20230120175459/https://sfgov.org/dpa/sites/default/files/OCC_08_15_openness.pdf',\n",
       "  'https://wayback.archive-it.org/org-571/20230120175459/https://sfgov.org/dpa/sites/default/files/OCC_09_15_openness.pdf',\n",
       "  'https://wayback.archive-it.org/org-571/20230120175459/https://sfgov.org/dpa/sites/default/files/OCC_10_15_openness.pdf',\n",
       "  'https://wayback.archive-it.org/org-571/20230120175459/https://sfgov.org/dpa/sites/default/files/OCC_11_15_openness.pdf',\n",
       "  'https://wayback.archive-it.org/org-571/20230120175459/https://sfgov.org/dpa/sites/default/files/OCC_12_15_openness.pdf',\n",
       "  'https://wayback.archive-it.org/org-571/20230120175459/https://sfgov.org/dpa/sites/default/files/OCC_01_14_openness.pdf',\n",
       "  'https://wayback.archive-it.org/org-571/20230120175459/https://sfgov.org/dpa/sites/default/files/OCC_02_14_openness.pdf',\n",
       "  'https://wayback.archive-it.org/org-571/20230120175459/https://sfgov.org/dpa/sites/default/files/OCC_03_14_openness.pdf',\n",
       "  'https://wayback.archive-it.org/org-571/20230120175459/https://sfgov.org/dpa/sites/default/files/OCC_04_14_openness.pdf',\n",
       "  'https://wayback.archive-it.org/org-571/20230120175459/https://sfgov.org/dpa/sites/default/files/OCC_05_14_openness.pdf',\n",
       "  'https://wayback.archive-it.org/org-571/20230120175459/https://sfgov.org/dpa/sites/default/files/OCC_06_14_openness.pdf',\n",
       "  'https://wayback.archive-it.org/org-571/20230120175459/https://sfgov.org/dpa/sites/default/files/OCC_07_14_openness.pdf',\n",
       "  'https://wayback.archive-it.org/org-571/20230120175459/https://sfgov.org/dpa/sites/default/files/OCC_08_14_openness.pdf',\n",
       "  'https://wayback.archive-it.org/org-571/20230120175459/https://sfgov.org/dpa/sites/default/files/OCC_09_14_openness.pdf',\n",
       "  'https://wayback.archive-it.org/org-571/20230120175459/https://sfgov.org/dpa/sites/default/files/OCC_10_14_openness.pdf',\n",
       "  'https://wayback.archive-it.org/org-571/20230120175459/https://sfgov.org/dpa/sites/default/files/OCC_11_14_openness.pdf',\n",
       "  'https://wayback.archive-it.org/org-571/20230120175459/https://sfgov.org/dpa/sites/default/files/OCC_12_14_openness.pdf',\n",
       "  'https://wayback.archive-it.org/org-571/20230120175459/https://sfgov.org/dpa/ftp/uploadedfiles/occ/OCC_01_10_openness.pdf',\n",
       "  'https://wayback.archive-it.org/org-571/20230120175459/https://sfgov.org/dpa/ftp/uploadedfiles/occ/OCC_01_09_openness.pdf',\n",
       "  'https://wayback.archive-it.org/org-571/20230120175459/https://sfgov.org/dpa/ftp/uploadedfiles/occ/OCC_02_09_openness.pdf',\n",
       "  'https://wayback.archive-it.org/org-571/20230120175459/https://sfgov.org/dpa/ftp/uploadedfiles/occ/OCC_03_09_openness.pdf',\n",
       "  'https://wayback.archive-it.org/org-571/20230120175459/https://sfgov.org/dpa/ftp/uploadedfiles/occ/OCC_04_09_openness.pdf',\n",
       "  'https://wayback.archive-it.org/org-571/20230120175459/https://sfgov.org/dpa/ftp/uploadedfiles/occ/OCC_05_09_openness.pdf',\n",
       "  'https://wayback.archive-it.org/org-571/20230120175459/https://sfgov.org/dpa/ftp/uploadedfiles/occ/OCC_06_09_openness.pdf',\n",
       "  'https://wayback.archive-it.org/org-571/20230120175459/https://sfgov.org/dpa/ftp/uploadedfiles/occ/OCC_07_09_openness.pdf',\n",
       "  'https://wayback.archive-it.org/org-571/20230120175459/https://sfgov.org/dpa/ftp/uploadedfiles/occ/OCC_08_09_openness.pdf',\n",
       "  'https://wayback.archive-it.org/org-571/20230120175459/https://sfgov.org/dpa/ftp/uploadedfiles/occ/OCC_09_09_openness.pdf',\n",
       "  'https://wayback.archive-it.org/org-571/20230120175459/https://sfgov.org/dpa/ftp/uploadedfiles/occ/OCC_10_09_openness.pdf',\n",
       "  'https://wayback.archive-it.org/org-571/20230120175459/https://sfgov.org/dpa/ftp/uploadedfiles/occ/OCC_11_09_openness.pdf',\n",
       "  'https://wayback.archive-it.org/org-571/20230120175459/https://sfgov.org/dpa/ftp/uploadedfiles/occ/OCC_12_09_openness.pdf',\n",
       "  'https://wayback.archive-it.org/org-571/20230120175459/https://sfgov.org/dpa/ftp/uploadedfiles/occ/OCC_01_08_openness.pdf',\n",
       "  'https://wayback.archive-it.org/org-571/20230120175459/https://sfgov.org/dpa/ftp/uploadedfiles/occ/OCC_02_08_openness.pdf',\n",
       "  'https://wayback.archive-it.org/org-571/20230120175459/https://sfgov.org/dpa/ftp/uploadedfiles/occ/OCC_03_08_openness.pdf',\n",
       "  'https://wayback.archive-it.org/org-571/20230120175459/https://sfgov.org/dpa/ftp/uploadedfiles/occ/OCC_04_08_openness.pdf',\n",
       "  'https://wayback.archive-it.org/org-571/20230120175459/https://sfgov.org/dpa/ftp/uploadedfiles/occ/OCC_05_08_openness.pdf',\n",
       "  'https://wayback.archive-it.org/org-571/20230120175459/https://sfgov.org/dpa/ftp/uploadedfiles/occ/OCC_06_08_openness.pdf',\n",
       "  'https://wayback.archive-it.org/org-571/20230120175459/https://sfgov.org/dpa/ftp/uploadedfiles/occ/OCC_07_08_openness.pdf',\n",
       "  'https://wayback.archive-it.org/org-571/20230120175459/https://sfgov.org/dpa/ftp/uploadedfiles/occ/OCC_08_08_openness.pdf',\n",
       "  'https://wayback.archive-it.org/org-571/20230120175459/https://sfgov.org/dpa/ftp/uploadedfiles/occ/OCC_09_08_openness.pdf',\n",
       "  'https://wayback.archive-it.org/org-571/20230120175459/https://sfgov.org/dpa/ftp/uploadedfiles/occ/OCC_10_08_openness.pdf',\n",
       "  'https://wayback.archive-it.org/org-571/20230120175459/https://sfgov.org/dpa/ftp/uploadedfiles/occ/OCC_11_08_openness.pdf',\n",
       "  'https://wayback.archive-it.org/org-571/20230120175459/https://sfgov.org/dpa/ftp/uploadedfiles/occ/OCC_12_08_openness.pdf',\n",
       "  'https://wayback.archive-it.org/org-571/20230120175459/https://sfgov.org/dpa/ftp/uploadedfiles/occ/OCC_01_07_openness.pdf',\n",
       "  'https://wayback.archive-it.org/org-571/20230120175459/https://sfgov.org/dpa/ftp/uploadedfiles/occ/OCC_02_07_openness.pdf',\n",
       "  'https://wayback.archive-it.org/org-571/20230120175459/https://sfgov.org/dpa/ftp/uploadedfiles/occ/OCC_03_07_openness.pdf',\n",
       "  'https://wayback.archive-it.org/org-571/20230120175459/https://sfgov.org/dpa/ftp/uploadedfiles/occ/OCC_04_07_openness.pdf',\n",
       "  'https://wayback.archive-it.org/org-571/20230120175459/https://sfgov.org/dpa/ftp/uploadedfiles/occ/OCC_05_07_openness.pdf',\n",
       "  'https://wayback.archive-it.org/org-571/20230120175459/https://sfgov.org/dpa/ftp/uploadedfiles/occ/OCC_06_07_openness.pdf',\n",
       "  'https://wayback.archive-it.org/org-571/20230120175459/https://sfgov.org/dpa/ftp/uploadedfiles/occ/OCC_07_07_openness.pdf',\n",
       "  'https://wayback.archive-it.org/org-571/20230120175459/https://sfgov.org/dpa/ftp/uploadedfiles/occ/OCC_08_07_openness.pdf',\n",
       "  'https://wayback.archive-it.org/org-571/20230120175459/https://sfgov.org/dpa/ftp/uploadedfiles/occ/OCC_09_07_openness.pdf',\n",
       "  'https://wayback.archive-it.org/org-571/20230120175459/https://sfgov.org/dpa/ftp/uploadedfiles/occ/OCC_10_07_openness.pdf',\n",
       "  'https://wayback.archive-it.org/org-571/20230120175459/https://sfgov.org/dpa/ftp/uploadedfiles/occ/OCC_11_07_openness.pdf',\n",
       "  'https://wayback.archive-it.org/org-571/20230120175459/https://sfgov.org/dpa/ftp/uploadedfiles/occ/OCC_12_07_openness.pdf',\n",
       "  'https://wayback.archive-it.org/org-571/20230120175459/https://sfgov.org/dpa/ftp/uploadedfiles/occ/OCC_01_06_openness.pdf',\n",
       "  'https://wayback.archive-it.org/org-571/20230120175459/https://sfgov.org/dpa/ftp/uploadedfiles/occ/OCC_02_06_openness.pdf',\n",
       "  'https://wayback.archive-it.org/org-571/20230120175459/https://sfgov.org/dpa/ftp/uploadedfiles/occ/OCC_03_06_openness.pdf',\n",
       "  'https://wayback.archive-it.org/org-571/20230120175459/https://sfgov.org/dpa/ftp/uploadedfiles/occ/OCC_04_06_openness.pdf',\n",
       "  'https://wayback.archive-it.org/org-571/20230120175459/https://sfgov.org/dpa/ftp/uploadedfiles/occ/OCC_05_06_openness.pdf',\n",
       "  'https://wayback.archive-it.org/org-571/20230120175459/https://sfgov.org/dpa/ftp/uploadedfiles/occ/OCC_06_06_openness.pdf',\n",
       "  'https://wayback.archive-it.org/org-571/20230120175459/https://sfgov.org/dpa/ftp/uploadedfiles/occ/OCC_07_06_openness.pdf',\n",
       "  'https://wayback.archive-it.org/org-571/20230120175459/https://sfgov.org/dpa/ftp/uploadedfiles/occ/OCC_08_06_openness.pdf',\n",
       "  'https://wayback.archive-it.org/org-571/20230120175459/https://sfgov.org/dpa/ftp/uploadedfiles/occ/OCC_09_06_openness.pdf',\n",
       "  'https://wayback.archive-it.org/org-571/20230120175459/https://sfgov.org/dpa/ftp/uploadedfiles/occ/OCC_10_06_openness.pdf',\n",
       "  'https://wayback.archive-it.org/org-571/20230120175459/https://sfgov.org/dpa/ftp/uploadedfiles/occ/OCC_11_06_openness.pdf',\n",
       "  'https://wayback.archive-it.org/org-571/20230120175459/https://sfgov.org/dpa/ftp/uploadedfiles/occ/OCC_12_06_openness.pdf',\n",
       "  'https://wayback.archive-it.org/org-571/20230120175459/https://sfgov.org/dpa/ftp/uploadedfiles/occ/OCC_01_05_openness.pdf',\n",
       "  'https://wayback.archive-it.org/org-571/20230120175459/https://sfgov.org/dpa/ftp/uploadedfiles/occ/OCC_02_05_openness.pdf',\n",
       "  'https://wayback.archive-it.org/org-571/20230120175459/https://sfgov.org/dpa/ftp/uploadedfiles/occ/OCC_03_05_openness.pdf',\n",
       "  'https://wayback.archive-it.org/org-571/20230120175459/https://sfgov.org/dpa/ftp/uploadedfiles/occ/OCC_04_05_openness.pdf',\n",
       "  'https://wayback.archive-it.org/org-571/20230120175459/https://sfgov.org/dpa/ftp/uploadedfiles/occ/OCC_05_05_openness.pdf',\n",
       "  'https://wayback.archive-it.org/org-571/20230120175459/https://sfgov.org/dpa/ftp/uploadedfiles/occ/OCC_06_05_openness.pdf',\n",
       "  'https://wayback.archive-it.org/org-571/20230120175459/https://sfgov.org/dpa/ftp/uploadedfiles/occ/OCC_07_05_openness.pdf',\n",
       "  'https://wayback.archive-it.org/org-571/20230120175459/https://sfgov.org/dpa/ftp/uploadedfiles/occ/OCC_08_05_openness.pdf',\n",
       "  'https://wayback.archive-it.org/org-571/20230120175459/https://sfgov.org/dpa/ftp/uploadedfiles/occ/OCC_09_05_openness.pdf',\n",
       "  'https://wayback.archive-it.org/org-571/20230120175459/https://sfgov.org/dpa/ftp/uploadedfiles/occ/OCC_10_05_openness.pdf',\n",
       "  'https://wayback.archive-it.org/org-571/20230120175459/https://sfgov.org/dpa/ftp/uploadedfiles/occ/OCC_11_05_openness.pdf',\n",
       "  'https://wayback.archive-it.org/org-571/20230120175459/https://sfgov.org/dpa/ftp/uploadedfiles/occ/OCC_12_05_openness.pdf']}"
      ]
     },
     "execution_count": 24,
     "metadata": {},
     "output_type": "execute_result"
    }
   ],
   "source": [
    "yearly_pdf_links"
   ]
  },
  {
   "cell_type": "markdown",
   "id": "7576069e-a9ee-400c-811c-f84a3241d107",
   "metadata": {},
   "source": [
    "# Review\n",
    "\n",
    "- [x] updated initial classname from 'sfgov-section__content' to 'flex flex-col gap-y-12'\n",
    "- [x] dropped the `tagtype` parameter from filtering\n",
    "- [x] applied fixes to scrape script and confirmed we're back to collecting the yearly PDFs as expected"
   ]
  },
  {
   "cell_type": "markdown",
   "id": "5776eb5b-be61-445e-ac34-9911f68448b7",
   "metadata": {},
   "source": [
    "# Comments\n",
    "\n",
    "After implementing these changes in the script, I found PDF URL values that were missing a corresponding PDF file path in the repo, implying that there was a problem with downloading.\n",
    "\n",
    "I reviewed the log outputs during a scrape call and noticed the naming convention of the links had changed for the more recent years (the ones I was prefixing with the \"sf.gov\" domain rather than the wayback machine domain). Ex) \"https://media.api.sf.gov/documents/Jan_Openness_24.xlsx.pdf\".\n",
    "\n",
    "These more recent years now come with a domain/host already included, so I dropped the domain prefix in `add_domain()` by changing the domain arg to an empty str.\n",
    "\n",
    "By the time we download the file locally, we need to clean the link by removing: ':--media.api.sf.gov-documents-'.\n",
    "\n",
    "Then things are fully back to normal."
   ]
  },
  {
   "cell_type": "code",
   "execution_count": null,
   "id": "82154cd4-3c89-43df-9d97-8e96bce7d526",
   "metadata": {},
   "outputs": [],
   "source": []
  }
 ],
 "metadata": {
  "kernelspec": {
   "display_name": "Python 3 (ipykernel)",
   "language": "python",
   "name": "python3"
  },
  "language_info": {
   "codemirror_mode": {
    "name": "ipython",
    "version": 3
   },
   "file_extension": ".py",
   "mimetype": "text/x-python",
   "name": "python",
   "nbconvert_exporter": "python",
   "pygments_lexer": "ipython3",
   "version": "3.12.7"
  }
 },
 "nbformat": 4,
 "nbformat_minor": 5
}
