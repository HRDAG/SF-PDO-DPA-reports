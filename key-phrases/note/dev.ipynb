{
 "cells": [
  {
   "cell_type": "markdown",
   "id": "6290231e-df16-4f56-8d99-0017129fcb28",
   "metadata": {},
   "source": [
    "TODO: this is not as expected - `dpa.finding.value_counts()`\n",
    "- we should be grouping values like \"IC/S\" as \"Improper Conduct; Sustained\" or something better explained\n",
    "this will affect classification accuracy negatively"
   ]
  },
  {
   "cell_type": "markdown",
   "id": "ca9c465a-3ad7-416e-9e1f-9f2b4181638c",
   "metadata": {},
   "source": [
    "# setup"
   ]
  },
  {
   "cell_type": "markdown",
   "id": "96650a49-6b6d-4d6f-9227-0820dfec4f2c",
   "metadata": {},
   "source": [
    "### general"
   ]
  },
  {
   "cell_type": "code",
   "execution_count": 39,
   "id": "e0363ca8-ed55-42f6-96b6-27e8ad890986",
   "metadata": {},
   "outputs": [],
   "source": [
    "# dependencies\n",
    "import re\n",
    "import pandas as pd\n",
    "import spacy\n",
    "import spacy_udpipe\n",
    "from rake_spacy import Rake"
   ]
  },
  {
   "cell_type": "code",
   "execution_count": 2,
   "id": "bf739a72-d096-430a-89b8-f0d62296bc01",
   "metadata": {},
   "outputs": [],
   "source": [
    "# support methods\n",
    "def findkwphrase(chunks, skw, ekw):\n",
    "    si = [i for i in range(len(chunks)) if (chunks[i] == skw.text) | (skw.text in chunks[i])][0]\n",
    "    ei = [i for i in range(len(chunks)) if (chunks[i] == ekw.text) | (ekw.text in chunks[i])][0]\n",
    "    if ei + 1 >= len(chunks): return ' '.join(chunks[si:])\n",
    "    else: return ' '.join(chunks[si: ei + 1])\n",
    "\n",
    "\n",
    "def findkwpos(pos, kws, skw, ekw):\n",
    "    si = [i for i in range(len(kws)) if kws[i] == skw][0]\n",
    "    ei = [i for i in range(len(kws)) if kws[i] == ekw][0]\n",
    "    kwpos = pos[si: ei + 1]\n",
    "    return kwpos\n",
    "\n",
    "\n",
    "def findinfo(row):\n",
    "    assert len(row.doc) == len(row.pos)\n",
    "    chunks = row.doc.text.split()\n",
    "    kws = row.kws\n",
    "    skw, ekw = kws[0], kws[-1]\n",
    "    phrase = findkwphrase(chunks=chunks, skw=skw, ekw=ekw)\n",
    "    pos = findkwpos(pos=row.pos, kws=kws, skw=skw, ekw=ekw)\n",
    "    return phrase, pos\n",
    "\n",
    "def get_corecols():\n",
    "    return [\\\n",
    "    'complaint_id', 'allegation_id', \\\n",
    "    'date_complained', 'date_completed', 'year_complained', 'year_completed',\\\n",
    "    'time_to_complete', 'ttc_group',\\\n",
    "    'report_type', 'n_complaint_pages',\\\n",
    "    'dpa_added', 'occ_added',\\\n",
    "    'allegations', 'findings_of_fact',\\\n",
    "    'category_of_conduct', 'finding', 'sustained', 'mediated', 'mediation_status', \\\n",
    "    'complaint_meta',\\\n",
    "    'allegation_text', \\\n",
    "    'pdf_url'\n",
    "]\n",
    "\n",
    "\n",
    "def get_kwcols():\n",
    "    return [\n",
    "        'allegation_id',\n",
    "        'named_officers', 'no_officer_id',\n",
    "        'default_finding', 'jlp',\n",
    "        'resisting', 'force', 'bwc',\n",
    "        'intimidation', 'racial_bias',\n",
    "        'pursuit', 'swat', 'firearm', 'taser',\n",
    "        'home', 'minor', 'crisis', 'missing_person',\n",
    "        'action_wo_cause',\n",
    "        'entry_wo_cause', 'search_wo_cause', 'towed_wo_cause', 'tookproperty_wo_cause',\n",
    "        'cite_wo_cause', 'detain_wo_cause', 'arrest_wo_cause',\n",
    "        'display_weapon', 'unnec_force', 'malignant_action',\n",
    "        'dishonesty', 'bias',\n",
    "        'inapp_action', 'malignant_action', 'failed_reqmt',\n",
    "        'pdf_url'\n",
    "    ]"
   ]
  },
  {
   "cell_type": "code",
   "execution_count": 3,
   "id": "917ef577-3b75-4e76-934d-1f5629913612",
   "metadata": {},
   "outputs": [],
   "source": [
    "# main\n",
    "dpa = pd.read_parquet(\"../../export/output/complaints.parquet\")\n",
    "corecols = get_corecols()\n",
    "kwcols = get_kwcols()"
   ]
  },
  {
   "cell_type": "markdown",
   "id": "95ee2eab-7066-42c8-aa10-0cc98ac25d9b",
   "metadata": {},
   "source": [
    "### batching & sampling"
   ]
  },
  {
   "cell_type": "code",
   "execution_count": 4,
   "id": "e16e7e9d-0ad2-4f81-83c5-23ae2395a47f",
   "metadata": {},
   "outputs": [
    {
     "data": {
      "text/plain": [
       "8521"
      ]
     },
     "execution_count": 4,
     "metadata": {},
     "output_type": "execute_result"
    }
   ],
   "source": [
    "dpa.loc[dpa.finding.isin(('Proper Conduct', 'Sustained', 'Mediated')), [\n",
    "    'allegation_id', 'allegations', 'finding', 'mediated']].dropna(subset='allegations').shape[0]"
   ]
  },
  {
   "cell_type": "code",
   "execution_count": 5,
   "id": "7f4c6903-5dd0-4009-8aab-f6b6d3fb72c0",
   "metadata": {},
   "outputs": [],
   "source": [
    "# options for batching\n",
    "# if processing data not in table\n",
    "text = \"\\n\\n\".join(dpa.allegations.dropna().values)\n",
    "batch0 = text[:100000]\n",
    "# for processing as table\n",
    "less = dpa[['allegation_id', 'allegations', 'finding', 'mediated']].head(1000)\n",
    "# for a more selective table\n",
    "picky = dpa.loc[dpa.finding.isin(dpa.finding.value_counts().head(5).index), [\n",
    "    'allegation_id', 'allegations', 'finding', 'mediated']].dropna(subset='allegations').sample(10000)"
   ]
  },
  {
   "cell_type": "markdown",
   "id": "146d593b-5bef-4e1b-b8a2-04688ed31e18",
   "metadata": {},
   "source": [
    "### models"
   ]
  },
  {
   "cell_type": "code",
   "execution_count": 6,
   "id": "b6a43e38-454e-466e-b7e6-bf67498461c9",
   "metadata": {},
   "outputs": [],
   "source": [
    "# p sure these nlp opts the same, at least as far as this example goes\n",
    "#nlp = spacy_udpipe.load(lang=\"en\")\n",
    "nlp = spacy.load(\"en_core_web_sm\")\n",
    "r = Rake(nlp=nlp)"
   ]
  },
  {
   "cell_type": "markdown",
   "id": "faed598f-0239-4b93-895f-01e0110a1888",
   "metadata": {},
   "source": [
    "# process"
   ]
  },
  {
   "cell_type": "markdown",
   "id": "0a13aded-7c38-4ddd-bd05-bb4f311f4c66",
   "metadata": {},
   "source": [
    "### apply NLP model & unpack `spacy.tokens.doc.Doc` object"
   ]
  },
  {
   "cell_type": "code",
   "execution_count": 7,
   "id": "d5b1097b-2eb4-4cfe-a174-6b232972c4d9",
   "metadata": {},
   "outputs": [],
   "source": [
    "picky['doc'] = picky.allegations.apply(nlp)\n",
    "picky['ents'] = picky.doc.apply(lambda x: x.ents if any(x.ents) else None)\n",
    "picky['json'] = picky.doc.apply(lambda x: x.to_json())\n",
    "picky['tokens'] = picky.json.apply(lambda x: x['tokens'])\n",
    "picky['lemmas'] = picky.tokens.apply(lambda x: [token['lemma'] for token in x])\n",
    "picky['pos'] = picky.tokens.apply(lambda x: [token['pos'] for token in x])\n",
    "picky['dep'] = picky.tokens.apply(lambda x: [token['dep'] for token in x])"
   ]
  },
  {
   "cell_type": "markdown",
   "id": "d4381a8d-62e2-4d87-ad8a-53a1187e83d4",
   "metadata": {},
   "source": [
    "### apply `Rake` model & unpack"
   ]
  },
  {
   "cell_type": "code",
   "execution_count": 8,
   "id": "a67dd8c4-d2da-411f-934d-18d7ac333df5",
   "metadata": {},
   "outputs": [],
   "source": [
    "picky['ranklist'] = picky.doc.apply(lambda x: r.apply(x))"
   ]
  },
  {
   "cell_type": "code",
   "execution_count": 9,
   "id": "2d6e0d61-a677-49f2-b35b-36aada76d4af",
   "metadata": {},
   "outputs": [],
   "source": [
    "focus = picky[['allegation_id', 'doc', 'finding', 'mediated', 'pos', 'ranklist']].explode('ranklist')\n",
    "focus['rank'] = focus.ranklist.apply(lambda x: x[0])\n",
    "focus['kws'] = focus.ranklist.apply(lambda x: x[1])\n",
    "focus['nkws'] = focus.kws.apply(len)\n",
    "focus['kwinfo'] = focus[['doc', 'pos', 'kws']].apply(lambda x: findinfo(x), axis=1)\n",
    "focus['kwphrase'] = focus.kwinfo.apply(lambda x: x[0])\n",
    "focus['kwpos'] = focus.kwinfo.apply(lambda x: x[1])\n",
    "intpos = (\"NOUN\", \"ADJ\", \"VERB\")\n",
    "focus['posint'] = focus.kwpos.apply(lambda x: any((pos in intpos for pos in x)))\n",
    "cands = focus.loc[(focus.nkws > 2) & (focus.posint)]"
   ]
  },
  {
   "cell_type": "code",
   "execution_count": 11,
   "id": "aee73c4d-e19c-415e-a619-093ace81622c",
   "metadata": {},
   "outputs": [
    {
     "data": {
      "text/html": [
       "<div>\n",
       "<style scoped>\n",
       "    .dataframe tbody tr th:only-of-type {\n",
       "        vertical-align: middle;\n",
       "    }\n",
       "\n",
       "    .dataframe tbody tr th {\n",
       "        vertical-align: top;\n",
       "    }\n",
       "\n",
       "    .dataframe thead th {\n",
       "        text-align: right;\n",
       "    }\n",
       "</style>\n",
       "<table border=\"1\" class=\"dataframe\">\n",
       "  <thead>\n",
       "    <tr style=\"text-align: right;\">\n",
       "      <th></th>\n",
       "      <th>227</th>\n",
       "    </tr>\n",
       "  </thead>\n",
       "  <tbody>\n",
       "    <tr>\n",
       "      <th>complaint_id</th>\n",
       "      <td>6b8ba8e0_38</td>\n",
       "    </tr>\n",
       "    <tr>\n",
       "      <th>allegation_id</th>\n",
       "      <td>01f4ce6eae57f5b1</td>\n",
       "    </tr>\n",
       "    <tr>\n",
       "      <th>date_complained</th>\n",
       "      <td>2005-05-11 00:00:00</td>\n",
       "    </tr>\n",
       "    <tr>\n",
       "      <th>date_completed</th>\n",
       "      <td>2005-10-24 00:00:00</td>\n",
       "    </tr>\n",
       "    <tr>\n",
       "      <th>year_complained</th>\n",
       "      <td>2005.0</td>\n",
       "    </tr>\n",
       "    <tr>\n",
       "      <th>year_completed</th>\n",
       "      <td>2005.0</td>\n",
       "    </tr>\n",
       "    <tr>\n",
       "      <th>time_to_complete</th>\n",
       "      <td>166 days 00:00:00</td>\n",
       "    </tr>\n",
       "    <tr>\n",
       "      <th>ttc_group</th>\n",
       "      <td>3 to 6 months</td>\n",
       "    </tr>\n",
       "    <tr>\n",
       "      <th>report_type</th>\n",
       "      <td>OCC</td>\n",
       "    </tr>\n",
       "    <tr>\n",
       "      <th>n_complaint_pages</th>\n",
       "      <td>2</td>\n",
       "    </tr>\n",
       "    <tr>\n",
       "      <th>dpa_added</th>\n",
       "      <td>False</td>\n",
       "    </tr>\n",
       "    <tr>\n",
       "      <th>occ_added</th>\n",
       "      <td>True</td>\n",
       "    </tr>\n",
       "    <tr>\n",
       "      <th>allegations</th>\n",
       "      <td>The officer failed to take required action.</td>\n",
       "    </tr>\n",
       "    <tr>\n",
       "      <th>findings_of_fact</th>\n",
       "      <td>The OCC alleged that the officer failed to pro...</td>\n",
       "    </tr>\n",
       "    <tr>\n",
       "      <th>category_of_conduct</th>\n",
       "      <td>Neglect of Duty</td>\n",
       "    </tr>\n",
       "    <tr>\n",
       "      <th>finding</th>\n",
       "      <td>Proper Conduct</td>\n",
       "    </tr>\n",
       "    <tr>\n",
       "      <th>sustained</th>\n",
       "      <td>False</td>\n",
       "    </tr>\n",
       "    <tr>\n",
       "      <th>mediated</th>\n",
       "      <td>False</td>\n",
       "    </tr>\n",
       "    <tr>\n",
       "      <th>mediation_status</th>\n",
       "      <td>None</td>\n",
       "    </tr>\n",
       "    <tr>\n",
       "      <th>complaint_meta</th>\n",
       "      <td>DATE OF COMPLAINT: 05/11/05 DATE OF COMPLETION...</td>\n",
       "    </tr>\n",
       "    <tr>\n",
       "      <th>allegation_text</th>\n",
       "      <td>SUMMARY OF OCC ADDED ALLEGATION #1: The office...</td>\n",
       "    </tr>\n",
       "    <tr>\n",
       "      <th>pdf_url</th>\n",
       "      <td>https://wayback.archive-it.org/org-571/2023012...</td>\n",
       "    </tr>\n",
       "  </tbody>\n",
       "</table>\n",
       "</div>"
      ],
      "text/plain": [
       "                                                                   227\n",
       "complaint_id                                               6b8ba8e0_38\n",
       "allegation_id                                         01f4ce6eae57f5b1\n",
       "date_complained                                    2005-05-11 00:00:00\n",
       "date_completed                                     2005-10-24 00:00:00\n",
       "year_complained                                                 2005.0\n",
       "year_completed                                                  2005.0\n",
       "time_to_complete                                     166 days 00:00:00\n",
       "ttc_group                                                3 to 6 months\n",
       "report_type                                                        OCC\n",
       "n_complaint_pages                                                    2\n",
       "dpa_added                                                        False\n",
       "occ_added                                                         True\n",
       "allegations                The officer failed to take required action.\n",
       "findings_of_fact     The OCC alleged that the officer failed to pro...\n",
       "category_of_conduct                                    Neglect of Duty\n",
       "finding                                                 Proper Conduct\n",
       "sustained                                                        False\n",
       "mediated                                                         False\n",
       "mediation_status                                                  None\n",
       "complaint_meta       DATE OF COMPLAINT: 05/11/05 DATE OF COMPLETION...\n",
       "allegation_text      SUMMARY OF OCC ADDED ALLEGATION #1: The office...\n",
       "pdf_url              https://wayback.archive-it.org/org-571/2023012..."
      ]
     },
     "execution_count": 11,
     "metadata": {},
     "output_type": "execute_result"
    }
   ],
   "source": [
    "dpa[corecols].sample().T"
   ]
  },
  {
   "cell_type": "code",
   "execution_count": 12,
   "id": "ecfaa536-cb69-459a-a724-c0264d610856",
   "metadata": {},
   "outputs": [
    {
     "data": {
      "text/html": [
       "<div>\n",
       "<style scoped>\n",
       "    .dataframe tbody tr th:only-of-type {\n",
       "        vertical-align: middle;\n",
       "    }\n",
       "\n",
       "    .dataframe tbody tr th {\n",
       "        vertical-align: top;\n",
       "    }\n",
       "\n",
       "    .dataframe thead th {\n",
       "        text-align: right;\n",
       "    }\n",
       "</style>\n",
       "<table border=\"1\" class=\"dataframe\">\n",
       "  <thead>\n",
       "    <tr style=\"text-align: right;\">\n",
       "      <th></th>\n",
       "      <th>23570</th>\n",
       "    </tr>\n",
       "  </thead>\n",
       "  <tbody>\n",
       "    <tr>\n",
       "      <th>allegation_id</th>\n",
       "      <td>d34447df77519be3</td>\n",
       "    </tr>\n",
       "    <tr>\n",
       "      <th>allegations</th>\n",
       "      <td>The officers searched the complainant’s reside...</td>\n",
       "    </tr>\n",
       "    <tr>\n",
       "      <th>finding</th>\n",
       "      <td>NS</td>\n",
       "    </tr>\n",
       "    <tr>\n",
       "      <th>mediated</th>\n",
       "      <td>False</td>\n",
       "    </tr>\n",
       "    <tr>\n",
       "      <th>doc</th>\n",
       "      <td>(The, officers, searched, the, complainant, ’s...</td>\n",
       "    </tr>\n",
       "    <tr>\n",
       "      <th>ents</th>\n",
       "      <td>None</td>\n",
       "    </tr>\n",
       "    <tr>\n",
       "      <th>json</th>\n",
       "      <td>{'text': 'The officers searched the complainan...</td>\n",
       "    </tr>\n",
       "    <tr>\n",
       "      <th>tokens</th>\n",
       "      <td>[{'id': 0, 'start': 0, 'end': 3, 'tag': 'DT', ...</td>\n",
       "    </tr>\n",
       "    <tr>\n",
       "      <th>lemmas</th>\n",
       "      <td>[the, officer, search, the, complainant, ’s, r...</td>\n",
       "    </tr>\n",
       "    <tr>\n",
       "      <th>pos</th>\n",
       "      <td>[DET, NOUN, VERB, DET, NOUN, PART, NOUN, CCONJ...</td>\n",
       "    </tr>\n",
       "    <tr>\n",
       "      <th>dep</th>\n",
       "      <td>[det, nsubj, ROOT, det, poss, case, dobj, cc, ...</td>\n",
       "    </tr>\n",
       "    <tr>\n",
       "      <th>ranklist</th>\n",
       "      <td>[(2.0, (officers, searched)), (2.0, (residence...</td>\n",
       "    </tr>\n",
       "  </tbody>\n",
       "</table>\n",
       "</div>"
      ],
      "text/plain": [
       "                                                           23570\n",
       "allegation_id                                   d34447df77519be3\n",
       "allegations    The officers searched the complainant’s reside...\n",
       "finding                                                       NS\n",
       "mediated                                                   False\n",
       "doc            (The, officers, searched, the, complainant, ’s...\n",
       "ents                                                        None\n",
       "json           {'text': 'The officers searched the complainan...\n",
       "tokens         [{'id': 0, 'start': 0, 'end': 3, 'tag': 'DT', ...\n",
       "lemmas         [the, officer, search, the, complainant, ’s, r...\n",
       "pos            [DET, NOUN, VERB, DET, NOUN, PART, NOUN, CCONJ...\n",
       "dep            [det, nsubj, ROOT, det, poss, case, dobj, cc, ...\n",
       "ranklist       [(2.0, (officers, searched)), (2.0, (residence..."
      ]
     },
     "execution_count": 12,
     "metadata": {},
     "output_type": "execute_result"
    }
   ],
   "source": [
    "picky.sample().T"
   ]
  },
  {
   "cell_type": "code",
   "execution_count": 13,
   "id": "b0c91139-7859-44b3-97b6-809b64b42a0e",
   "metadata": {},
   "outputs": [
    {
     "data": {
      "text/html": [
       "<div>\n",
       "<style scoped>\n",
       "    .dataframe tbody tr th:only-of-type {\n",
       "        vertical-align: middle;\n",
       "    }\n",
       "\n",
       "    .dataframe tbody tr th {\n",
       "        vertical-align: top;\n",
       "    }\n",
       "\n",
       "    .dataframe thead th {\n",
       "        text-align: right;\n",
       "    }\n",
       "</style>\n",
       "<table border=\"1\" class=\"dataframe\">\n",
       "  <thead>\n",
       "    <tr style=\"text-align: right;\">\n",
       "      <th></th>\n",
       "      <th>19409</th>\n",
       "    </tr>\n",
       "  </thead>\n",
       "  <tbody>\n",
       "    <tr>\n",
       "      <th>allegation_id</th>\n",
       "      <td>adb134e5f19293c1</td>\n",
       "    </tr>\n",
       "    <tr>\n",
       "      <th>doc</th>\n",
       "      <td>(The, officer, drove, improperly, .)</td>\n",
       "    </tr>\n",
       "    <tr>\n",
       "      <th>finding</th>\n",
       "      <td>Proper Conduct</td>\n",
       "    </tr>\n",
       "    <tr>\n",
       "      <th>mediated</th>\n",
       "      <td>False</td>\n",
       "    </tr>\n",
       "    <tr>\n",
       "      <th>pos</th>\n",
       "      <td>[DET, NOUN, VERB, ADV, PUNCT]</td>\n",
       "    </tr>\n",
       "    <tr>\n",
       "      <th>ranklist</th>\n",
       "      <td>(3.0, (officer, drove, improperly))</td>\n",
       "    </tr>\n",
       "    <tr>\n",
       "      <th>rank</th>\n",
       "      <td>3.0</td>\n",
       "    </tr>\n",
       "    <tr>\n",
       "      <th>kws</th>\n",
       "      <td>(officer, drove, improperly)</td>\n",
       "    </tr>\n",
       "    <tr>\n",
       "      <th>nkws</th>\n",
       "      <td>3</td>\n",
       "    </tr>\n",
       "    <tr>\n",
       "      <th>kwinfo</th>\n",
       "      <td>(officer drove improperly., [DET, NOUN, VERB])</td>\n",
       "    </tr>\n",
       "    <tr>\n",
       "      <th>kwphrase</th>\n",
       "      <td>officer drove improperly.</td>\n",
       "    </tr>\n",
       "    <tr>\n",
       "      <th>kwpos</th>\n",
       "      <td>[DET, NOUN, VERB]</td>\n",
       "    </tr>\n",
       "    <tr>\n",
       "      <th>posint</th>\n",
       "      <td>True</td>\n",
       "    </tr>\n",
       "  </tbody>\n",
       "</table>\n",
       "</div>"
      ],
      "text/plain": [
       "                                                        19409\n",
       "allegation_id                                adb134e5f19293c1\n",
       "doc                      (The, officer, drove, improperly, .)\n",
       "finding                                        Proper Conduct\n",
       "mediated                                                False\n",
       "pos                             [DET, NOUN, VERB, ADV, PUNCT]\n",
       "ranklist                  (3.0, (officer, drove, improperly))\n",
       "rank                                                      3.0\n",
       "kws                              (officer, drove, improperly)\n",
       "nkws                                                        3\n",
       "kwinfo         (officer drove improperly., [DET, NOUN, VERB])\n",
       "kwphrase                            officer drove improperly.\n",
       "kwpos                                       [DET, NOUN, VERB]\n",
       "posint                                                   True"
      ]
     },
     "execution_count": 13,
     "metadata": {},
     "output_type": "execute_result"
    }
   ],
   "source": [
    "cands.sample().T"
   ]
  },
  {
   "cell_type": "markdown",
   "id": "fac5832f-d094-4cb1-8d8c-45a997b2d89e",
   "metadata": {},
   "source": [
    "# Demo\n",
    "### The `spacy.tokens.doc.Doc` object\n",
    "As used in above code."
   ]
  },
  {
   "cell_type": "code",
   "execution_count": 14,
   "id": "6906ac59-9d96-471c-8144-0d0aea2ba354",
   "metadata": {},
   "outputs": [],
   "source": [
    "sample = cands.sample()"
   ]
  },
  {
   "cell_type": "code",
   "execution_count": 15,
   "id": "4fe5a4cc-2e73-4847-9c60-57f4c732cea0",
   "metadata": {},
   "outputs": [],
   "source": [
    "test = sample.doc.values[0]"
   ]
  },
  {
   "cell_type": "code",
   "execution_count": 16,
   "id": "9b505fd2-67dd-4b03-af19-75feadffa835",
   "metadata": {},
   "outputs": [
    {
     "data": {
      "text/plain": [
       "The officer failed to properly process property."
      ]
     },
     "execution_count": 16,
     "metadata": {},
     "output_type": "execute_result"
    }
   ],
   "source": [
    "test"
   ]
  },
  {
   "cell_type": "code",
   "execution_count": 17,
   "id": "6d979c4d-491f-4b31-9c7f-e9652bc7a573",
   "metadata": {},
   "outputs": [
    {
     "data": {
      "text/plain": [
       "spacy.tokens.doc.Doc"
      ]
     },
     "execution_count": 17,
     "metadata": {},
     "output_type": "execute_result"
    }
   ],
   "source": [
    "type(test)"
   ]
  },
  {
   "cell_type": "code",
   "execution_count": 18,
   "id": "ddf4ff59-ee6c-41ba-83de-e2ff4fb41421",
   "metadata": {},
   "outputs": [
    {
     "data": {
      "text/plain": [
       "()"
      ]
     },
     "execution_count": 18,
     "metadata": {},
     "output_type": "execute_result"
    }
   ],
   "source": [
    "test.ents"
   ]
  },
  {
   "cell_type": "code",
   "execution_count": 19,
   "id": "41d9308e-2a2f-44e9-b61c-288a636f3356",
   "metadata": {},
   "outputs": [],
   "source": [
    "testjson = test.to_json()"
   ]
  },
  {
   "cell_type": "code",
   "execution_count": 20,
   "id": "78bf1358-e3c0-4a8d-8b1e-99ad7fa58468",
   "metadata": {},
   "outputs": [
    {
     "data": {
      "text/plain": [
       "dict_keys(['text', 'ents', 'sents', 'tokens'])"
      ]
     },
     "execution_count": 20,
     "metadata": {},
     "output_type": "execute_result"
    }
   ],
   "source": [
    "testjson.keys()"
   ]
  },
  {
   "cell_type": "code",
   "execution_count": 21,
   "id": "ca873ea7-027e-4ddf-9870-86bc58c58fb0",
   "metadata": {},
   "outputs": [
    {
     "data": {
      "text/plain": [
       "'The officer failed to properly process property.'"
      ]
     },
     "execution_count": 21,
     "metadata": {},
     "output_type": "execute_result"
    }
   ],
   "source": [
    "testjson['text']"
   ]
  },
  {
   "cell_type": "code",
   "execution_count": 22,
   "id": "b2b3edb0-7752-47b2-ad52-149aa323128b",
   "metadata": {},
   "outputs": [
    {
     "data": {
      "text/plain": [
       "48"
      ]
     },
     "execution_count": 22,
     "metadata": {},
     "output_type": "execute_result"
    }
   ],
   "source": [
    "len(testjson['text'])"
   ]
  },
  {
   "cell_type": "code",
   "execution_count": 23,
   "id": "eb244b94-18e0-4654-b74e-bcc57a27be2e",
   "metadata": {},
   "outputs": [
    {
     "data": {
      "text/plain": [
       "[{'start': 0, 'end': 48}]"
      ]
     },
     "execution_count": 23,
     "metadata": {},
     "output_type": "execute_result"
    }
   ],
   "source": [
    "testjson['sents']"
   ]
  },
  {
   "cell_type": "code",
   "execution_count": 24,
   "id": "b37efdc5-3adf-4872-8c76-3eda9fd99e24",
   "metadata": {},
   "outputs": [
    {
     "data": {
      "text/plain": [
       "{'id': 0,\n",
       " 'start': 0,\n",
       " 'end': 3,\n",
       " 'tag': 'DT',\n",
       " 'pos': 'DET',\n",
       " 'morph': 'Definite=Def|PronType=Art',\n",
       " 'lemma': 'the',\n",
       " 'dep': 'det',\n",
       " 'head': 1}"
      ]
     },
     "execution_count": 24,
     "metadata": {},
     "output_type": "execute_result"
    }
   ],
   "source": [
    "testjson['tokens'][0]"
   ]
  },
  {
   "cell_type": "code",
   "execution_count": 25,
   "id": "60911455-d0f1-4c3a-8805-5f1c87f55890",
   "metadata": {},
   "outputs": [
    {
     "data": {
      "text/plain": [
       "['the', 'officer', 'fail', 'to', 'properly', 'process', 'property', '.']"
      ]
     },
     "execution_count": 25,
     "metadata": {},
     "output_type": "execute_result"
    }
   ],
   "source": [
    "[token['lemma'] for token in testjson['tokens']]"
   ]
  },
  {
   "cell_type": "code",
   "execution_count": 26,
   "id": "91c12e2d-84c5-425e-bd8d-fdcf90ae31a1",
   "metadata": {},
   "outputs": [
    {
     "data": {
      "text/plain": [
       "['DET', 'NOUN', 'VERB', 'PART', 'ADV', 'VERB', 'NOUN', 'PUNCT']"
      ]
     },
     "execution_count": 26,
     "metadata": {},
     "output_type": "execute_result"
    }
   ],
   "source": [
    "[token['pos'] for token in testjson['tokens']]"
   ]
  },
  {
   "cell_type": "code",
   "execution_count": 27,
   "id": "58a38029-95a6-45dc-9c1c-417b8d89e26d",
   "metadata": {},
   "outputs": [
    {
     "data": {
      "text/plain": [
       "['det', 'nsubj', 'ROOT', 'aux', 'advmod', 'xcomp', 'dobj', 'punct']"
      ]
     },
     "execution_count": 27,
     "metadata": {},
     "output_type": "execute_result"
    }
   ],
   "source": [
    "[token['dep'] for token in testjson['tokens']]"
   ]
  },
  {
   "cell_type": "markdown",
   "id": "7a1c8785-ac0d-4b22-8333-37768f5b7133",
   "metadata": {},
   "source": [
    "# keyword rake"
   ]
  },
  {
   "cell_type": "code",
   "execution_count": 28,
   "id": "7c8fb17a-eb4d-499e-9642-51efc35e3e34",
   "metadata": {},
   "outputs": [],
   "source": [
    "ranklist = r.apply(test)"
   ]
  },
  {
   "cell_type": "code",
   "execution_count": 29,
   "id": "64ccc0c2-ccb6-4514-b09e-e83fab23aed0",
   "metadata": {},
   "outputs": [
    {
     "data": {
      "text/plain": [
       "[(3.0, properly process property), (2.0, officer failed)]"
      ]
     },
     "execution_count": 29,
     "metadata": {},
     "output_type": "execute_result"
    }
   ],
   "source": [
    "ranklist"
   ]
  },
  {
   "cell_type": "code",
   "execution_count": 30,
   "id": "d8b6de0a-379e-4a15-88bc-ddcf1431c0f2",
   "metadata": {},
   "outputs": [
    {
     "data": {
      "text/plain": [
       "17645    (3.0, (properly, process, property))\n",
       "Name: ranklist, dtype: object"
      ]
     },
     "execution_count": 30,
     "metadata": {},
     "output_type": "execute_result"
    }
   ],
   "source": [
    "sample.ranklist"
   ]
  },
  {
   "cell_type": "markdown",
   "id": "e96ae9b8-6c1a-4b6a-b5f2-6ca0ed67b7b5",
   "metadata": {},
   "source": [
    "# review candidates"
   ]
  },
  {
   "cell_type": "code",
   "execution_count": 31,
   "id": "34bc9b7a-f34d-48bd-8792-d36e2425105a",
   "metadata": {},
   "outputs": [
    {
     "data": {
      "text/plain": [
       "nkws\n",
       "3    1635\n",
       "4     421\n",
       "5      54\n",
       "6      15\n",
       "7       1\n",
       "Name: count, dtype: int64"
      ]
     },
     "execution_count": 31,
     "metadata": {},
     "output_type": "execute_result"
    }
   ],
   "source": [
    "cands.nkws.value_counts()"
   ]
  },
  {
   "cell_type": "code",
   "execution_count": 41,
   "id": "523efd5e-7e1c-4019-bb21-7164fc687906",
   "metadata": {},
   "outputs": [
    {
     "data": {
      "text/plain": [
       "kwphrase\n",
       "officer behaved inappropriately                      12\n",
       "Body Worn Cameras.                                   10\n",
       "properly process property.                            8\n",
       "officer behaved inappropriately.                      6\n",
       "Language Access Services                              4\n",
       "accurate incident report.                             4\n",
       "Limited English Proficient                            4\n",
       "Traffic Stop Data Collection Program Information.     3\n",
       "officers unlawfully entered                           3\n",
       "incomplete incident report.                           3\n",
       "Name: count, dtype: int64"
      ]
     },
     "execution_count": 41,
     "metadata": {},
     "output_type": "execute_result"
    }
   ],
   "source": [
    "cands.loc[(cands.finding.str.contains(\"sust\", flags=re.I)), 'kwphrase'].value_counts().head(10)"
   ]
  },
  {
   "cell_type": "code",
   "execution_count": 42,
   "id": "0ef22a00-d8d2-4350-919e-9d4145a16e80",
   "metadata": {},
   "outputs": [
    {
     "data": {
      "text/plain": [
       "kwphrase\n",
       "officer behaved inappropriately              119\n",
       "officer behaved inappropriately.              78\n",
       "properly process property.                    49\n",
       "officer behaved inappropriately and/or        41\n",
       "officers behaved inappropriately              32\n",
       "officer exhibited inappropriate behavior.     26\n",
       "officers behaved inappropriately.             23\n",
       "biased policing based                         21\n",
       "officer drove improperly.                     18\n",
       "racially derogatory comment.                  17\n",
       "Name: count, dtype: int64"
      ]
     },
     "execution_count": 42,
     "metadata": {},
     "output_type": "execute_result"
    }
   ],
   "source": [
    "cands.loc[(cands.finding.str.contains(\"NS\", flags=re.I)), 'kwphrase'].value_counts().head(10)"
   ]
  },
  {
   "cell_type": "code",
   "execution_count": null,
   "id": "2b972587-f8ba-4d6b-9820-aeef4fef611e",
   "metadata": {},
   "outputs": [],
   "source": []
  }
 ],
 "metadata": {
  "kernelspec": {
   "display_name": "Python 3 (ipykernel)",
   "language": "python",
   "name": "python3"
  },
  "language_info": {
   "codemirror_mode": {
    "name": "ipython",
    "version": 3
   },
   "file_extension": ".py",
   "mimetype": "text/x-python",
   "name": "python",
   "nbconvert_exporter": "python",
   "pygments_lexer": "ipython3",
   "version": "3.12.4"
  }
 },
 "nbformat": 4,
 "nbformat_minor": 5
}
