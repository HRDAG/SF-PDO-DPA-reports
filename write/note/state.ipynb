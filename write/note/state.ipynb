{
 "cells": [
  {
   "cell_type": "markdown",
   "id": "fbb9d8d6-21d0-424c-ab11-ccf718d5bf7d",
   "metadata": {},
   "source": [
    "# setup"
   ]
  },
  {
   "cell_type": "code",
   "execution_count": 1,
   "id": "327ef77f-e271-4a47-9e57-56b6ff11a33f",
   "metadata": {},
   "outputs": [],
   "source": [
    "# dependencies\n",
    "from os.path import isdir\n",
    "from pathlib import Path\n",
    "import re\n",
    "import pandas as pd\n",
    "from matplotlib import pyplot as plt"
   ]
  },
  {
   "cell_type": "code",
   "execution_count": 2,
   "id": "4dba0aab-0436-4d7b-8777-1bb108dacfbe",
   "metadata": {},
   "outputs": [],
   "source": [
    "# support methods\n",
    "def getfiles(arg, fext):\n",
    "    assert isdir(arg)\n",
    "    return [path for path in Path(arg).rglob(f'*.{fext}')]\n",
    "\n",
    "\n",
    "def readtext(fname):\n",
    "    with open(fname, 'r') as f:\n",
    "        lines = f.readlines()\n",
    "    return lines"
   ]
  },
  {
   "cell_type": "code",
   "execution_count": 55,
   "id": "65ece829-e9ba-40c2-a5f1-873c6a49bf83",
   "metadata": {},
   "outputs": [],
   "source": [
    "# main\n",
    "pdfs = getfiles(arg=\"../../scrape/output/pdfs\", fext='pdf')\n",
    "texts = getfiles(arg=\"../../pdf2text/output/txt-test/\", fext='txt')\n",
    "texts_ref = pd.read_parquet(\"../../pdf2text/output/reference-table.parquet\")\n",
    "segments = getfiles(arg=\"../../segment/output/each\", fext='parquet')\n",
    "segments_ref = pd.read_parquet(\"../../segment/output/reference-table.parquet\")\n",
    "#filtered = [path for path in getfiles(arg=\"../../filter/output\", fext='parquet')\n",
    "#            if 'complaints' not in path.name]\n",
    "#filtered_ref = pd.read_parquet(\"../../filter/output/complaints.parquet\")\n",
    "#cleaned = pd.read_parquet(\"../../clean/output/complaints.parquet\")\n",
    "#indicated = pd.read_parquet(\"../../indicate/output/complaints.parquet\")\n",
    "#complaints = pd.read_parquet(\"../../export/output/complaints.parquet\") # should be called allegations\n",
    "#\n",
    "#dpa = complaints.copy()\n",
    "#working = dpa.loc[dpa.time_to_complete > pd.Timedelta(0)].copy()"
   ]
  },
  {
   "cell_type": "code",
   "execution_count": 56,
   "id": "447b0fee-370b-4bb4-9ce9-7c7d0f4bb540",
   "metadata": {},
   "outputs": [
    {
     "data": {
      "text/plain": [
       "31212"
      ]
     },
     "execution_count": 56,
     "metadata": {},
     "output_type": "execute_result"
    }
   ],
   "source": [
    "segments_ref.shape[0]"
   ]
  },
  {
   "cell_type": "code",
   "execution_count": 57,
   "id": "e171341e-55d1-479e-8802-42a0e0c0d5de",
   "metadata": {},
   "outputs": [
    {
     "data": {
      "text/html": [
       "<div>\n",
       "<style scoped>\n",
       "    .dataframe tbody tr th:only-of-type {\n",
       "        vertical-align: middle;\n",
       "    }\n",
       "\n",
       "    .dataframe tbody tr th {\n",
       "        vertical-align: top;\n",
       "    }\n",
       "\n",
       "    .dataframe thead th {\n",
       "        text-align: right;\n",
       "    }\n",
       "</style>\n",
       "<table border=\"1\" class=\"dataframe\">\n",
       "  <thead>\n",
       "    <tr style=\"text-align: right;\">\n",
       "      <th></th>\n",
       "      <th>29291</th>\n",
       "    </tr>\n",
       "  </thead>\n",
       "  <tbody>\n",
       "    <tr>\n",
       "      <th>pdf_url</th>\n",
       "      <td>https://wayback.archive-it.org/org-571/2023012...</td>\n",
       "    </tr>\n",
       "    <tr>\n",
       "      <th>pdf_file</th>\n",
       "      <td>output/pdfs/occ-OCC_06_05_openness.pdf</td>\n",
       "    </tr>\n",
       "    <tr>\n",
       "      <th>fileid</th>\n",
       "      <td>87fb9716</td>\n",
       "    </tr>\n",
       "    <tr>\n",
       "      <th>complaint_no</th>\n",
       "      <td>33</td>\n",
       "    </tr>\n",
       "    <tr>\n",
       "      <th>complaint_meta</th>\n",
       "      <td>DATE OF COMPLAINT: 08/16/04 DATE OF COMPLETION...</td>\n",
       "    </tr>\n",
       "    <tr>\n",
       "      <th>allegation_no</th>\n",
       "      <td>6</td>\n",
       "    </tr>\n",
       "    <tr>\n",
       "      <th>allegation_text</th>\n",
       "      <td>SUMMARY OF ALLEGATION #7: The officer detained...</td>\n",
       "    </tr>\n",
       "    <tr>\n",
       "      <th>allegation_start_page</th>\n",
       "      <td>62</td>\n",
       "    </tr>\n",
       "    <tr>\n",
       "      <th>continued_early</th>\n",
       "      <td>False</td>\n",
       "    </tr>\n",
       "    <tr>\n",
       "      <th>txt_file</th>\n",
       "      <td>../pdf2text/output/txt-test/occ-OCC_06_05_open...</td>\n",
       "    </tr>\n",
       "    <tr>\n",
       "      <th>blank_allegation</th>\n",
       "      <td>False</td>\n",
       "    </tr>\n",
       "    <tr>\n",
       "      <th>outside_jurisdiction</th>\n",
       "      <td>False</td>\n",
       "    </tr>\n",
       "    <tr>\n",
       "      <th>allegation_id</th>\n",
       "      <td>bcee38e851fb7ff2</td>\n",
       "    </tr>\n",
       "  </tbody>\n",
       "</table>\n",
       "</div>"
      ],
      "text/plain": [
       "                                                                   29291\n",
       "pdf_url                https://wayback.archive-it.org/org-571/2023012...\n",
       "pdf_file                          output/pdfs/occ-OCC_06_05_openness.pdf\n",
       "fileid                                                          87fb9716\n",
       "complaint_no                                                          33\n",
       "complaint_meta         DATE OF COMPLAINT: 08/16/04 DATE OF COMPLETION...\n",
       "allegation_no                                                          6\n",
       "allegation_text        SUMMARY OF ALLEGATION #7: The officer detained...\n",
       "allegation_start_page                                                 62\n",
       "continued_early                                                    False\n",
       "txt_file               ../pdf2text/output/txt-test/occ-OCC_06_05_open...\n",
       "blank_allegation                                                   False\n",
       "outside_jurisdiction                                               False\n",
       "allegation_id                                           bcee38e851fb7ff2"
      ]
     },
     "execution_count": 57,
     "metadata": {},
     "output_type": "execute_result"
    }
   ],
   "source": [
    "segments_ref.sample().T"
   ]
  },
  {
   "cell_type": "code",
   "execution_count": 58,
   "id": "c6fc6ca2-815a-48ad-81b5-c651933a552c",
   "metadata": {},
   "outputs": [
    {
     "data": {
      "text/plain": [
       "array([['b84d9434', 29, 1,\n",
       "        'SUMMARY OF ALLEGATIONS #1 - 4: The officers used unnecessary force.     CATEGORY OF CONDUCT: UF                      FINDING: PC             DEPT. ACTION:  FINDINGS OF FACT: The complainant stated the officers used unnecessary force during his detention and arrest. The complainant did not sign a medical release form. As such, the DPA was unable to obtain his medical records.  The named officers denied the allegation of unnecessary force, stating the amount of force used was reasonable and necessary to remove the complainant from the vehicle because the complainant was physically resisting them.  The first named officer stated he and his partner observed a vehicle parked in a designated disabled parking space. The vehicle did not have a disabled placard or disabled license plate displayed, which is a violation of the California Vehicle Code. When the officers approached the vehicle, the complainant was asked to roll down the window and when he did so, the officers could smell the odor of marijuana come from the car. The officers decided to detain the complainant to conduct a marijuana investigation. The complainant verbally and physically refused to comply with the officers’ orders to exit the vehicle and the officer had to physically remove the complainant from the vehicle. One officer stated an immediate use of force was required in order to get the complainant handcuffed for their safety and his.  Video footage from the complainant’s cell phone captured 2 minutes 34 seconds of the contact. The video hows the complainant delaying the investigation. The first named officer told the complainant he could mell marijuana and asked him at least 11 times to step out of the car. The complainant refused to comply with the officer’s order and continued to argue with the officer, further delaying the investigation. The officer reached into the vehicle and attempted to grab the complainant’s right arm to remove him from the vehicle. The complainant is observed actively resisting the officer and the complainant is heard yelling that the officer is hurting him.  During the struggle with the complainant, one officer sustained a cut to her left ring finger, another officer ustained an abrasion to his upper right lip and a third officer sustained a small puncture to his right ring finger.  A civilian witness corroborated the officers’ version of the incident. The witness stated he noticed the passenger (complainant) and one of the officers interacting. The police officer was trying to get an ID or SUMMARY OF ALLEGATIONS #1 – 4 (continued): license or some sort of ID from the passenger and the passenger had his phone on and was recording the contact. He heard the passenger say to the officer – “Why, why do want my ID?” The passenger was not cooperating with the officer. The officer kept repeating 10 or 15 times, “Get out of the car. I need some ID.” The witness stated the passenger got out and the officer walked towards him and the passenger gave the officer like a stiff arm and once the passenger touched the cop, they got into a scuffle. Another officer arrived just before they got into a cuffle. Two officers secured the complainant and put him in handcuffs.  The witness stated he thought the force used by the officers was reasonable under the circumstances. The witness stated he did not see the officers punch or hit the complainant. He saw the officers tackle the complainant, place his arms behind his back and handcuff the complainant.  Department records show that the named officers reported their use of force to their supervisor, and the upervisor made the entry into the Use of Force Log, as required.  SFPD General Order 5.01, Use of Force, states, in part: “officers may use force during the performance of their duties…to effect the lawful arrest/detention of persons resisting or attempting to evade that arrest/detention.”  The video footage did not provide any evidence of unnecessary force being used on the complainant. The evidence established that the named officers acted reasonably and the physical control used by the officers was necessary to affect the detention and arrest of the complainant.  The evidence proved that the acts, which provided the basis for the allegations, occurred. However, the acts were justified, lawful, and proper.'],\n",
       "       ['9358ee2c', 13, 2,\n",
       "        'SUMMARY OF ALLEGATIONS #2-3: The officers behaved inappropriately and made inappropriate comments.  CATEGORY OF CONDUCT:                   CRD         FINDING:          U        DEPT. ACTION:  FINDINGS OF FACT: The complainants stated the officers were disrespectful, aggressive, intimidating, harassing, unprofessional, and failed to explain why they were being detained in the traffic stop. The complainant stated the main officer failed to address them properly. The complainants further stated the officers returned the driver’s license and vehicle insurance information in a disorganized manner.  Department records showed that the named officers detained the complainants in a traffic stop and one officer issued a citation to the complainant for vehicle code violation 22107CVC for failing to use his turn ignal.  The SFPD Body Worn Camera (BWC) of the named officers showed that the named officers were respectful, polite while the complainant was agitated and angry. The complainant used profanity and repeatedly called SUMMARY OF ALLEGATIONS #2-3 continued:  the named officers “jerks” and told them they were “cocky.” The co-complainant could be heard on the recording telling the complainant to calm down. The named officers explained to the complainants the reasons for the traffic stop and the citation. The main named officer addressed the complainants as “Sir” and “Your friend.” The complainant repeatedly used his cellular phone after being told by the named officers not to use it. The main named officer returned the complainant’s driver’s license and vehicle registration information to the complainant in a semi-wrinkled manner as it was initially provided by the complainant. The BWC from the named officers contradicted the complainant’s allegations against the named officers.  The evidence proved that the act alleged in the complaint did not occur or that the named officer was not involved in the act alleged.   '],\n",
       "       ['0c4e3b27', 12, 1,\n",
       "        'SUMMARY OF ALLEGATION #1: The officer detained a person without justification.   CATEGORY OF CONDUCT:                   UA     FINDING:           PC       DEPT. ACTION:  FINDINGS OF FACT: The complainant stated that the officer wrongly detained him in connection with a traffic stop during which he was removed from his vehicle.  The named officer stated that he used SFPD-approved methods of determining that the complainant was driving his vehicle 50 miles per hour in a 35 miles per hour zone. The named officer further stated that he effected a traffic stop of the complainant’s vehicle because the complainant was driving his vehicle in excess of the speed limit.  SFPD records showed that the named officer pulled the complainant over for operating his vehicle at excessive highway speed. The records also showed that the named officer ordered the complainant to put away his phone, but that the complainant ignored the command, turned his body away from the named officer, and then subsequently ignored the named officer’s command to get out of the car. The named officer opened the car door and detained the complainant for delaying or obstructing a police officer in the discharge of his duties.  Body-worn camera footage showed the named officer presenting a citation for speeding to the complainant and asking him to sign the citation. The complainant stated that he would comply but that he eeded to record the interaction because it was his right. The named officer ordered the complainant at least two additional times to put his phone down; however, the complainant argued that he needed to record the interaction. The named officer then ordered the complainant to exit the vehicle. The complainant continued to argue and then eventually placed the phone in a phone stand and exited the vehicle under his own power. The named officer then began the process of citing the complainant for delaying a police officer.  The evidence proves that the alleged conduct occurred; however, the conduct was justified, lawful, and proper.'],\n",
       "       ['8d2c60ac', 63, 1,\n",
       "        'SUMMARY OF ALLEGATION #1: The officer issued a citation to the complainant without cause.     CATEGORY OF CONDUCT: UA                   FINDING: NS                DEPT. ACTION:  FINDINGS OF FACT: The complainant was cited for violation of section 21950(b) of the California Vehicle Code, which prohibits a pedestrian from crossing the street when there is a nearby hazard. Heavy road construction equipment was being used to re-pave the street in close proximity to where the complainant attempted to cross. Nevertheless, the complainant believes she had the right-of-way to walk across the street, since the traffic signal indicated she could. Because of the street re-pavement operation was in progress, a uniformed police officer was directing traffic at this intersection. The officer told the complainant to stop and go back to the street curb. The complainant made a remark which the officer took as offensive. The complainant became bewildered, and asked the officer where was she supposed to cross. The complainant said she eventually complied with the officer’s command to return to the street curb. The officer stated the complainant initially ignored his command and continued to walk across the treet. When the complainant eventually obeyed the officer’s command, another traffic hazard developed as the complainant was returning to the curb. No witnesses were developed to support this allegation. There is insufficient evidence to either prove or disprove the allegation.  '],\n",
       "       ['9358ee2c', 15, 1,\n",
       "        'SUMMARY OF ALLEGATION #1: The officer detained the co-complainant without justification.   CATEGORY OF CONDUCT:                   UA        FINDING:          PC       DEPT. ACTION:  FINDINGS OF FACT: The complainant stated that she sent her 15-year-old son, the co-complainant, to the grocery store at approximately 7:45 p.m., assuming he would return in ten to fifteen minutes. The complainant became worried when he did not return as expected, and she and her daughter began looking for him. The complainant said that at approximately 9:02 p.m. she received a call from the co- complainant, who told her where he was and that he was being detained by an SFPD officer. The complainant stated she dropped everything and ran to the location about two blocks away from her home, where she was reunited with the co-complainant and met the named officer. She said that the named officer explained why he detained the co-complainant, but she was still upset that he was held outdoors, at ight, in the rain for over an hour. The complainant said that the named officer explained that the co- complainant matched the description of a suspect and was wearing a similar hooded sweatshirt. She said that the co-complainant was very scared and told her he thought he was going to die.  The co-complainant stated that his mom, the complainant, sent him to the store. He said that he was walking, turned around, and saw two SFPD officers start to run towards him. The co-complainant said he thought they were chasing someone else, so he moved out of their way and walked between two parked cars. He said that the officers told him to stop, searched him, and asked him for identifying information. He stated that he provided his name and age. The co-complainant said that the named officer made him sit on the ground in the rain and wait a long time. He stated that the named officer told him he was stopped because he was wearing a grey sweatshirt and matched the description of a criminal suspect. The co- complainant said that a witness came and told the officers he was not one of the suspects. The co- complainant said he was eventually able to call his mother, who arrived and spoke to the named officer.  The named officer stated that he was working in plain clothes and, along with other officers, was involved in an investigation immediately following a robbery. The investigation involved multiple suspects, some juveniles, and several foot pursuits. He stated that he saw the co-complainant hiding between cars and looking at a uniformed officer involved in the same investigation. The named officer said that the co- complainant started to walk away, and he instructed the uniformed officer to detain him. The named officer said that the co-complainant was wearing a grey hooded sweatshirt, similar to what he had observed one of the suspects wearing earlier. He stated that the suspect was also African American and had a similar build to the co-complainant. In addition, the named officer said that the co-complainant’s behavior and proximity to the events justified his detention. The named officer said that other suspects were detained in different areas and the robbery victim had to be moved between the different locations to conduct “cold shows.” The named officer said that the robbery victim was brought to the location of the SUMMARY OF ALLEGATION #1 continued: co-complainant, but did not identify him as one of the uspects. The named officer said the co-complainant was subsequently released to the complainant and given a Certificate of Release. The uniformed officer, also involved in the detention of the co-complainant, is no longer a member of the SFPD. Records from the Department of Emergency Management document that the named officer reported the co-complainant’s detention at 20:10:53.  The related incident report includes a statement by the named officer. He states that he responded to a robbery call and began surveilling a group of individuals as suspects. The named officer detailed descriptions and clothing of each individual, including one with a “gray hood” protruding from a blue jean jacket. He also documented that, while watching these individuals, one of them “dawned a dark colored Michigan jacket,” and he explained that it was common for suspects to change clothes to avoid identification. The named officer documented that he saw the co-complainant hiding between parked vehicles, then walking swiftly away, while looking back at the uniformed officer. Although he did not have a denim jacket, his hooded sweatshirt was similar to the suspect’s “gray hood.” That fact, coupled with his behavior and location, provided reason to detain him. The report further documents that the co- complainant remained detained until a cold show was conducted with the victim.  SFPD General Order 5.03, Investigative Detentions, states:  A police officer may briefly detain a person for questioning or request identification only if the officer has a reasonable suspicion that the person\\'s behavior is related to criminal activity. The officer, however, must have specific and articulable facts to support his/her actions; a mere suspicion or \"hunch\" is not sufficient cause to detain a person or to request identification.  It also states, “A detention must be brief and limited to the amount of time reasonably necessary to conduct the investigation.”  The named officer was engaged in foot chases and an active investigation in the immediate aftermath of a robbery when the co-complainant was detained. The named officer was able to articulate specific facts connecting the co-complainant to the robbery: his clothing, physical characteristics, and behavior, along with the fact that he was in the area where the suspects had been seen earlier. The named officer detained the co-complainant only as long as necessary to bring the victim to his location for the “cold show.”  The evidence proved that the act, which provided the basis for the allegation, occurred. However, the act was justified, lawful, and proper.']],\n",
       "      dtype=object)"
      ]
     },
     "execution_count": 58,
     "metadata": {},
     "output_type": "execute_result"
    }
   ],
   "source": [
    "segments_ref.loc[segments_ref.allegation_text.str.contains('continued', flags=re.I), [\n",
    "    'fileid', 'complaint_no', 'allegation_no', 'allegation_text']].sample(5).values"
   ]
  },
  {
   "cell_type": "code",
   "execution_count": 59,
   "id": "bf5d056f-2038-4a35-a5d8-1e62809a5163",
   "metadata": {},
   "outputs": [
    {
     "data": {
      "text/plain": [
       "array([], dtype=object)"
      ]
     },
     "execution_count": 59,
     "metadata": {},
     "output_type": "execute_result"
    }
   ],
   "source": [
    "segments_ref.loc[(\n",
    "    segments_ref.fileid == 'd423c57e') & (\n",
    "    segments_ref.complaint_no == 4) & (\n",
    "    segments_ref.allegation_no == 2), 'allegation_text'].values"
   ]
  },
  {
   "cell_type": "code",
   "execution_count": 60,
   "id": "bac9cd70-2bbb-4a2d-b72a-d50abeca7c4e",
   "metadata": {},
   "outputs": [
    {
     "data": {
      "text/plain": [
       "array([['DATE OF COMPLAINT: 09/10/15                  DATE OF COMPLETION: 05/16/16                 PAGE #2 of 3 DATE OF COMPLAINT: 05/22/15                    DATE OF COMPLETION: 05/11/16 PAGE #3 of 3 DATE OF COMPLAINT: 09/10/15                 DATE OF COMPLETION: 05/16/16 PAGE #1 of 3 DATE OF COMPLAINT: 05/22/15                  DATE OF COMPLETION: 05/11/16                PAGE #1 of 3 DATE OF COMPLAINT: 05/22/15                  DATE OF COMPLETION: 05/11/16                  PAGE #2 of 3',\n",
       "        'SUMMARY OF ALLEGATION #1: The officer detained the complainant without justification.   CATEGORY OF CONDUCT: UA                        FINDING: NS             DEPT. ACTION:  FINDINGS OF FACT: The complainant stated that, while riding his bicycle, he stopped at a red light and crossed the intersection when the light turned green. He stated that a female officer yelled at him to top at the red light, followed the complainant and stopped him a block away from the intersection. The complainant alleged that the detention was unjustified.  The named officer stated that she was stopped at a red light, facing south, when she saw a female bicyclist traveling north cross the intersection against the red light. The named officer stated that as she was about to make a U-turn, she saw the complainant cross the intersection against the red light. The named officer tated that she followed the two and stopped the complainant on the next block. She stated that the female cyclist had turned off the street and she could not catch up with her.  No witnesses were identified.  There was insufficient evidence to either prove or disprove the allegation. OFFICE OF CITIZEN COMPLAINTS']],\n",
       "      dtype=object)"
      ]
     },
     "execution_count": 60,
     "metadata": {},
     "output_type": "execute_result"
    }
   ],
   "source": [
    "segments_ref.loc[(\n",
    "    segments_ref.fileid == '2db02abb') & (\n",
    "    segments_ref.complaint_no == 0) & (\n",
    "    segments_ref.allegation_no == 5), ['complaint_meta', 'allegation_text']].values"
   ]
  },
  {
   "cell_type": "code",
   "execution_count": 62,
   "id": "559ec3bb-5c30-4ac5-9d05-5eda3c366dd1",
   "metadata": {},
   "outputs": [
    {
     "data": {
      "text/plain": [
       "11264    SUMMARY OF ALLEGATION #1: The officer behaved ...\n",
       "11263    SUMMARY OF ALLEGATION #2: The officer acted in...\n",
       "11237    SUMMARY OF ALLEGATION #1: The officer failed t...\n",
       "11238    SUMMARY OF ALLEGATION #2: The officer failed t...\n",
       "11212    SUMMARY OF ALLEGATION #1: The officer used pro...\n",
       "11214    SUMMARY OF ALLEGATION #1: The officer made thr...\n",
       "11259    SUMMARY OF ALLEGATION #10: The officer threate...\n",
       "11186    SUMMARY OF ALLEGATION #1: The officer failed t...\n",
       "11216    SUMMARY OF ALLEGATIONS #1 - 2: The officers de...\n",
       "11250    SUMMARY OF ALLEGATIONS #12 - 13: The officers ...\n",
       "Name: allegation_text, dtype: object"
      ]
     },
     "execution_count": 62,
     "metadata": {},
     "output_type": "execute_result"
    }
   ],
   "source": [
    "segments_ref.loc[segments_ref.fileid == '2db02abb'].allegation_text.sample(10)"
   ]
  },
  {
   "cell_type": "code",
   "execution_count": 65,
   "id": "931a03ab-5fba-48ad-8cd2-c4675bd57cb6",
   "metadata": {},
   "outputs": [
    {
     "data": {
      "text/html": [
       "<div>\n",
       "<style scoped>\n",
       "    .dataframe tbody tr th:only-of-type {\n",
       "        vertical-align: middle;\n",
       "    }\n",
       "\n",
       "    .dataframe tbody tr th {\n",
       "        vertical-align: top;\n",
       "    }\n",
       "\n",
       "    .dataframe thead th {\n",
       "        text-align: right;\n",
       "    }\n",
       "</style>\n",
       "<table border=\"1\" class=\"dataframe\">\n",
       "  <thead>\n",
       "    <tr style=\"text-align: right;\">\n",
       "      <th></th>\n",
       "      <th>pdf_url</th>\n",
       "      <th>pdf_file</th>\n",
       "      <th>fileid</th>\n",
       "      <th>complaint_no</th>\n",
       "      <th>complaint_meta</th>\n",
       "      <th>allegation_no</th>\n",
       "      <th>allegation_text</th>\n",
       "      <th>allegation_start_page</th>\n",
       "      <th>continued_early</th>\n",
       "      <th>txt_file</th>\n",
       "      <th>blank_allegation</th>\n",
       "      <th>outside_jurisdiction</th>\n",
       "      <th>allegation_id</th>\n",
       "    </tr>\n",
       "  </thead>\n",
       "  <tbody>\n",
       "    <tr>\n",
       "      <th>11199</th>\n",
       "      <td>https://wayback.archive-it.org/org-571/2023012...</td>\n",
       "      <td>output/pdfs/OCC_05_16_openness.pdf</td>\n",
       "      <td>2db02abb</td>\n",
       "      <td>6</td>\n",
       "      <td>DATE OF COMPLAINT: 06/04/15                DAT...</td>\n",
       "      <td>6</td>\n",
       "      <td>SUMMARY OF ALLEGATION #1: This complaint raise...</td>\n",
       "      <td>47</td>\n",
       "      <td>False</td>\n",
       "      <td>../pdf2text/output/txt-test/OCC_05_16_openness...</td>\n",
       "      <td>False</td>\n",
       "      <td>True</td>\n",
       "      <td>8efa8d8c550cbc29</td>\n",
       "    </tr>\n",
       "    <tr>\n",
       "      <th>11190</th>\n",
       "      <td>https://wayback.archive-it.org/org-571/2023012...</td>\n",
       "      <td>output/pdfs/OCC_05_16_openness.pdf</td>\n",
       "      <td>2db02abb</td>\n",
       "      <td>4</td>\n",
       "      <td>DATE OF COMPLAINT:             02/29/16      D...</td>\n",
       "      <td>1</td>\n",
       "      <td>SUMMARY OF ALLEGATION #1: The officer used unn...</td>\n",
       "      <td>40</td>\n",
       "      <td>False</td>\n",
       "      <td>../pdf2text/output/txt-test/OCC_05_16_openness...</td>\n",
       "      <td>False</td>\n",
       "      <td>False</td>\n",
       "      <td>7073b1334baf2da3</td>\n",
       "    </tr>\n",
       "    <tr>\n",
       "      <th>11187</th>\n",
       "      <td>https://wayback.archive-it.org/org-571/2023012...</td>\n",
       "      <td>output/pdfs/OCC_05_16_openness.pdf</td>\n",
       "      <td>2db02abb</td>\n",
       "      <td>3</td>\n",
       "      <td>DATE OF COMPLAINT: 07/08/15                  D...</td>\n",
       "      <td>2</td>\n",
       "      <td>SUMMARY OF ALLEGATIONS #1-2: The officers deta...</td>\n",
       "      <td>38</td>\n",
       "      <td>False</td>\n",
       "      <td>../pdf2text/output/txt-test/OCC_05_16_openness...</td>\n",
       "      <td>False</td>\n",
       "      <td>False</td>\n",
       "      <td>c4478c3aab089fe1</td>\n",
       "    </tr>\n",
       "    <tr>\n",
       "      <th>11234</th>\n",
       "      <td>https://wayback.archive-it.org/org-571/2023012...</td>\n",
       "      <td>output/pdfs/OCC_05_16_openness.pdf</td>\n",
       "      <td>2db02abb</td>\n",
       "      <td>17</td>\n",
       "      <td>DATE OF COMPLAINT: 03/19/15                DAT...</td>\n",
       "      <td>1</td>\n",
       "      <td>SUMMARY OF ALLEGATIONS #1 - 2: The officers us...</td>\n",
       "      <td>73</td>\n",
       "      <td>False</td>\n",
       "      <td>../pdf2text/output/txt-test/OCC_05_16_openness...</td>\n",
       "      <td>False</td>\n",
       "      <td>False</td>\n",
       "      <td>70a9f6f2222de2be</td>\n",
       "    </tr>\n",
       "    <tr>\n",
       "      <th>11204</th>\n",
       "      <td>https://wayback.archive-it.org/org-571/2023012...</td>\n",
       "      <td>output/pdfs/OCC_05_16_openness.pdf</td>\n",
       "      <td>2db02abb</td>\n",
       "      <td>9</td>\n",
       "      <td>DATE OF COMPLAINT:          05/20/16    DATE O...</td>\n",
       "      <td>1</td>\n",
       "      <td>SUMMARY OF ALLEGATION #1: This complaint raise...</td>\n",
       "      <td>51</td>\n",
       "      <td>False</td>\n",
       "      <td>../pdf2text/output/txt-test/OCC_05_16_openness...</td>\n",
       "      <td>False</td>\n",
       "      <td>True</td>\n",
       "      <td>c45cbd6a20d1cbd4</td>\n",
       "    </tr>\n",
       "    <tr>\n",
       "      <th>11248</th>\n",
       "      <td>https://wayback.archive-it.org/org-571/2023012...</td>\n",
       "      <td>output/pdfs/OCC_05_16_openness.pdf</td>\n",
       "      <td>2db02abb</td>\n",
       "      <td>21</td>\n",
       "      <td>DATE OF COMPLAINT: 04/13/15                DAT...</td>\n",
       "      <td>6</td>\n",
       "      <td>SUMMARY OF ALLEGATION #9: The officer interfer...</td>\n",
       "      <td>81</td>\n",
       "      <td>False</td>\n",
       "      <td>../pdf2text/output/txt-test/OCC_05_16_openness...</td>\n",
       "      <td>False</td>\n",
       "      <td>False</td>\n",
       "      <td>2fd2872d5519c610</td>\n",
       "    </tr>\n",
       "    <tr>\n",
       "      <th>11157</th>\n",
       "      <td>https://wayback.archive-it.org/org-571/2023012...</td>\n",
       "      <td>output/pdfs/OCC_05_16_openness.pdf</td>\n",
       "      <td>2db02abb</td>\n",
       "      <td>0</td>\n",
       "      <td>DATE OF COMPLAINT: 06/04/15                  D...</td>\n",
       "      <td>20</td>\n",
       "      <td>SUMMARY OF ALLEGATION #31: The officer failed ...</td>\n",
       "      <td>13</td>\n",
       "      <td>False</td>\n",
       "      <td>../pdf2text/output/txt-test/OCC_05_16_openness...</td>\n",
       "      <td>False</td>\n",
       "      <td>False</td>\n",
       "      <td>da4b0773656e340d</td>\n",
       "    </tr>\n",
       "    <tr>\n",
       "      <th>11207</th>\n",
       "      <td>https://wayback.archive-it.org/org-571/2023012...</td>\n",
       "      <td>output/pdfs/OCC_05_16_openness.pdf</td>\n",
       "      <td>2db02abb</td>\n",
       "      <td>10</td>\n",
       "      <td>DATE OF COMPLAINT: 04/05/16               DATE...</td>\n",
       "      <td>3</td>\n",
       "      <td>SUMMARY OF ALLEGATION #2: The officer failed t...</td>\n",
       "      <td>53</td>\n",
       "      <td>False</td>\n",
       "      <td>../pdf2text/output/txt-test/OCC_05_16_openness...</td>\n",
       "      <td>False</td>\n",
       "      <td>False</td>\n",
       "      <td>61c451fea9d607ff</td>\n",
       "    </tr>\n",
       "    <tr>\n",
       "      <th>11251</th>\n",
       "      <td>https://wayback.archive-it.org/org-571/2023012...</td>\n",
       "      <td>output/pdfs/OCC_05_16_openness.pdf</td>\n",
       "      <td>2db02abb</td>\n",
       "      <td>21</td>\n",
       "      <td>DATE OF COMPLAINT: 04/13/15                DAT...</td>\n",
       "      <td>9</td>\n",
       "      <td>SUMMARY OF ALLEGATIONS #14: The officer used u...</td>\n",
       "      <td>83</td>\n",
       "      <td>False</td>\n",
       "      <td>../pdf2text/output/txt-test/OCC_05_16_openness...</td>\n",
       "      <td>False</td>\n",
       "      <td>False</td>\n",
       "      <td>fcced6fbd153a60a</td>\n",
       "    </tr>\n",
       "    <tr>\n",
       "      <th>11227</th>\n",
       "      <td>https://wayback.archive-it.org/org-571/2023012...</td>\n",
       "      <td>output/pdfs/OCC_05_16_openness.pdf</td>\n",
       "      <td>2db02abb</td>\n",
       "      <td>15</td>\n",
       "      <td>DATE OF COMPLAINT: 04/23/15               DATE...</td>\n",
       "      <td>2</td>\n",
       "      <td>SUMMARY OF ALLEGATIONS #3-4: The officers arre...</td>\n",
       "      <td>69</td>\n",
       "      <td>False</td>\n",
       "      <td>../pdf2text/output/txt-test/OCC_05_16_openness...</td>\n",
       "      <td>False</td>\n",
       "      <td>False</td>\n",
       "      <td>c942f03d3029a603</td>\n",
       "    </tr>\n",
       "  </tbody>\n",
       "</table>\n",
       "</div>"
      ],
      "text/plain": [
       "                                                 pdf_url  \\\n",
       "11199  https://wayback.archive-it.org/org-571/2023012...   \n",
       "11190  https://wayback.archive-it.org/org-571/2023012...   \n",
       "11187  https://wayback.archive-it.org/org-571/2023012...   \n",
       "11234  https://wayback.archive-it.org/org-571/2023012...   \n",
       "11204  https://wayback.archive-it.org/org-571/2023012...   \n",
       "11248  https://wayback.archive-it.org/org-571/2023012...   \n",
       "11157  https://wayback.archive-it.org/org-571/2023012...   \n",
       "11207  https://wayback.archive-it.org/org-571/2023012...   \n",
       "11251  https://wayback.archive-it.org/org-571/2023012...   \n",
       "11227  https://wayback.archive-it.org/org-571/2023012...   \n",
       "\n",
       "                                 pdf_file    fileid  complaint_no  \\\n",
       "11199  output/pdfs/OCC_05_16_openness.pdf  2db02abb             6   \n",
       "11190  output/pdfs/OCC_05_16_openness.pdf  2db02abb             4   \n",
       "11187  output/pdfs/OCC_05_16_openness.pdf  2db02abb             3   \n",
       "11234  output/pdfs/OCC_05_16_openness.pdf  2db02abb            17   \n",
       "11204  output/pdfs/OCC_05_16_openness.pdf  2db02abb             9   \n",
       "11248  output/pdfs/OCC_05_16_openness.pdf  2db02abb            21   \n",
       "11157  output/pdfs/OCC_05_16_openness.pdf  2db02abb             0   \n",
       "11207  output/pdfs/OCC_05_16_openness.pdf  2db02abb            10   \n",
       "11251  output/pdfs/OCC_05_16_openness.pdf  2db02abb            21   \n",
       "11227  output/pdfs/OCC_05_16_openness.pdf  2db02abb            15   \n",
       "\n",
       "                                          complaint_meta  allegation_no  \\\n",
       "11199  DATE OF COMPLAINT: 06/04/15                DAT...              6   \n",
       "11190  DATE OF COMPLAINT:             02/29/16      D...              1   \n",
       "11187  DATE OF COMPLAINT: 07/08/15                  D...              2   \n",
       "11234  DATE OF COMPLAINT: 03/19/15                DAT...              1   \n",
       "11204  DATE OF COMPLAINT:          05/20/16    DATE O...              1   \n",
       "11248  DATE OF COMPLAINT: 04/13/15                DAT...              6   \n",
       "11157  DATE OF COMPLAINT: 06/04/15                  D...             20   \n",
       "11207  DATE OF COMPLAINT: 04/05/16               DATE...              3   \n",
       "11251  DATE OF COMPLAINT: 04/13/15                DAT...              9   \n",
       "11227  DATE OF COMPLAINT: 04/23/15               DATE...              2   \n",
       "\n",
       "                                         allegation_text  \\\n",
       "11199  SUMMARY OF ALLEGATION #1: This complaint raise...   \n",
       "11190  SUMMARY OF ALLEGATION #1: The officer used unn...   \n",
       "11187  SUMMARY OF ALLEGATIONS #1-2: The officers deta...   \n",
       "11234  SUMMARY OF ALLEGATIONS #1 - 2: The officers us...   \n",
       "11204  SUMMARY OF ALLEGATION #1: This complaint raise...   \n",
       "11248  SUMMARY OF ALLEGATION #9: The officer interfer...   \n",
       "11157  SUMMARY OF ALLEGATION #31: The officer failed ...   \n",
       "11207  SUMMARY OF ALLEGATION #2: The officer failed t...   \n",
       "11251  SUMMARY OF ALLEGATIONS #14: The officer used u...   \n",
       "11227  SUMMARY OF ALLEGATIONS #3-4: The officers arre...   \n",
       "\n",
       "       allegation_start_page  continued_early  \\\n",
       "11199                     47            False   \n",
       "11190                     40            False   \n",
       "11187                     38            False   \n",
       "11234                     73            False   \n",
       "11204                     51            False   \n",
       "11248                     81            False   \n",
       "11157                     13            False   \n",
       "11207                     53            False   \n",
       "11251                     83            False   \n",
       "11227                     69            False   \n",
       "\n",
       "                                                txt_file  blank_allegation  \\\n",
       "11199  ../pdf2text/output/txt-test/OCC_05_16_openness...             False   \n",
       "11190  ../pdf2text/output/txt-test/OCC_05_16_openness...             False   \n",
       "11187  ../pdf2text/output/txt-test/OCC_05_16_openness...             False   \n",
       "11234  ../pdf2text/output/txt-test/OCC_05_16_openness...             False   \n",
       "11204  ../pdf2text/output/txt-test/OCC_05_16_openness...             False   \n",
       "11248  ../pdf2text/output/txt-test/OCC_05_16_openness...             False   \n",
       "11157  ../pdf2text/output/txt-test/OCC_05_16_openness...             False   \n",
       "11207  ../pdf2text/output/txt-test/OCC_05_16_openness...             False   \n",
       "11251  ../pdf2text/output/txt-test/OCC_05_16_openness...             False   \n",
       "11227  ../pdf2text/output/txt-test/OCC_05_16_openness...             False   \n",
       "\n",
       "       outside_jurisdiction     allegation_id  \n",
       "11199                  True  8efa8d8c550cbc29  \n",
       "11190                 False  7073b1334baf2da3  \n",
       "11187                 False  c4478c3aab089fe1  \n",
       "11234                 False  70a9f6f2222de2be  \n",
       "11204                  True  c45cbd6a20d1cbd4  \n",
       "11248                 False  2fd2872d5519c610  \n",
       "11157                 False  da4b0773656e340d  \n",
       "11207                 False  61c451fea9d607ff  \n",
       "11251                 False  fcced6fbd153a60a  \n",
       "11227                 False  c942f03d3029a603  "
      ]
     },
     "execution_count": 65,
     "metadata": {},
     "output_type": "execute_result"
    }
   ],
   "source": [
    "segments_ref.loc[segments_ref.fileid == '2db02abb'].sample(10)"
   ]
  },
  {
   "cell_type": "code",
   "execution_count": null,
   "id": "b0fa43fd-0ca5-4bc2-86f4-5050106e75e0",
   "metadata": {},
   "outputs": [],
   "source": []
  },
  {
   "cell_type": "code",
   "execution_count": 30,
   "id": "d7e00c2a-7809-4f96-b9a5-dd04fdd577d2",
   "metadata": {},
   "outputs": [
    {
     "data": {
      "text/plain": [
       "array(['SUMMARY OF ALLEGATION #3-5: The officers failed to comply with Department General Order 9.01 and 5.08. CATEGORY OF CONDUCT: ND                         FINDING:        S        DEPT. ACTION: FINDINGS OF FACT: The complainant stated he was pulled over on a congested street when he heard a siren and saw emergency lights through his rear window. He was expecting to see a uniformed officer approach his driver side window and was startled when a man in civilian clothes walked toward him instead. The complainant did not understand that the man approaching his car was an officer until the man reached his window and held out a badge. The complainant stated plainclothes officers should not conduct traffic stops because it is alarming to see a non-uniformed person approaching your driver side window when you think you have been pulled over by a police officer. One named officer is on medical leave. The allegation against him has been bifurcated from thi Complaint Summary Report. This finding pertains only to two named officers. Two named officers stated they contacted the complainant because he was double-parked in a lane of traffic for a prolonged period of time, which constituted an “aggravated situation” requiring them to take immediate action to protect life or property. The named officers explained that the situation wa “aggravated” because they suspected the complainant was intoxicated or needed help. The officers stated that a drunk driving investigation falls under the “aggravated situation” exception to the rule prohibiting plainclothes officers from conducting traffic enforcement. The officers stated they did not call for uniformed backup officers because the complainant was already stopped or parked, which meant they did not initiate a traffic stop. With limited exceptions, DGOs 9.01 and 5.08 prohibit plainclothes officers from conducting traffic enforcement activity. Department General Order 9.01 states that “moving violations shall be enforced only by uniformed officers, except as provided in DGO 5.08, Non-Uniformed Officers.” Department General Order 5.08 states that “non-uniformed officers shall not initiate traffic stops, issue traffic citation or make minor traffic arrests except…[w]hen witnessing an aggravated situation requiring immediate action to protect life or property, e.g., drunk driving.” Additionally, when non-uniformed officers initiate traffic stops, they are required by DGO 5.08 to call for the assistance of a marked backup unit. By detaining and citing the complainant, the named officers conducted traffic enforcement in violation of Department General Orders 5.08 and 9.01. A stopped or double-parked car does not pose the same threat to public safety as a drunk driver and is not “an aggravated situation requiring immediate action.” In fact, the streets of San Francisco, and especially busy traffic areas such as where this incident took place, are constantly in a stage of gridlock, and double-parked vehicles are often the cause. \\x0c                                   OFFICE OF CITIZEN COMPLAINTS DATE OF COMPLAINT: 06/03/15                 DATE OF COMPLETION: 05/24/16                  PAGE #3 of 4 FINDINGS OF FACT #3-5: (continued): Additionally, the named officers failed to request uniformed officers to back them up as required by DGO 5.08. The named officers stated they were not required to request backup because they did not initiate a traffic stop. However, a traffic stop occurs any time a driver is detained for traffic enforcement purposes, even if the car is stopped or parked. No other witnesses were identified. As plainclothes officers who engaged in traffic enforcement activity when no exigency existed, the officers violated DGOs 5.08 and 9.01. A preponderance of the evidence proved the conduct complained of did occur, and using as a standard the applicable regulations of the Department, the conduct wa improper.'],\n",
       "      dtype=object)"
      ]
     },
     "execution_count": 30,
     "metadata": {},
     "output_type": "execute_result"
    }
   ],
   "source": [
    "segments_ref.loc[(\n",
    "    segments_ref.fileid == '2db02abb') & (\n",
    "    segments_ref.complaint_no == 0) & (\n",
    "    segments_ref.allegation_no == 25), 'allegation_text'].values"
   ]
  },
  {
   "cell_type": "markdown",
   "id": "eea2e49f-07fe-433c-a0e5-819a4f4342f6",
   "metadata": {},
   "source": [
    "# disclaimer\n",
    "### things still in progress\n",
    "\n",
    "There are data entry, parsing, and processing errors in the Datetime data that are still being worked out. Much of this has been recovered but where `time_to_complete` is referenced, it will be from the subset of data that has a logical `time_to_complete` value (ie. not negative)."
   ]
  },
  {
   "cell_type": "code",
   "execution_count": 4,
   "id": "fb63a3b1-b8aa-43f9-a4a0-353f6f95c192",
   "metadata": {},
   "outputs": [
    {
     "data": {
      "text/plain": [
       "count                          25240\n",
       "mean     254 days 09:12:29.667194928\n",
       "std      208 days 19:41:46.066139968\n",
       "min              -608 days +00:00:00\n",
       "25%                127 days 00:00:00\n",
       "50%                246 days 00:00:00\n",
       "75%                328 days 00:00:00\n",
       "max               2805 days 00:00:00\n",
       "Name: time_to_complete, dtype: object"
      ]
     },
     "execution_count": 4,
     "metadata": {},
     "output_type": "execute_result"
    }
   ],
   "source": [
    "dpa.time_to_complete.describe()"
   ]
  },
  {
   "cell_type": "code",
   "execution_count": 5,
   "id": "05cd5a00-9f59-4945-a016-83c4fa0e46a2",
   "metadata": {},
   "outputs": [
    {
     "data": {
      "text/plain": [
       "count                          25026\n",
       "mean     257 days 10:31:30.194198036\n",
       "std      206 days 19:17:33.832013244\n",
       "min                  1 days 00:00:00\n",
       "25%                130 days 00:00:00\n",
       "50%                247 days 00:00:00\n",
       "75%                329 days 00:00:00\n",
       "max               2805 days 00:00:00\n",
       "Name: time_to_complete, dtype: object"
      ]
     },
     "execution_count": 5,
     "metadata": {},
     "output_type": "execute_result"
    }
   ],
   "source": [
    "working.time_to_complete.describe()"
   ]
  },
  {
   "cell_type": "code",
   "execution_count": 6,
   "id": "55bdb91b-17b0-49d0-9da5-f9b706154a01",
   "metadata": {},
   "outputs": [
    {
     "data": {
      "text/plain": [
       "'301 rows or 1.2% of the data have an invalid `time_to_close`'"
      ]
     },
     "execution_count": 6,
     "metadata": {},
     "output_type": "execute_result"
    }
   ],
   "source": [
    "n_dropped = dpa.shape[0] - working.shape[0]\n",
    "prop_dropped = round(n_dropped/dpa.shape[0], 3)\n",
    "f\"{n_dropped} rows or {prop_dropped*100:.1f}% of the data have an invalid `time_to_close`\""
   ]
  },
  {
   "cell_type": "markdown",
   "id": "32a39416-858c-4cfb-900b-e23f9e88dd84",
   "metadata": {},
   "source": [
    "#### how many allegations are missing datetime info?"
   ]
  },
  {
   "cell_type": "code",
   "execution_count": 7,
   "id": "6f89c2f1-a0bf-40de-84a8-4399aacc1dbc",
   "metadata": {},
   "outputs": [
    {
     "data": {
      "text/plain": [
       "35"
      ]
     },
     "execution_count": 7,
     "metadata": {},
     "output_type": "execute_result"
    }
   ],
   "source": [
    "dpa.loc[dpa.year_complained.isna(), ['date_complained', 'year_complained']].shape[0]"
   ]
  },
  {
   "cell_type": "code",
   "execution_count": 8,
   "id": "8a59bf72-7a6d-4f98-8aa0-cabb10a9e816",
   "metadata": {},
   "outputs": [
    {
     "data": {
      "text/plain": [
       "0"
      ]
     },
     "execution_count": 8,
     "metadata": {},
     "output_type": "execute_result"
    }
   ],
   "source": [
    "dpa.loc[dpa.year_completed.isna(), ['date_completed', 'year_completed']].shape[0]"
   ]
  },
  {
   "cell_type": "code",
   "execution_count": 9,
   "id": "0f2a910a-5fc7-466c-9db2-53d4a08522ac",
   "metadata": {},
   "outputs": [],
   "source": [
    "# report info for allegations missing date complained\n",
    "# this is likely due to an extraction error we should be able to fix\n",
    "# dpa.loc[dpa.year_complained.isna(), ['pdf_file', 'date_complained', 'complaint_meta']]"
   ]
  },
  {
   "cell_type": "markdown",
   "id": "310cbfce-f0ad-473d-a56f-4df03a3fba4f",
   "metadata": {},
   "source": [
    "# about the collection"
   ]
  },
  {
   "cell_type": "markdown",
   "id": "c4e6af29-e054-4356-9ea2-893a8dc18899",
   "metadata": {},
   "source": [
    "#### how many report files have been scraped?"
   ]
  },
  {
   "cell_type": "code",
   "execution_count": 10,
   "id": "125451f2-6e0b-45d4-b84a-3d24a42c716c",
   "metadata": {},
   "outputs": [
    {
     "data": {
      "text/plain": [
       "180"
      ]
     },
     "execution_count": 10,
     "metadata": {},
     "output_type": "execute_result"
    }
   ],
   "source": [
    "len(dpa.fileid.unique())"
   ]
  },
  {
   "cell_type": "markdown",
   "id": "7201facd-7ea3-4ecf-973d-770dfe0bc339",
   "metadata": {},
   "source": [
    "#### how many complaints are represented in the collection?"
   ]
  },
  {
   "cell_type": "code",
   "execution_count": 11,
   "id": "0d03e3f6-e4a5-4206-8c08-c43909e18f49",
   "metadata": {},
   "outputs": [
    {
     "data": {
      "text/plain": [
       "8549"
      ]
     },
     "execution_count": 11,
     "metadata": {},
     "output_type": "execute_result"
    }
   ],
   "source": [
    "len(dpa.complaint_id.unique())"
   ]
  },
  {
   "cell_type": "markdown",
   "id": "928b1e60-6221-476f-bb55-03f5657666ab",
   "metadata": {},
   "source": [
    "#### what is the timeline of complaints in the reports?"
   ]
  },
  {
   "cell_type": "code",
   "execution_count": 12,
   "id": "b7739080-879b-4853-a4c9-a2b57958c0ea",
   "metadata": {},
   "outputs": [
    {
     "data": {
      "text/plain": [
       "count                            25292\n",
       "mean     2012-08-20 21:24:23.798829824\n",
       "min                2001-07-17 00:00:00\n",
       "25%                2007-01-03 00:00:00\n",
       "50%                2013-09-25 00:00:00\n",
       "75%                2017-12-22 00:00:00\n",
       "max                2024-01-24 00:00:00\n",
       "Name: date_complained, dtype: object"
      ]
     },
     "execution_count": 12,
     "metadata": {},
     "output_type": "execute_result"
    }
   ],
   "source": [
    "dpa.date_complained.describe()"
   ]
  },
  {
   "cell_type": "markdown",
   "id": "cb16ffb6-9597-483f-9803-0b4f1a2fac6c",
   "metadata": {},
   "source": [
    "#### how many allegations are represented in the collection?"
   ]
  },
  {
   "cell_type": "code",
   "execution_count": 13,
   "id": "3f7acb25-c6da-4fc1-a075-9c6b6e461e3a",
   "metadata": {},
   "outputs": [
    {
     "data": {
      "text/plain": [
       "25327"
      ]
     },
     "execution_count": 13,
     "metadata": {},
     "output_type": "execute_result"
    }
   ],
   "source": [
    "len(dpa.allegation_id.unique())"
   ]
  },
  {
   "cell_type": "markdown",
   "id": "2dc3338f-dc4d-4d04-ac8f-37184e41fd95",
   "metadata": {},
   "source": [
    "#### is the data 1 row per allegation?"
   ]
  },
  {
   "cell_type": "code",
   "execution_count": 14,
   "id": "de5602dc-5023-45ca-ab30-fdd873fb4744",
   "metadata": {},
   "outputs": [
    {
     "data": {
      "text/plain": [
       "True"
      ]
     },
     "execution_count": 14,
     "metadata": {},
     "output_type": "execute_result"
    }
   ],
   "source": [
    "dpa.shape[0] == len(dpa.allegation_id.unique())"
   ]
  },
  {
   "cell_type": "markdown",
   "id": "7e157a8b-4faf-49a9-bb92-57e486a999d6",
   "metadata": {},
   "source": [
    "#### how many complaints are in the average report?"
   ]
  },
  {
   "cell_type": "code",
   "execution_count": 15,
   "id": "48a1b80f-2d95-48b6-b3e3-5def23bed67b",
   "metadata": {},
   "outputs": [
    {
     "data": {
      "text/plain": [
       "54"
      ]
     },
     "execution_count": 15,
     "metadata": {},
     "output_type": "execute_result"
    }
   ],
   "source": [
    "dpa[['fileid', 'complaint_no']].groupby('fileid').complaint_no.max().mean().astype(int)"
   ]
  },
  {
   "cell_type": "markdown",
   "id": "f41d10d5-1af3-439b-9d27-dbf01e439909",
   "metadata": {},
   "source": [
    "#### how many allegations are in the average complaint?"
   ]
  },
  {
   "cell_type": "code",
   "execution_count": 16,
   "id": "c2603f97-9ad9-4c50-a69d-2ccc6e067f69",
   "metadata": {},
   "outputs": [
    {
     "data": {
      "text/plain": [
       "3"
      ]
     },
     "execution_count": 16,
     "metadata": {},
     "output_type": "execute_result"
    }
   ],
   "source": [
    "dpa[['complaint_id', 'allegation_no']].groupby('complaint_id').allegation_no.max().mean().astype(int)"
   ]
  },
  {
   "cell_type": "markdown",
   "id": "15fd25ff-5cad-442c-8dd2-914cf5b84988",
   "metadata": {},
   "source": [
    "# about the timeline"
   ]
  },
  {
   "cell_type": "markdown",
   "id": "50e55bbc-6025-4536-9584-129ecd09ca7d",
   "metadata": {},
   "source": [
    "#### how many complaints are received over time?"
   ]
  },
  {
   "cell_type": "code",
   "execution_count": 17,
   "id": "c51363f9-9b83-4fdc-b1ec-9733c8ef4b92",
   "metadata": {},
   "outputs": [
    {
     "data": {
      "text/plain": [
       "<Axes: xlabel='year_complained'>"
      ]
     },
     "execution_count": 17,
     "metadata": {},
     "output_type": "execute_result"
    },
    {
     "data": {
      "image/png": "[encoded data removed]",
      "text/plain": [
       "<Figure size 640x480 with 1 Axes>"
      ]
     },
     "metadata": {},
     "output_type": "display_data"
    }
   ],
   "source": [
    "yearly_compls = dpa.loc[dpa.year_complained.notna(), ['year_complained', 'complaint_id']]\n",
    "yearly_compls.year_complained = yearly_compls.year_complained.astype(int)\n",
    "yearly_compls.groupby('year_complained').complaint_id.apply(\n",
    "    lambda x: len(x.unique())).plot(kind='bar')"
   ]
  },
  {
   "cell_type": "markdown",
   "id": "9f86f9ec-d6dc-4c30-a9a7-61e034176507",
   "metadata": {},
   "source": [
    "#### how many allegations are received over time?"
   ]
  },
  {
   "cell_type": "code",
   "execution_count": 18,
   "id": "4fd524a2-3c88-4bb5-ad34-bc71d2ec7d76",
   "metadata": {},
   "outputs": [
    {
     "data": {
      "text/plain": [
       "<Axes: xlabel='year_complained'>"
      ]
     },
     "execution_count": 18,
     "metadata": {},
     "output_type": "execute_result"
    },
    {
     "data": {
      "image/png": "[encoded data removed]",
      "text/plain": [
       "<Figure size 640x480 with 1 Axes>"
      ]
     },
     "metadata": {},
     "output_type": "display_data"
    }
   ],
   "source": [
    "yearly_allegs = dpa.loc[dpa.year_complained.notna(), ['year_complained', 'allegation_id']]\n",
    "yearly_allegs.year_complained = yearly_allegs.year_complained.astype(int)\n",
    "yearly_allegs.groupby('year_complained').allegation_id.apply(\n",
    "    lambda x: len(x.unique())).plot(kind='bar')"
   ]
  },
  {
   "cell_type": "markdown",
   "id": "d6ae49d7-d6d9-475f-a48e-f81cf49417c3",
   "metadata": {},
   "source": [
    "#### how long is the average investigation into a complaint?\n",
    "- measured in days between `date_complained` and `date_completed`\n",
    "- only includes allegations/rows with a non-negative `time_to_complete`\n",
    "- organized by the `year_complained`"
   ]
  },
  {
   "cell_type": "code",
   "execution_count": 19,
   "id": "b695e7fc-4633-4900-bbe1-7ea6266531b8",
   "metadata": {},
   "outputs": [
    {
     "data": {
      "image/png": "[encoded data removed]",
      "text/plain": [
       "<Figure size 1500x600 with 1 Axes>"
      ]
     },
     "metadata": {},
     "output_type": "display_data"
    }
   ],
   "source": [
    "ttc_vc = working[['year_complained', 'time_to_complete']].groupby('year_complained').mean().sort_index().reset_index()\n",
    "x = ttc_vc.year_complained.astype(int).astype(str).values\n",
    "y = ttc_vc.time_to_complete.dt.days.values\n",
    "\n",
    "fig= plt.figure(figsize=(15,6))\n",
    "plt.title(\"average length of investigation overtime\")\n",
    "plt.xlabel(\"year complained\")\n",
    "plt.ylabel(\"time to complete (in days)\")\n",
    "plt.bar(x,y, label='', color='purple')\n",
    "plt.show()"
   ]
  },
  {
   "cell_type": "markdown",
   "id": "357a001f-9f9d-40f3-92cf-b130aeafc44f",
   "metadata": {},
   "source": [
    "## about `sustained` or `mediated` allegations"
   ]
  },
  {
   "cell_type": "markdown",
   "id": "ecae59a9-f649-4586-a96d-0b799e5caf0c",
   "metadata": {},
   "source": [
    "#### how many allegations were sustained?"
   ]
  },
  {
   "cell_type": "code",
   "execution_count": 20,
   "id": "8cd264cb-2dfc-49e4-90a7-777c14df1a10",
   "metadata": {},
   "outputs": [
    {
     "data": {
      "text/plain": [
       "sustained\n",
       "False    23679\n",
       "True      1648\n",
       "Name: count, dtype: int64"
      ]
     },
     "execution_count": 20,
     "metadata": {},
     "output_type": "execute_result"
    }
   ],
   "source": [
    "dpa.sustained.value_counts()"
   ]
  },
  {
   "cell_type": "markdown",
   "id": "d4449789-af05-44e4-817f-a841cf14cabc",
   "metadata": {},
   "source": [
    "#### how many allegations were mediated?"
   ]
  },
  {
   "cell_type": "code",
   "execution_count": 21,
   "id": "c727b4f9-5402-44c8-89f7-45861b6f1216",
   "metadata": {},
   "outputs": [
    {
     "data": {
      "text/plain": [
       "mediated\n",
       "False    24301\n",
       "True      1026\n",
       "Name: count, dtype: int64"
      ]
     },
     "execution_count": 21,
     "metadata": {},
     "output_type": "execute_result"
    }
   ],
   "source": [
    "dpa.mediated.value_counts()"
   ]
  },
  {
   "cell_type": "markdown",
   "id": "53ef26db-bfa9-44ad-8968-f7f2f7cd14b9",
   "metadata": {},
   "source": [
    "#### are any allegations both mediated and sustained? or are these mutually exclusive?"
   ]
  },
  {
   "cell_type": "code",
   "execution_count": 22,
   "id": "0f8a5799-1e59-4a7b-a102-72d5fb6bbb9c",
   "metadata": {},
   "outputs": [
    {
     "data": {
      "text/plain": [
       "False"
      ]
     },
     "execution_count": 22,
     "metadata": {},
     "output_type": "execute_result"
    }
   ],
   "source": [
    "(dpa.sustained & dpa.mediated).any()"
   ]
  },
  {
   "cell_type": "markdown",
   "id": "ef9f1c8a-f5ba-498e-bf58-4cd762f3f38b",
   "metadata": {},
   "source": [
    "#### what are the original `finding` codes for `sustained` allegations?"
   ]
  },
  {
   "cell_type": "code",
   "execution_count": 23,
   "id": "a4e8a9ed-380c-4814-95db-a47ed552d42f",
   "metadata": {},
   "outputs": [
    {
     "data": {
      "text/plain": [
       "finding_original\n",
       "S                   1126\n",
       "PF                   164\n",
       "IC/S                 157\n",
       "TF                   106\n",
       "IC(S)                 28\n",
       "IC                    25\n",
       "IC (Sustained)        13\n",
       "SF                     8\n",
       "SUS                    6\n",
       "IC (SUSTAINED)         4\n",
       "Sustained              3\n",
       "Improper Conduct       2\n",
       "Policy Failure         2\n",
       "SUST                   2\n",
       "ICS                    1\n",
       "S/IC                   1\n",
       "Name: count, dtype: int64"
      ]
     },
     "execution_count": 23,
     "metadata": {},
     "output_type": "execute_result"
    }
   ],
   "source": [
    "dpa.loc[dpa.sustained == True, 'finding_original'].value_counts()"
   ]
  },
  {
   "cell_type": "markdown",
   "id": "8186ffb4-adb1-44f1-9147-ccb95c000e53",
   "metadata": {},
   "source": [
    "#### what are top 5 the original `category_of_conduct` codes for `sustained` allegations?"
   ]
  },
  {
   "cell_type": "code",
   "execution_count": 24,
   "id": "2b8ebb31-e11a-4dbc-98d1-78055b9d2a39",
   "metadata": {},
   "outputs": [
    {
     "data": {
      "text/plain": [
       "category_of_conduct\n",
       "Neglect of Duty                  917\n",
       "Unwarranted Action               364\n",
       "CRD                              200\n",
       "Unnecessary Force                 60\n",
       "Conduct Unbecoming an Officer     52\n",
       "Name: count, dtype: int64"
      ]
     },
     "execution_count": 24,
     "metadata": {},
     "output_type": "execute_result"
    }
   ],
   "source": [
    "dpa.loc[dpa.sustained == True, 'category_of_conduct'].value_counts().head()"
   ]
  },
  {
   "cell_type": "markdown",
   "id": "097959c5-9a80-416a-a1e2-01109cc73e92",
   "metadata": {},
   "source": [
    "#### what are the top 5 original `category_of_conduct` codes for `mediated` allegations?"
   ]
  },
  {
   "cell_type": "code",
   "execution_count": 25,
   "id": "a42bfcba-d489-4ea8-88a1-42a09eec1d1b",
   "metadata": {},
   "outputs": [
    {
     "data": {
      "text/plain": [
       "category_of_conduct\n",
       "Neglect of Duty                  383\n",
       "CRD                              322\n",
       "Unwarranted Action               222\n",
       "Conduct Unbecoming an Officer     57\n",
       "Discourtesy                       24\n",
       "Name: count, dtype: int64"
      ]
     },
     "execution_count": 25,
     "metadata": {},
     "output_type": "execute_result"
    }
   ],
   "source": [
    "dpa.loc[dpa.mediated == True, 'category_of_conduct'].value_counts().head()"
   ]
  },
  {
   "cell_type": "markdown",
   "id": "735a1e67-f7c8-413f-abc6-0c43ee52b787",
   "metadata": {},
   "source": [
    "#### what are the top 5 original `finding` codes for allegations not `sustained` or `mediated`?"
   ]
  },
  {
   "cell_type": "code",
   "execution_count": 26,
   "id": "9f447f8e-a116-4404-b206-c3227c569d5c",
   "metadata": {},
   "outputs": [
    {
     "data": {
      "text/plain": [
       "finding\n",
       "NS                9968\n",
       "Proper Conduct    5990\n",
       "No Finding        2258\n",
       "Unfounded         2180\n",
       "Withdrawn          941\n",
       "Name: count, dtype: int64"
      ]
     },
     "execution_count": 26,
     "metadata": {},
     "output_type": "execute_result"
    }
   ],
   "source": [
    "dpa.loc[~(dpa.sustained | dpa.mediated), 'finding'].value_counts().head()"
   ]
  },
  {
   "cell_type": "markdown",
   "id": "2fd79a12-21fa-4dd1-a655-20d3e058b781",
   "metadata": {},
   "source": [
    "#### what are the rates of `mediated` and `sustained` allegations over time compared to other outcomes?"
   ]
  },
  {
   "cell_type": "code",
   "execution_count": 27,
   "id": "ed33cff2-15e8-44aa-8171-f3ee5a013ff5",
   "metadata": {},
   "outputs": [
    {
     "data": {
      "image/png": "[encoded data removed]",
      "text/plain": [
       "<Figure size 1000x600 with 1 Axes>"
      ]
     },
     "metadata": {},
     "output_type": "display_data"
    }
   ],
   "source": [
    "test = working[['year_complained', 'mediated', 'sustained']\n",
    "    ].groupby('year_complained').value_counts().to_frame().reset_index()\n",
    "x = sorted(test.year_complained.unique())\n",
    "y = {str(int(year)):\n",
    "     test.loc[(test.year_complained == year) & (test.mediated),\n",
    "     'count'].sum() for year in sorted(test.year_complained.unique())\n",
    "    }.values()\n",
    "y2 = {str(int(year)):\n",
    "     test.loc[(test.year_complained == year) & (test.sustained),\n",
    "     'count'].sum() for year in sorted(test.year_complained.unique())\n",
    "    }.values()\n",
    "y3 = {str(int(year)):\n",
    "     test.loc[(test.year_complained == year) & (~(test.mediated | test.sustained)),\n",
    "     'count'].sum() for year in sorted(test.year_complained.unique())\n",
    "    }.values()\n",
    "\n",
    "fig= plt.figure(figsize=(10,6))\n",
    "ax = fig.add_subplot(1, 1, 1)\n",
    "plt.plot(x, y, label='mediation reported', color='red')\n",
    "plt.plot(x, y2, label='sustained allegation reported', color='blue')\n",
    "plt.plot(x, y3, label='no mediation or sustained allegation', color='black')\n",
    "plt.title(\"count of reported completed investigations over time\")\n",
    "plt.xlabel(\"year of complaint\")\n",
    "plt.ylabel(\"volume of cases\")\n",
    "ax.legend(loc='upper right')\n",
    "plt.show()"
   ]
  },
  {
   "cell_type": "markdown",
   "id": "083669d0-f66a-4092-9633-0e8489f8c5b9",
   "metadata": {},
   "source": [
    "# about the allegations"
   ]
  },
  {
   "cell_type": "markdown",
   "id": "dd92ffce-0664-46fc-ad29-1dbd0c633c42",
   "metadata": {},
   "source": [
    "#### what are the top 5 types of allegations by `category_of_conduct`?"
   ]
  },
  {
   "cell_type": "code",
   "execution_count": 28,
   "id": "25804a0e-c8f9-4820-8efb-c64c256a689b",
   "metadata": {},
   "outputs": [
    {
     "data": {
      "text/plain": [
       "category_of_conduct\n",
       "Neglect of Duty                  7492\n",
       "Unwarranted Action               7434\n",
       "CRD                              5331\n",
       "Unnecessary Force                2110\n",
       "Conduct Unbecoming an Officer    1406\n",
       "Name: count, dtype: int64"
      ]
     },
     "execution_count": 28,
     "metadata": {},
     "output_type": "execute_result"
    }
   ],
   "source": [
    "dpa.category_of_conduct.value_counts().head()"
   ]
  },
  {
   "cell_type": "markdown",
   "id": "98ff62cd-c559-4cd6-8863-9bfaa80f6ac3",
   "metadata": {},
   "source": [
    "#### what do the indicators derived from the SUMMARY OF ALLEGATION data say about the allegation categories?"
   ]
  },
  {
   "cell_type": "code",
   "execution_count": 29,
   "id": "28102ba8-ed8c-417f-819d-8e76c9ef1b69",
   "metadata": {},
   "outputs": [
    {
     "data": {
      "text/plain": [
       "failed_reqmt             7096\n",
       "action_wo_cause          6269\n",
       "inapp_action             6014\n",
       "unnec_force              2057\n",
       "detain_wo_cause          1996\n",
       "malignant_action         1313\n",
       "arrest_wo_cause          1185\n",
       "cite_wo_cause            1124\n",
       "search_wo_cause           935\n",
       "bias                      757\n",
       "entry_wo_cause            378\n",
       "dishonesty                241\n",
       "towed_wo_cause            232\n",
       "tookproperty_wo_cause     192\n",
       "display_weapon             55\n",
       "dtype: int64"
      ]
     },
     "execution_count": 29,
     "metadata": {},
     "output_type": "execute_result"
    }
   ],
   "source": [
    "dpa[[\n",
    "    'action_wo_cause',\n",
    "    'entry_wo_cause', 'search_wo_cause', 'towed_wo_cause',\n",
    "    'tookproperty_wo_cause', 'cite_wo_cause', 'detain_wo_cause',\n",
    "    'arrest_wo_cause', 'display_weapon', 'unnec_force', 'dishonesty',\n",
    "    'bias', 'inapp_action', 'malignant_action', 'failed_reqmt',\n",
    "]].sum().sort_values(ascending=False)"
   ]
  },
  {
   "cell_type": "markdown",
   "id": "79f854ab-87da-4fe0-b878-b4fe3a080cdb",
   "metadata": {},
   "source": [
    "## how do the indicators compare to the DPA categories?"
   ]
  },
  {
   "cell_type": "markdown",
   "id": "12115979-5314-4b8a-a148-a7773d8dca73",
   "metadata": {},
   "source": [
    "#### what kind of allegations are considered `Unwarranted Action` by the DPA?"
   ]
  },
  {
   "cell_type": "code",
   "execution_count": 30,
   "id": "b250adde-47c1-47a5-9035-3280d8471641",
   "metadata": {},
   "outputs": [
    {
     "data": {
      "text/plain": [
       "allegations\n",
       "The officer detained the complainant without justification.     529\n",
       "The officer issued a citation without cause.                    521\n",
       "The officer arrested the complainant without cause.             449\n",
       "The officers detained the complainant without justification.    375\n",
       "The officers arrested the complainant without cause.            261\n",
       "Name: count, dtype: int64"
      ]
     },
     "execution_count": 30,
     "metadata": {},
     "output_type": "execute_result"
    }
   ],
   "source": [
    "dpa.loc[dpa.category_of_conduct == 'Unwarranted Action', 'allegations'].value_counts().head()"
   ]
  },
  {
   "cell_type": "markdown",
   "id": "84af8b12-48fb-4f38-9152-c26b56a32bb5",
   "metadata": {},
   "source": [
    "#### what kind of allegations are considered `action_wo_cause`?"
   ]
  },
  {
   "cell_type": "code",
   "execution_count": 31,
   "id": "a721da0d-5240-4225-8793-cc7b0ff832f0",
   "metadata": {},
   "outputs": [
    {
     "data": {
      "text/plain": [
       "allegations\n",
       "The officer detained the complainant without justification.     532\n",
       "The officer issued a citation without cause.                    527\n",
       "The officer arrested the complainant without cause.             450\n",
       "The officers detained the complainant without justification.    375\n",
       "The officers arrested the complainant without cause.            262\n",
       "Name: count, dtype: int64"
      ]
     },
     "execution_count": 31,
     "metadata": {},
     "output_type": "execute_result"
    }
   ],
   "source": [
    "dpa.loc[dpa.action_wo_cause, 'allegations'].value_counts().head()"
   ]
  },
  {
   "cell_type": "markdown",
   "id": "a7fd3ea9-8cba-468c-81f0-431795051275",
   "metadata": {},
   "source": [
    "#### what kind of allegations are considered `CRD` by the DPA?"
   ]
  },
  {
   "cell_type": "code",
   "execution_count": 32,
   "id": "56e46787-215f-41ed-82d4-b97197dceaf6",
   "metadata": {},
   "outputs": [
    {
     "data": {
      "text/plain": [
       "allegations\n",
       "The officer behaved inappropriately.                                       378\n",
       "The officer behaved inappropriately and made inappropriate comments.       376\n",
       "The officer made inappropriate comments.                                   289\n",
       "The officer made an inappropriate comment.                                 127\n",
       "The officer threatened the complainant.                                    119\n",
       "The officer misrepresented the truth.                                      112\n",
       "The officers behaved inappropriately and made inappropriate comments.       99\n",
       "The officer harassed the complainant.                                       94\n",
       "The officers behaved inappropriately.                                       89\n",
       "The officer behaved inappropriately and/or made inappropriate comments.     88\n",
       "Name: count, dtype: int64"
      ]
     },
     "execution_count": 32,
     "metadata": {},
     "output_type": "execute_result"
    }
   ],
   "source": [
    "dpa.loc[dpa.category_of_conduct == 'CRD', 'allegations'].value_counts().head(10)"
   ]
  },
  {
   "cell_type": "markdown",
   "id": "27302b4b-5de8-4c71-9b2d-ce83dfb0c078",
   "metadata": {},
   "source": [
    "```{note}\n",
    "1. `Neglect of Duty` is similar in context and frequency to `failed_reqmt`. Our count is a bit lower likely due to a combination of:\n",
    "    - the coarse nature of the regex\n",
    "    - messy or noisy extractions that could be recovered with different processing\n",
    "    - difference in what is counted as 'Neglect of Duty' compared to my interpretation of certain allegations\n",
    "2. `Unwarranted Action` is similar in context and frequency to `action_wo_cause`.\n",
    "    - It looks like we might have a gap in definitional coverage for these two, what is considered unwarranted action that I didn't pick up as an action without cause?\n",
    "    - Note: `wo_cause` represents the identification of some variation of \"without cause\", \"without justification\", etc. The DPA category may include allegations that were more nuanced / less explicit than that in the content of the allegation.\n",
    "3. It's unclear to me what `CRD` stands for as a category, I suspect the \"C\" is \"Conduct\", but I don't see \"RD\" in the codes discussed in public reporting manuals. The allegations seem to include what I count as inappropriate or malignant activity, dishonesty, and more? Unclear how this is distinct from `Conduct Unbecoming`.\n",
    "    - older source: [sfpd-dgo-204-citizen-complaints-against-officers.pdf\n",
    "](https://www.sanfranciscopolice.org/sites/default/files/2019-06/sfpd-dgo-204-citizen-complaints-against-officers.pdf)\n",
    "    - recent source: [SFPDNotice.21026.20210329.pdf\n",
    "](https://www.sanfranciscopolice.org/sites/default/files/2021-03/SFPDNotice.21026.20210329.pdf)\n",
    "4. `Unnecessary Force` is very similar in context and frequency to `unnec_force`. Our count is a bit lower likely due to the same reason that (1) is off.\n",
    "5. Allegations that might be labeled `Conduct Unbecoming` by the DPA are spread out into `inapp_action`, `malignant_action`, `bias`, and `dishonesty`.\n",
    "6. `Discourtesy`, `Racial Slur`, and `Sexual Slur` are considered `malignant_action`.\n",
    "```"
   ]
  },
  {
   "cell_type": "markdown",
   "id": "8444c6ba-1cac-4e7e-b26a-68bbb074b0be",
   "metadata": {},
   "source": [
    "#### what kind of allegations are considered `inapp_action`?\n",
    "- or \"inappropriate action\""
   ]
  },
  {
   "cell_type": "code",
   "execution_count": 33,
   "id": "815e6fc2-a5d1-4dc3-b21f-ffb7a003b7ad",
   "metadata": {},
   "outputs": [
    {
     "data": {
      "text/plain": [
       "allegations\n",
       "The officer behaved or spoke inappropriately.                           452\n",
       "The officer behaved inappropriately.                                    436\n",
       "The officer behaved inappropriately and made inappropriate comments.    390\n",
       "The officer used profanity.                                             333\n",
       "The officer made inappropriate comments.                                297\n",
       "Name: count, dtype: int64"
      ]
     },
     "execution_count": 33,
     "metadata": {},
     "output_type": "execute_result"
    }
   ],
   "source": [
    "dpa.loc[dpa.inapp_action, 'allegations'].value_counts().head()"
   ]
  },
  {
   "cell_type": "markdown",
   "id": "2a79c211-b55a-4ca2-8e92-27e40433f9f9",
   "metadata": {},
   "source": [
    "#### what kind of allegations are considered `malignant_action`?"
   ]
  },
  {
   "cell_type": "code",
   "execution_count": 34,
   "id": "ca3f0eb2-ac61-432f-a0d1-57b2a25fe495",
   "metadata": {},
   "outputs": [
    {
     "data": {
      "text/plain": [
       "allegations\n",
       "The officer threatened the complainant.                                     122\n",
       "The officer displayed threatening, intimidating, or harassing behavior.     100\n",
       "The officer harassed the complainant.                                        97\n",
       "The officers displayed threatening, intimidating, or harassing behavior.     31\n",
       "The officers harassed the complainant.                                       30\n",
       "Name: count, dtype: int64"
      ]
     },
     "execution_count": 34,
     "metadata": {},
     "output_type": "execute_result"
    }
   ],
   "source": [
    "dpa.loc[dpa.malignant_action, 'allegations'].value_counts().head()"
   ]
  },
  {
   "cell_type": "markdown",
   "id": "4e06e33a-05a3-4dc7-af95-dea7bf7ba576",
   "metadata": {},
   "source": [
    "#### what kind of allegations are considered `dishonesty` or `bias`?"
   ]
  },
  {
   "cell_type": "code",
   "execution_count": 35,
   "id": "7c95c0ff-4504-4b72-9b04-6ebdb0daec7b",
   "metadata": {},
   "outputs": [
    {
     "data": {
      "text/plain": [
       "allegations\n",
       "The officer misrepresented the truth.                       163\n",
       "The officers misrepresented the truth.                       35\n",
       "The officer filed false charges against the complainant.     14\n",
       "The officer filed false charges.                              6\n",
       "The officer misrepresented the truth                          2\n",
       "Name: count, dtype: int64"
      ]
     },
     "execution_count": 35,
     "metadata": {},
     "output_type": "execute_result"
    }
   ],
   "source": [
    "dpa.loc[dpa.dishonesty, 'allegations'].value_counts().head()"
   ]
  },
  {
   "cell_type": "code",
   "execution_count": 36,
   "id": "b2d259be-eba5-4ccd-b7cc-c84f42b9b17d",
   "metadata": {},
   "outputs": [
    {
     "data": {
      "text/plain": [
       "allegations\n",
       "The officer knowingly engaged in biased policing or discrimination.    88\n",
       "The officer engaged in biased policing due to race.                    78\n",
       "The officer engaged in selective enforcement.                          65\n",
       "The officer engaged in biased policing based on race.                  50\n",
       "The officers engaged in biased policing due to race.                   41\n",
       "Name: count, dtype: int64"
      ]
     },
     "execution_count": 36,
     "metadata": {},
     "output_type": "execute_result"
    }
   ],
   "source": [
    "dpa.loc[dpa.bias, 'allegations'].value_counts().head()"
   ]
  },
  {
   "cell_type": "markdown",
   "id": "fc8a97bc-3515-4911-904d-e1e5529225ef",
   "metadata": {},
   "source": [
    "# `liability`"
   ]
  },
  {
   "cell_type": "code",
   "execution_count": 39,
   "id": "e1c7413a-ab33-424f-8ad8-1574f8788e35",
   "metadata": {},
   "outputs": [
    {
     "data": {
      "text/plain": [
       "31"
      ]
     },
     "execution_count": 39,
     "metadata": {},
     "output_type": "execute_result"
    }
   ],
   "source": [
    "dpa.loc[dpa.findings_of_fact.str.contains('liability', na=False)].shape[0]"
   ]
  },
  {
   "cell_type": "code",
   "execution_count": null,
   "id": "7808a84d-a0a8-43a6-a760-39f2723b6552",
   "metadata": {},
   "outputs": [],
   "source": []
  }
 ],
 "metadata": {
  "kernelspec": {
   "display_name": "Python 3 (ipykernel)",
   "language": "python",
   "name": "python3"
  },
  "language_info": {
   "codemirror_mode": {
    "name": "ipython",
    "version": 3
   },
   "file_extension": ".py",
   "mimetype": "text/x-python",
   "name": "python",
   "nbconvert_exporter": "python",
   "pygments_lexer": "ipython3",
   "version": "3.12.7"
  }
 },
 "nbformat": 4,
 "nbformat_minor": 5
}
