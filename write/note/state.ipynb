{
 "cells": [
  {
   "cell_type": "markdown",
   "id": "fbb9d8d6-21d0-424c-ab11-ccf718d5bf7d",
   "metadata": {},
   "source": [
    "# Setup data by stage"
   ]
  },
  {
   "cell_type": "code",
   "execution_count": 1,
   "id": "327ef77f-e271-4a47-9e57-56b6ff11a33f",
   "metadata": {},
   "outputs": [],
   "source": [
    "# dependencies\n",
    "from os.path import isdir\n",
    "from pathlib import Path\n",
    "import re\n",
    "import pandas as pd\n",
    "from matplotlib import pyplot as plt"
   ]
  },
  {
   "cell_type": "code",
   "execution_count": 2,
   "id": "4dba0aab-0436-4d7b-8777-1bb108dacfbe",
   "metadata": {},
   "outputs": [],
   "source": [
    "# support methods\n",
    "def getfiles(arg, fext):\n",
    "    assert isdir(arg)\n",
    "    return [path for path in Path(arg).rglob(f'*.{fext}')]\n",
    "\n",
    "\n",
    "def readtext(fname):\n",
    "    with open(fname, 'r') as f:\n",
    "        lines = f.readlines()\n",
    "    return lines"
   ]
  },
  {
   "cell_type": "code",
   "execution_count": 3,
   "id": "65ece829-e9ba-40c2-a5f1-873c6a49bf83",
   "metadata": {},
   "outputs": [],
   "source": [
    "# main\n",
    "pdfs = getfiles(arg=\"../../scrape/output/pdfs\", fext='pdf')\n",
    "pdfs_ref = pd.read_parquet(\"../../scrape/output/reference-table.parquet\")\n",
    "assert len(pdfs) >= 197\n",
    "assert pdfs_ref.shape[0] >= 190\n",
    "texts = getfiles(arg=\"../../pdf2text/output/txt-test/\", fext='txt')\n",
    "texts_ref = pd.read_parquet(\"../../pdf2text/output/reference-table.parquet\")\n",
    "assert len(texts) >= 197\n",
    "assert texts_ref.shape[0] >= 190\n",
    "segments = getfiles(arg=\"../../segment/output/each\", fext='parquet')\n",
    "segments_ref = pd.read_parquet(\"../../segment/output/reference-table.parquet\")\n",
    "assert not segments_ref.allegation_text.isna().any()\n",
    "filtered = [path for path in getfiles(arg=\"../../filter/output\", fext='parquet')\n",
    "            if 'complaints' not in path.name]\n",
    "filtered_ref = pd.read_parquet(\"../../filter/output/complaints.parquet\")\n",
    "\n",
    "# TODO finish debugging\n",
    "cleaned = pd.read_parquet(\"../../clean/output/complaints.parquet\")\n",
    "indicated = pd.read_parquet(\"../../indicate/output/complaints.parquet\")\n",
    "complaints = pd.read_parquet(\"../../export/output/complaints.parquet\")\n",
    "allegations = complaints.dropna(subset=['allegations', 'findings_of_fact'])\n",
    "\n",
    "dpa = complaints.copy()\n",
    "working = dpa.loc[dpa.time_to_complete > pd.Timedelta(0)].copy()"
   ]
  },
  {
   "cell_type": "markdown",
   "id": "ac74f620-6e2b-49c2-b02c-4ad4968d727d",
   "metadata": {},
   "source": [
    "# Preview"
   ]
  },
  {
   "cell_type": "markdown",
   "id": "e19033f4-ee17-411a-9156-a454eaf9cd77",
   "metadata": {},
   "source": [
    "### review excluded PDFs\n"
   ]
  },
  {
   "cell_type": "code",
   "execution_count": 4,
   "id": "61b1c7d3-a433-458b-95b5-03d8d30bda47",
   "metadata": {},
   "outputs": [
    {
     "data": {
      "text/plain": [
       "['output/pdfs/DPA_03_21_openness.pdf',\n",
       " 'output/pdfs/DPA_05_21_openness.pdf',\n",
       " 'output/pdfs/DPA_07_21_openness.pdf',\n",
       " 'output/pdfs/DPA_02_21_openness.pdf.pdf',\n",
       " 'output/pdfs/DPA_06_21_openness.pdf',\n",
       " 'output/pdfs/DPA_01_21_openness.pdf']"
      ]
     },
     "execution_count": 4,
     "metadata": {},
     "output_type": "execute_result"
    }
   ],
   "source": [
    "excluded = [str(pdf).replace('../../scrape/', '') for pdf in pdfs\n",
    "          if str(pdf).replace('../../scrape/', '') not in pdfs_ref.pdf_file.values]\n",
    "excluded"
   ]
  },
  {
   "cell_type": "markdown",
   "id": "85466c68-0b7d-4ba5-be60-fdea7cb36689",
   "metadata": {},
   "source": [
    "\n",
    "##### Check for duplicate file:\n",
    "- [ ] 'DPA_03_21_openness.pdf': Yes, '2021-07-DPA_03_21_openness'\n",
    "- [ ] 'DPA_05_21_openness.pdf': Yes, '2021-08-DPA_05_21_openness_0'\n",
    "- [ ] 'DPA_07_21_openness.pdf': Yes, '2021-08-DPA_07_21_openness'\n",
    "- [ ] 'DPA_02_21_openness.pdf.pdf': Not checked\n",
    "- [ ] 'DPA_06_21_openness.pdf': Not checked\n",
    "- [ ] 'DPA_01_21_openness.pdf': Not checked\n",
    "\n",
    "IIRC, there are two periods that could explain a few delayed or reposted reports:\n",
    "1. transition from OCC to DPA\n",
    "2. transition from old website to new one\n",
    "\n",
    "I haven't confirmed either of those theories, but these file pairs match on first page contents and file size and this is enough for me to not worry about losing reports."
   ]
  },
  {
   "cell_type": "markdown",
   "id": "5dfc2296-ca80-412c-a0ef-d0b627541a12",
   "metadata": {},
   "source": [
    "### review lost dates"
   ]
  },
  {
   "cell_type": "code",
   "execution_count": 5,
   "id": "c144f2d7-391e-4d21-830d-14535d23b7ff",
   "metadata": {},
   "outputs": [
    {
     "data": {
      "text/plain": [
       "array(['DATE OF COMPLAINT             01/04/18    DATE OF COMPLETION: 04/11/18                PAGE# 1 of 2 DATE OF COMPLAINT         01/04/18    DATE OF COMPLETION: 04/11/18        PAGE# 2 of 2'],\n",
       "      dtype=object)"
      ]
     },
     "execution_count": 5,
     "metadata": {},
     "output_type": "execute_result"
    }
   ],
   "source": [
    "filtered_ref.loc[(filtered_ref.date_complained.isna()) | (filtered_ref.date_completed.isna())].complaint_meta.values"
   ]
  },
  {
   "cell_type": "markdown",
   "id": "5089a086-9f7f-424a-bda6-19a2ed5f6930",
   "metadata": {},
   "source": [
    "### segmenting reports"
   ]
  },
  {
   "cell_type": "code",
   "execution_count": 6,
   "id": "447b0fee-370b-4bb4-9ce9-7c7d0f4bb540",
   "metadata": {},
   "outputs": [
    {
     "data": {
      "text/plain": [
       "31492"
      ]
     },
     "execution_count": 6,
     "metadata": {},
     "output_type": "execute_result"
    }
   ],
   "source": [
    "segments_ref.shape[0]"
   ]
  },
  {
   "cell_type": "code",
   "execution_count": 7,
   "id": "e171341e-55d1-479e-8802-42a0e0c0d5de",
   "metadata": {},
   "outputs": [
    {
     "data": {
      "text/html": [
       "<div>\n",
       "<style scoped>\n",
       "    .dataframe tbody tr th:only-of-type {\n",
       "        vertical-align: middle;\n",
       "    }\n",
       "\n",
       "    .dataframe tbody tr th {\n",
       "        vertical-align: top;\n",
       "    }\n",
       "\n",
       "    .dataframe thead th {\n",
       "        text-align: right;\n",
       "    }\n",
       "</style>\n",
       "<table border=\"1\" class=\"dataframe\">\n",
       "  <thead>\n",
       "    <tr style=\"text-align: right;\">\n",
       "      <th></th>\n",
       "      <th>24660</th>\n",
       "    </tr>\n",
       "  </thead>\n",
       "  <tbody>\n",
       "    <tr>\n",
       "      <th>pdf_url</th>\n",
       "      <td>https://wayback.archive-it.org/org-571/2023012...</td>\n",
       "    </tr>\n",
       "    <tr>\n",
       "      <th>pdf_file</th>\n",
       "      <td>output/pdfs/occ-OCC_09_07_openness.pdf</td>\n",
       "    </tr>\n",
       "    <tr>\n",
       "      <th>fileid</th>\n",
       "      <td>8ba3709b</td>\n",
       "    </tr>\n",
       "    <tr>\n",
       "      <th>complaint_no</th>\n",
       "      <td>7</td>\n",
       "    </tr>\n",
       "    <tr>\n",
       "      <th>complaint_meta</th>\n",
       "      <td>DATE OF COMPLAINT: 04/25/07 DATE OF COMPLETION...</td>\n",
       "    </tr>\n",
       "    <tr>\n",
       "      <th>allegation_no</th>\n",
       "      <td>5</td>\n",
       "    </tr>\n",
       "    <tr>\n",
       "      <th>allegation_text</th>\n",
       "      <td>SUMMARY OF ALLEGATION #7: The officer caused p...</td>\n",
       "    </tr>\n",
       "    <tr>\n",
       "      <th>allegation_start_page</th>\n",
       "      <td>10</td>\n",
       "    </tr>\n",
       "    <tr>\n",
       "      <th>txt_file</th>\n",
       "      <td>../pdf2text/output/txt-test/occ-OCC_09_07_open...</td>\n",
       "    </tr>\n",
       "    <tr>\n",
       "      <th>blank_allegation</th>\n",
       "      <td>False</td>\n",
       "    </tr>\n",
       "    <tr>\n",
       "      <th>outside_jurisdiction</th>\n",
       "      <td>False</td>\n",
       "    </tr>\n",
       "    <tr>\n",
       "      <th>allegation_id</th>\n",
       "      <td>24ab77a9ff27c13c</td>\n",
       "    </tr>\n",
       "  </tbody>\n",
       "</table>\n",
       "</div>"
      ],
      "text/plain": [
       "                                                                   24660\n",
       "pdf_url                https://wayback.archive-it.org/org-571/2023012...\n",
       "pdf_file                          output/pdfs/occ-OCC_09_07_openness.pdf\n",
       "fileid                                                          8ba3709b\n",
       "complaint_no                                                           7\n",
       "complaint_meta         DATE OF COMPLAINT: 04/25/07 DATE OF COMPLETION...\n",
       "allegation_no                                                          5\n",
       "allegation_text        SUMMARY OF ALLEGATION #7: The officer caused p...\n",
       "allegation_start_page                                                 10\n",
       "txt_file               ../pdf2text/output/txt-test/occ-OCC_09_07_open...\n",
       "blank_allegation                                                   False\n",
       "outside_jurisdiction                                               False\n",
       "allegation_id                                           24ab77a9ff27c13c"
      ]
     },
     "execution_count": 7,
     "metadata": {},
     "output_type": "execute_result"
    }
   ],
   "source": [
    "segments_ref.sample().T"
   ]
  },
  {
   "cell_type": "markdown",
   "id": "256b376f-fe48-486b-a181-c89f34826081",
   "metadata": {},
   "source": [
    "### extracting fields from segments"
   ]
  },
  {
   "cell_type": "code",
   "execution_count": 8,
   "id": "ffaaf5cd-6270-4c91-854c-5e4cf20a3402",
   "metadata": {},
   "outputs": [
    {
     "data": {
      "text/plain": [
       "31492"
      ]
     },
     "execution_count": 8,
     "metadata": {},
     "output_type": "execute_result"
    }
   ],
   "source": [
    "filtered_ref.shape[0]"
   ]
  },
  {
   "cell_type": "code",
   "execution_count": 9,
   "id": "f413e48c-1452-4acc-9d3e-f72c228ed9db",
   "metadata": {},
   "outputs": [
    {
     "name": "stdout",
     "output_type": "stream",
     "text": [
      "<class 'pandas.core.frame.DataFrame'>\n",
      "RangeIndex: 31492 entries, 0 to 31491\n",
      "Data columns (total 46 columns):\n",
      " #   Column                 Non-Null Count  Dtype \n",
      "---  ------                 --------------  ----- \n",
      " 0   pdf_url                31492 non-null  object\n",
      " 1   pdf_file               31492 non-null  object\n",
      " 2   fileid                 31492 non-null  object\n",
      " 3   complaint_no           31492 non-null  int64 \n",
      " 4   complaint_meta         31492 non-null  object\n",
      " 5   allegation_no          31492 non-null  int64 \n",
      " 6   allegation_text        31492 non-null  object\n",
      " 7   allegation_start_page  31492 non-null  int64 \n",
      " 8   txt_file               31492 non-null  object\n",
      " 9   blank_allegation       31492 non-null  bool  \n",
      " 10  outside_jurisdiction   31492 non-null  bool  \n",
      " 11  allegation_id          31492 non-null  object\n",
      " 12  date_complained        31491 non-null  object\n",
      " 13  date_completed         31492 non-null  object\n",
      " 14  mediation_status       961 non-null    object\n",
      " 15  mediated               31492 non-null  bool  \n",
      " 16  date_mediated          793 non-null    object\n",
      " 17  allegations            31492 non-null  object\n",
      " 18  category_found         31492 non-null  bool  \n",
      " 19  conduct_category       26949 non-null  object\n",
      " 20  finding                25990 non-null  object\n",
      " 21  sustained              31492 non-null  bool  \n",
      " 22  findings_of_fact       31436 non-null  object\n",
      " 23  named_officers         15 non-null     object\n",
      " 24  n_complaint_pages      31492 non-null  object\n",
      " 25  complaint_id           31492 non-null  object\n",
      " 26  report_type            30483 non-null  object\n",
      " 27  dpa_added              31492 non-null  bool  \n",
      " 28  occ_added              31492 non-null  bool  \n",
      " 29  no_officer_id          31492 non-null  bool  \n",
      " 30  default_finding        31492 non-null  bool  \n",
      " 31  withdrawn              31492 non-null  bool  \n",
      " 32  intimidation           31492 non-null  bool  \n",
      " 33  jlp                    31492 non-null  bool  \n",
      " 34  racial_bias            31492 non-null  bool  \n",
      " 35  resisting              31492 non-null  bool  \n",
      " 36  force                  31492 non-null  bool  \n",
      " 37  bwc                    31492 non-null  bool  \n",
      " 38  pursuit                31492 non-null  bool  \n",
      " 39  swat                   31492 non-null  bool  \n",
      " 40  firearm                31492 non-null  bool  \n",
      " 41  taser                  31492 non-null  bool  \n",
      " 42  home                   31492 non-null  bool  \n",
      " 43  missing_person         31492 non-null  bool  \n",
      " 44  minor                  31492 non-null  bool  \n",
      " 45  crisis                 31492 non-null  bool  \n",
      "dtypes: bool(24), int64(3), object(19)\n",
      "memory usage: 6.0+ MB\n"
     ]
    }
   ],
   "source": [
    "filtered_ref.info()"
   ]
  },
  {
   "cell_type": "code",
   "execution_count": 10,
   "id": "8a68e5c5-77d8-4db8-9fa8-99343995cd00",
   "metadata": {},
   "outputs": [
    {
     "data": {
      "text/html": [
       "<div>\n",
       "<style scoped>\n",
       "    .dataframe tbody tr th:only-of-type {\n",
       "        vertical-align: middle;\n",
       "    }\n",
       "\n",
       "    .dataframe tbody tr th {\n",
       "        vertical-align: top;\n",
       "    }\n",
       "\n",
       "    .dataframe thead th {\n",
       "        text-align: right;\n",
       "    }\n",
       "</style>\n",
       "<table border=\"1\" class=\"dataframe\">\n",
       "  <thead>\n",
       "    <tr style=\"text-align: right;\">\n",
       "      <th></th>\n",
       "      <th>23487</th>\n",
       "    </tr>\n",
       "  </thead>\n",
       "  <tbody>\n",
       "    <tr>\n",
       "      <th>pdf_url</th>\n",
       "      <td>https://wayback.archive-it.org/org-571/2023012...</td>\n",
       "    </tr>\n",
       "    <tr>\n",
       "      <th>pdf_file</th>\n",
       "      <td>output/pdfs/occ-OCC_01_05_openness.pdf</td>\n",
       "    </tr>\n",
       "    <tr>\n",
       "      <th>fileid</th>\n",
       "      <td>4f77797d</td>\n",
       "    </tr>\n",
       "    <tr>\n",
       "      <th>complaint_no</th>\n",
       "      <td>21</td>\n",
       "    </tr>\n",
       "    <tr>\n",
       "      <th>complaint_meta</th>\n",
       "      <td>DATE OF COMPLAINT: 06/28/04               DATE...</td>\n",
       "    </tr>\n",
       "    <tr>\n",
       "      <th>allegation_no</th>\n",
       "      <td>1</td>\n",
       "    </tr>\n",
       "    <tr>\n",
       "      <th>allegation_text</th>\n",
       "      <td>SUMMARY OF ALLEGATION #1: The officer failed t...</td>\n",
       "    </tr>\n",
       "    <tr>\n",
       "      <th>allegation_start_page</th>\n",
       "      <td>40</td>\n",
       "    </tr>\n",
       "    <tr>\n",
       "      <th>txt_file</th>\n",
       "      <td>../pdf2text/output/txt-test/occ-OCC_01_05_open...</td>\n",
       "    </tr>\n",
       "    <tr>\n",
       "      <th>blank_allegation</th>\n",
       "      <td>False</td>\n",
       "    </tr>\n",
       "    <tr>\n",
       "      <th>outside_jurisdiction</th>\n",
       "      <td>False</td>\n",
       "    </tr>\n",
       "    <tr>\n",
       "      <th>allegation_id</th>\n",
       "      <td>bfb1a78bb68a298a</td>\n",
       "    </tr>\n",
       "    <tr>\n",
       "      <th>date_complained</th>\n",
       "      <td>06/28/04</td>\n",
       "    </tr>\n",
       "    <tr>\n",
       "      <th>date_completed</th>\n",
       "      <td>01/31/05</td>\n",
       "    </tr>\n",
       "    <tr>\n",
       "      <th>mediation_status</th>\n",
       "      <td>None</td>\n",
       "    </tr>\n",
       "    <tr>\n",
       "      <th>mediated</th>\n",
       "      <td>False</td>\n",
       "    </tr>\n",
       "    <tr>\n",
       "      <th>date_mediated</th>\n",
       "      <td>None</td>\n",
       "    </tr>\n",
       "    <tr>\n",
       "      <th>allegations</th>\n",
       "      <td>1: The officer failed to take required action....</td>\n",
       "    </tr>\n",
       "    <tr>\n",
       "      <th>category_found</th>\n",
       "      <td>True</td>\n",
       "    </tr>\n",
       "    <tr>\n",
       "      <th>conduct_category</th>\n",
       "      <td>Neglect of Duty</td>\n",
       "    </tr>\n",
       "    <tr>\n",
       "      <th>finding</th>\n",
       "      <td>NS</td>\n",
       "    </tr>\n",
       "    <tr>\n",
       "      <th>sustained</th>\n",
       "      <td>False</td>\n",
       "    </tr>\n",
       "    <tr>\n",
       "      <th>findings_of_fact</th>\n",
       "      <td>The complainant wanted the officer to prepare ...</td>\n",
       "    </tr>\n",
       "    <tr>\n",
       "      <th>named_officers</th>\n",
       "      <td>None</td>\n",
       "    </tr>\n",
       "    <tr>\n",
       "      <th>n_complaint_pages</th>\n",
       "      <td>2</td>\n",
       "    </tr>\n",
       "    <tr>\n",
       "      <th>complaint_id</th>\n",
       "      <td>4f77797d_21</td>\n",
       "    </tr>\n",
       "    <tr>\n",
       "      <th>report_type</th>\n",
       "      <td>OCC</td>\n",
       "    </tr>\n",
       "    <tr>\n",
       "      <th>dpa_added</th>\n",
       "      <td>False</td>\n",
       "    </tr>\n",
       "    <tr>\n",
       "      <th>occ_added</th>\n",
       "      <td>False</td>\n",
       "    </tr>\n",
       "    <tr>\n",
       "      <th>no_officer_id</th>\n",
       "      <td>False</td>\n",
       "    </tr>\n",
       "    <tr>\n",
       "      <th>default_finding</th>\n",
       "      <td>False</td>\n",
       "    </tr>\n",
       "    <tr>\n",
       "      <th>withdrawn</th>\n",
       "      <td>False</td>\n",
       "    </tr>\n",
       "    <tr>\n",
       "      <th>intimidation</th>\n",
       "      <td>False</td>\n",
       "    </tr>\n",
       "    <tr>\n",
       "      <th>jlp</th>\n",
       "      <td>False</td>\n",
       "    </tr>\n",
       "    <tr>\n",
       "      <th>racial_bias</th>\n",
       "      <td>False</td>\n",
       "    </tr>\n",
       "    <tr>\n",
       "      <th>resisting</th>\n",
       "      <td>False</td>\n",
       "    </tr>\n",
       "    <tr>\n",
       "      <th>force</th>\n",
       "      <td>False</td>\n",
       "    </tr>\n",
       "    <tr>\n",
       "      <th>bwc</th>\n",
       "      <td>False</td>\n",
       "    </tr>\n",
       "    <tr>\n",
       "      <th>pursuit</th>\n",
       "      <td>False</td>\n",
       "    </tr>\n",
       "    <tr>\n",
       "      <th>swat</th>\n",
       "      <td>False</td>\n",
       "    </tr>\n",
       "    <tr>\n",
       "      <th>firearm</th>\n",
       "      <td>False</td>\n",
       "    </tr>\n",
       "    <tr>\n",
       "      <th>taser</th>\n",
       "      <td>False</td>\n",
       "    </tr>\n",
       "    <tr>\n",
       "      <th>home</th>\n",
       "      <td>False</td>\n",
       "    </tr>\n",
       "    <tr>\n",
       "      <th>missing_person</th>\n",
       "      <td>False</td>\n",
       "    </tr>\n",
       "    <tr>\n",
       "      <th>minor</th>\n",
       "      <td>False</td>\n",
       "    </tr>\n",
       "    <tr>\n",
       "      <th>crisis</th>\n",
       "      <td>False</td>\n",
       "    </tr>\n",
       "  </tbody>\n",
       "</table>\n",
       "</div>"
      ],
      "text/plain": [
       "                                                                   23487\n",
       "pdf_url                https://wayback.archive-it.org/org-571/2023012...\n",
       "pdf_file                          output/pdfs/occ-OCC_01_05_openness.pdf\n",
       "fileid                                                          4f77797d\n",
       "complaint_no                                                          21\n",
       "complaint_meta         DATE OF COMPLAINT: 06/28/04               DATE...\n",
       "allegation_no                                                          1\n",
       "allegation_text        SUMMARY OF ALLEGATION #1: The officer failed t...\n",
       "allegation_start_page                                                 40\n",
       "txt_file               ../pdf2text/output/txt-test/occ-OCC_01_05_open...\n",
       "blank_allegation                                                   False\n",
       "outside_jurisdiction                                               False\n",
       "allegation_id                                           bfb1a78bb68a298a\n",
       "date_complained                                                 06/28/04\n",
       "date_completed                                                  01/31/05\n",
       "mediation_status                                                    None\n",
       "mediated                                                           False\n",
       "date_mediated                                                       None\n",
       "allegations            1: The officer failed to take required action....\n",
       "category_found                                                      True\n",
       "conduct_category                                         Neglect of Duty\n",
       "finding                                                               NS\n",
       "sustained                                                          False\n",
       "findings_of_fact       The complainant wanted the officer to prepare ...\n",
       "named_officers                                                      None\n",
       "n_complaint_pages                                                      2\n",
       "complaint_id                                                 4f77797d_21\n",
       "report_type                                                          OCC\n",
       "dpa_added                                                          False\n",
       "occ_added                                                          False\n",
       "no_officer_id                                                      False\n",
       "default_finding                                                    False\n",
       "withdrawn                                                          False\n",
       "intimidation                                                       False\n",
       "jlp                                                                False\n",
       "racial_bias                                                        False\n",
       "resisting                                                          False\n",
       "force                                                              False\n",
       "bwc                                                                False\n",
       "pursuit                                                            False\n",
       "swat                                                               False\n",
       "firearm                                                            False\n",
       "taser                                                              False\n",
       "home                                                               False\n",
       "missing_person                                                     False\n",
       "minor                                                              False\n",
       "crisis                                                             False"
      ]
     },
     "execution_count": 10,
     "metadata": {},
     "output_type": "execute_result"
    }
   ],
   "source": [
    "filtered_ref.sample().T"
   ]
  },
  {
   "cell_type": "markdown",
   "id": "9ac91961-3f9c-4bbe-98db-fe96fe9caf8e",
   "metadata": {},
   "source": [
    "### cleaning data"
   ]
  },
  {
   "cell_type": "code",
   "execution_count": 11,
   "id": "6a8bc57b-4141-4329-8a42-171ccc9ce6b8",
   "metadata": {},
   "outputs": [
    {
     "name": "stdout",
     "output_type": "stream",
     "text": [
      "<class 'pandas.core.frame.DataFrame'>\n",
      "RangeIndex: 31492 entries, 0 to 31491\n",
      "Data columns (total 52 columns):\n",
      " #   Column                 Non-Null Count  Dtype         \n",
      "---  ------                 --------------  -----         \n",
      " 0   pdf_url                31492 non-null  object        \n",
      " 1   pdf_file               31492 non-null  object        \n",
      " 2   fileid                 31492 non-null  object        \n",
      " 3   complaint_no           31492 non-null  int64         \n",
      " 4   complaint_meta         31492 non-null  object        \n",
      " 5   allegation_no          31492 non-null  int64         \n",
      " 6   allegation_text        31492 non-null  object        \n",
      " 7   allegation_start_page  31492 non-null  int64         \n",
      " 8   txt_file               31492 non-null  object        \n",
      " 9   blank_allegation       31492 non-null  bool          \n",
      " 10  outside_jurisdiction   31492 non-null  bool          \n",
      " 11  allegation_id          31492 non-null  object        \n",
      " 12  date_complained_text   31491 non-null  object        \n",
      " 13  date_completed_text    31492 non-null  object        \n",
      " 14  mediation_status       961 non-null    object        \n",
      " 15  mediated               31492 non-null  bool          \n",
      " 16  date_mediated          793 non-null    object        \n",
      " 17  allegations            28535 non-null  object        \n",
      " 18  category_found         31492 non-null  bool          \n",
      " 19  conduct_category       26949 non-null  object        \n",
      " 20  finding                25990 non-null  object        \n",
      " 21  sustained              31492 non-null  bool          \n",
      " 22  findings_of_fact       31436 non-null  object        \n",
      " 23  named_officers         15 non-null     object        \n",
      " 24  n_complaint_pages      31492 non-null  object        \n",
      " 25  complaint_id           31492 non-null  object        \n",
      " 26  report_type            30483 non-null  object        \n",
      " 27  dpa_added              31492 non-null  bool          \n",
      " 28  occ_added              31492 non-null  bool          \n",
      " 29  no_officer_id          31492 non-null  bool          \n",
      " 30  default_finding        31492 non-null  bool          \n",
      " 31  withdrawn              31492 non-null  bool          \n",
      " 32  intimidation           31492 non-null  bool          \n",
      " 33  jlp                    31492 non-null  bool          \n",
      " 34  racial_bias            31492 non-null  bool          \n",
      " 35  resisting              31492 non-null  bool          \n",
      " 36  force                  31492 non-null  bool          \n",
      " 37  bwc                    31492 non-null  bool          \n",
      " 38  pursuit                31492 non-null  bool          \n",
      " 39  swat                   31492 non-null  bool          \n",
      " 40  firearm                31492 non-null  bool          \n",
      " 41  taser                  31492 non-null  bool          \n",
      " 42  home                   31492 non-null  bool          \n",
      " 43  missing_person         31492 non-null  bool          \n",
      " 44  minor                  31492 non-null  bool          \n",
      " 45  crisis                 31492 non-null  bool          \n",
      " 46  date_complained        31394 non-null  datetime64[ns]\n",
      " 47  date_completed         31470 non-null  datetime64[ns]\n",
      " 48  year_complained        31394 non-null  float64       \n",
      " 49  month_complained       31394 non-null  float64       \n",
      " 50  year_completed         31492 non-null  float64       \n",
      " 51  month_completed        31492 non-null  float64       \n",
      "dtypes: bool(24), datetime64[ns](2), float64(4), int64(3), object(19)\n",
      "memory usage: 7.4+ MB\n"
     ]
    }
   ],
   "source": [
    "cleaned.info()"
   ]
  },
  {
   "cell_type": "code",
   "execution_count": 12,
   "id": "687b2325-bc5e-4699-a084-7b8517e47099",
   "metadata": {},
   "outputs": [
    {
     "data": {
      "text/html": [
       "<div>\n",
       "<style scoped>\n",
       "    .dataframe tbody tr th:only-of-type {\n",
       "        vertical-align: middle;\n",
       "    }\n",
       "\n",
       "    .dataframe tbody tr th {\n",
       "        vertical-align: top;\n",
       "    }\n",
       "\n",
       "    .dataframe thead th {\n",
       "        text-align: right;\n",
       "    }\n",
       "</style>\n",
       "<table border=\"1\" class=\"dataframe\">\n",
       "  <thead>\n",
       "    <tr style=\"text-align: right;\">\n",
       "      <th></th>\n",
       "      <th>21023</th>\n",
       "    </tr>\n",
       "  </thead>\n",
       "  <tbody>\n",
       "    <tr>\n",
       "      <th>pdf_url</th>\n",
       "      <td>https://sf.gov/sites/default/files/2022-04/DPA...</td>\n",
       "    </tr>\n",
       "    <tr>\n",
       "      <th>pdf_file</th>\n",
       "      <td>output/pdfs/2022-04-DPA_01_22_openness_0.pdf</td>\n",
       "    </tr>\n",
       "    <tr>\n",
       "      <th>fileid</th>\n",
       "      <td>1e7c0bab</td>\n",
       "    </tr>\n",
       "    <tr>\n",
       "      <th>complaint_no</th>\n",
       "      <td>17</td>\n",
       "    </tr>\n",
       "    <tr>\n",
       "      <th>complaint_meta</th>\n",
       "      <td>DATE OF COMPLAINT:             02/03/19     DA...</td>\n",
       "    </tr>\n",
       "    <tr>\n",
       "      <th>allegation_no</th>\n",
       "      <td>2</td>\n",
       "    </tr>\n",
       "    <tr>\n",
       "      <th>allegation_text</th>\n",
       "      <td>SUMMARY OF ALLEGATIONS #3-6: The officers beha...</td>\n",
       "    </tr>\n",
       "    <tr>\n",
       "      <th>allegation_start_page</th>\n",
       "      <td>36</td>\n",
       "    </tr>\n",
       "    <tr>\n",
       "      <th>txt_file</th>\n",
       "      <td>../pdf2text/output/txt-test/2022-04-DPA_01_22_...</td>\n",
       "    </tr>\n",
       "    <tr>\n",
       "      <th>blank_allegation</th>\n",
       "      <td>False</td>\n",
       "    </tr>\n",
       "    <tr>\n",
       "      <th>outside_jurisdiction</th>\n",
       "      <td>False</td>\n",
       "    </tr>\n",
       "    <tr>\n",
       "      <th>allegation_id</th>\n",
       "      <td>aafbf18488750acc</td>\n",
       "    </tr>\n",
       "    <tr>\n",
       "      <th>date_complained_text</th>\n",
       "      <td>02/03/19</td>\n",
       "    </tr>\n",
       "    <tr>\n",
       "      <th>date_completed_text</th>\n",
       "      <td>01/14/22</td>\n",
       "    </tr>\n",
       "    <tr>\n",
       "      <th>mediation_status</th>\n",
       "      <td>None</td>\n",
       "    </tr>\n",
       "    <tr>\n",
       "      <th>mediated</th>\n",
       "      <td>False</td>\n",
       "    </tr>\n",
       "    <tr>\n",
       "      <th>date_mediated</th>\n",
       "      <td>None</td>\n",
       "    </tr>\n",
       "    <tr>\n",
       "      <th>allegations</th>\n",
       "      <td>The officers behaved or spoke inappropriately.</td>\n",
       "    </tr>\n",
       "    <tr>\n",
       "      <th>category_found</th>\n",
       "      <td>True</td>\n",
       "    </tr>\n",
       "    <tr>\n",
       "      <th>conduct_category</th>\n",
       "      <td>Conduct Unbecoming an Officer</td>\n",
       "    </tr>\n",
       "    <tr>\n",
       "      <th>finding</th>\n",
       "      <td>U</td>\n",
       "    </tr>\n",
       "    <tr>\n",
       "      <th>sustained</th>\n",
       "      <td>False</td>\n",
       "    </tr>\n",
       "    <tr>\n",
       "      <th>findings_of_fact</th>\n",
       "      <td>The complainant stated that the named officers...</td>\n",
       "    </tr>\n",
       "    <tr>\n",
       "      <th>named_officers</th>\n",
       "      <td>None</td>\n",
       "    </tr>\n",
       "    <tr>\n",
       "      <th>n_complaint_pages</th>\n",
       "      <td>6</td>\n",
       "    </tr>\n",
       "    <tr>\n",
       "      <th>complaint_id</th>\n",
       "      <td>1e7c0bab_17</td>\n",
       "    </tr>\n",
       "    <tr>\n",
       "      <th>report_type</th>\n",
       "      <td>DPA</td>\n",
       "    </tr>\n",
       "    <tr>\n",
       "      <th>dpa_added</th>\n",
       "      <td>False</td>\n",
       "    </tr>\n",
       "    <tr>\n",
       "      <th>occ_added</th>\n",
       "      <td>False</td>\n",
       "    </tr>\n",
       "    <tr>\n",
       "      <th>no_officer_id</th>\n",
       "      <td>False</td>\n",
       "    </tr>\n",
       "    <tr>\n",
       "      <th>default_finding</th>\n",
       "      <td>False</td>\n",
       "    </tr>\n",
       "    <tr>\n",
       "      <th>withdrawn</th>\n",
       "      <td>False</td>\n",
       "    </tr>\n",
       "    <tr>\n",
       "      <th>intimidation</th>\n",
       "      <td>False</td>\n",
       "    </tr>\n",
       "    <tr>\n",
       "      <th>jlp</th>\n",
       "      <td>False</td>\n",
       "    </tr>\n",
       "    <tr>\n",
       "      <th>racial_bias</th>\n",
       "      <td>False</td>\n",
       "    </tr>\n",
       "    <tr>\n",
       "      <th>resisting</th>\n",
       "      <td>False</td>\n",
       "    </tr>\n",
       "    <tr>\n",
       "      <th>force</th>\n",
       "      <td>False</td>\n",
       "    </tr>\n",
       "    <tr>\n",
       "      <th>bwc</th>\n",
       "      <td>True</td>\n",
       "    </tr>\n",
       "    <tr>\n",
       "      <th>pursuit</th>\n",
       "      <td>False</td>\n",
       "    </tr>\n",
       "    <tr>\n",
       "      <th>swat</th>\n",
       "      <td>False</td>\n",
       "    </tr>\n",
       "    <tr>\n",
       "      <th>firearm</th>\n",
       "      <td>False</td>\n",
       "    </tr>\n",
       "    <tr>\n",
       "      <th>taser</th>\n",
       "      <td>False</td>\n",
       "    </tr>\n",
       "    <tr>\n",
       "      <th>home</th>\n",
       "      <td>False</td>\n",
       "    </tr>\n",
       "    <tr>\n",
       "      <th>missing_person</th>\n",
       "      <td>False</td>\n",
       "    </tr>\n",
       "    <tr>\n",
       "      <th>minor</th>\n",
       "      <td>False</td>\n",
       "    </tr>\n",
       "    <tr>\n",
       "      <th>crisis</th>\n",
       "      <td>False</td>\n",
       "    </tr>\n",
       "    <tr>\n",
       "      <th>date_complained</th>\n",
       "      <td>2019-02-03 00:00:00</td>\n",
       "    </tr>\n",
       "    <tr>\n",
       "      <th>date_completed</th>\n",
       "      <td>2022-01-14 00:00:00</td>\n",
       "    </tr>\n",
       "    <tr>\n",
       "      <th>year_complained</th>\n",
       "      <td>2019.0</td>\n",
       "    </tr>\n",
       "    <tr>\n",
       "      <th>month_complained</th>\n",
       "      <td>2.0</td>\n",
       "    </tr>\n",
       "    <tr>\n",
       "      <th>year_completed</th>\n",
       "      <td>2022.0</td>\n",
       "    </tr>\n",
       "    <tr>\n",
       "      <th>month_completed</th>\n",
       "      <td>1.0</td>\n",
       "    </tr>\n",
       "  </tbody>\n",
       "</table>\n",
       "</div>"
      ],
      "text/plain": [
       "                                                                   21023\n",
       "pdf_url                https://sf.gov/sites/default/files/2022-04/DPA...\n",
       "pdf_file                    output/pdfs/2022-04-DPA_01_22_openness_0.pdf\n",
       "fileid                                                          1e7c0bab\n",
       "complaint_no                                                          17\n",
       "complaint_meta         DATE OF COMPLAINT:             02/03/19     DA...\n",
       "allegation_no                                                          2\n",
       "allegation_text        SUMMARY OF ALLEGATIONS #3-6: The officers beha...\n",
       "allegation_start_page                                                 36\n",
       "txt_file               ../pdf2text/output/txt-test/2022-04-DPA_01_22_...\n",
       "blank_allegation                                                   False\n",
       "outside_jurisdiction                                               False\n",
       "allegation_id                                           aafbf18488750acc\n",
       "date_complained_text                                            02/03/19\n",
       "date_completed_text                                             01/14/22\n",
       "mediation_status                                                    None\n",
       "mediated                                                           False\n",
       "date_mediated                                                       None\n",
       "allegations               The officers behaved or spoke inappropriately.\n",
       "category_found                                                      True\n",
       "conduct_category                           Conduct Unbecoming an Officer\n",
       "finding                                                                U\n",
       "sustained                                                          False\n",
       "findings_of_fact       The complainant stated that the named officers...\n",
       "named_officers                                                      None\n",
       "n_complaint_pages                                                      6\n",
       "complaint_id                                                 1e7c0bab_17\n",
       "report_type                                                          DPA\n",
       "dpa_added                                                          False\n",
       "occ_added                                                          False\n",
       "no_officer_id                                                      False\n",
       "default_finding                                                    False\n",
       "withdrawn                                                          False\n",
       "intimidation                                                       False\n",
       "jlp                                                                False\n",
       "racial_bias                                                        False\n",
       "resisting                                                          False\n",
       "force                                                              False\n",
       "bwc                                                                 True\n",
       "pursuit                                                            False\n",
       "swat                                                               False\n",
       "firearm                                                            False\n",
       "taser                                                              False\n",
       "home                                                               False\n",
       "missing_person                                                     False\n",
       "minor                                                              False\n",
       "crisis                                                             False\n",
       "date_complained                                      2019-02-03 00:00:00\n",
       "date_completed                                       2022-01-14 00:00:00\n",
       "year_complained                                                   2019.0\n",
       "month_complained                                                     2.0\n",
       "year_completed                                                    2022.0\n",
       "month_completed                                                      1.0"
      ]
     },
     "execution_count": 12,
     "metadata": {},
     "output_type": "execute_result"
    }
   ],
   "source": [
    "cleaned.sample().T"
   ]
  },
  {
   "cell_type": "markdown",
   "id": "f38fa389-fd47-4f8e-a9db-d19181d0f198",
   "metadata": {},
   "source": [
    "### setting up indicators"
   ]
  },
  {
   "cell_type": "code",
   "execution_count": 13,
   "id": "69c09bae-a692-479d-a931-baf32f28a005",
   "metadata": {},
   "outputs": [
    {
     "name": "stdout",
     "output_type": "stream",
     "text": [
      "<class 'pandas.core.frame.DataFrame'>\n",
      "RangeIndex: 31492 entries, 0 to 31491\n",
      "Data columns (total 71 columns):\n",
      " #   Column                     Non-Null Count  Dtype          \n",
      "---  ------                     --------------  -----          \n",
      " 0   pdf_url                    31492 non-null  object         \n",
      " 1   pdf_file                   31492 non-null  object         \n",
      " 2   fileid                     31492 non-null  object         \n",
      " 3   complaint_no               31492 non-null  int64          \n",
      " 4   complaint_meta             31492 non-null  object         \n",
      " 5   allegation_no              31492 non-null  int64          \n",
      " 6   allegation_text            31492 non-null  object         \n",
      " 7   allegation_start_page      31492 non-null  int64          \n",
      " 8   txt_file                   31492 non-null  object         \n",
      " 9   blank_allegation           31492 non-null  bool           \n",
      " 10  outside_jurisdiction       31492 non-null  bool           \n",
      " 11  allegation_id              31492 non-null  object         \n",
      " 12  date_complained_text       31491 non-null  object         \n",
      " 13  date_completed_text        31492 non-null  object         \n",
      " 14  mediation_status           961 non-null    object         \n",
      " 15  mediated                   31492 non-null  bool           \n",
      " 16  date_mediated              793 non-null    object         \n",
      " 17  allegations                28535 non-null  object         \n",
      " 18  category_found             31492 non-null  bool           \n",
      " 19  conduct_category_original  26949 non-null  object         \n",
      " 20  finding_original           25990 non-null  object         \n",
      " 21  sustained                  31492 non-null  bool           \n",
      " 22  findings_of_fact           31436 non-null  object         \n",
      " 23  named_officers             15 non-null     object         \n",
      " 24  n_complaint_pages          31492 non-null  object         \n",
      " 25  complaint_id               31492 non-null  object         \n",
      " 26  report_type                30483 non-null  object         \n",
      " 27  dpa_added                  31492 non-null  bool           \n",
      " 28  occ_added                  31492 non-null  bool           \n",
      " 29  no_officer_id              31492 non-null  bool           \n",
      " 30  default_finding            31492 non-null  bool           \n",
      " 31  withdrawn                  31492 non-null  bool           \n",
      " 32  intimidation               31492 non-null  bool           \n",
      " 33  jlp                        31492 non-null  bool           \n",
      " 34  racial_bias                31492 non-null  bool           \n",
      " 35  resisting                  31492 non-null  bool           \n",
      " 36  force                      31492 non-null  bool           \n",
      " 37  bwc                        31492 non-null  bool           \n",
      " 38  pursuit                    31492 non-null  bool           \n",
      " 39  swat                       31492 non-null  bool           \n",
      " 40  firearm                    31492 non-null  bool           \n",
      " 41  taser                      31492 non-null  bool           \n",
      " 42  home                       31492 non-null  bool           \n",
      " 43  missing_person             31492 non-null  bool           \n",
      " 44  minor                      31492 non-null  bool           \n",
      " 45  crisis                     31492 non-null  bool           \n",
      " 46  date_complained            31394 non-null  datetime64[ns] \n",
      " 47  date_completed             31470 non-null  datetime64[ns] \n",
      " 48  year_complained            31394 non-null  float64        \n",
      " 49  month_complained           31394 non-null  float64        \n",
      " 50  year_completed             31492 non-null  float64        \n",
      " 51  month_completed            31492 non-null  float64        \n",
      " 52  finding                    25990 non-null  object         \n",
      " 53  conduct_category           26949 non-null  object         \n",
      " 54  action_wo_cause            31492 non-null  bool           \n",
      " 55  entry_wo_cause             31492 non-null  bool           \n",
      " 56  search_wo_cause            31492 non-null  bool           \n",
      " 57  towed_wo_cause             31492 non-null  bool           \n",
      " 58  tookproperty_wo_cause      31492 non-null  bool           \n",
      " 59  cite_wo_cause              31492 non-null  bool           \n",
      " 60  detain_wo_cause            31492 non-null  bool           \n",
      " 61  arrest_wo_cause            31492 non-null  bool           \n",
      " 62  display_weapon             31492 non-null  bool           \n",
      " 63  unnec_force                31492 non-null  bool           \n",
      " 64  dishonesty                 31492 non-null  bool           \n",
      " 65  bias                       31492 non-null  bool           \n",
      " 66  inapp_action               31492 non-null  bool           \n",
      " 67  malignant_action           31492 non-null  bool           \n",
      " 68  failed_reqmt               31492 non-null  bool           \n",
      " 69  time_to_complete           31372 non-null  timedelta64[ns]\n",
      " 70  ttc_group                  31372 non-null  object         \n",
      "dtypes: bool(39), datetime64[ns](2), float64(4), int64(3), object(22), timedelta64[ns](1)\n",
      "memory usage: 8.9+ MB\n"
     ]
    }
   ],
   "source": [
    "indicated.info()"
   ]
  },
  {
   "cell_type": "code",
   "execution_count": 14,
   "id": "23f97256-90d7-4888-b727-d8e3e778f20b",
   "metadata": {},
   "outputs": [
    {
     "data": {
      "text/html": [
       "<div>\n",
       "<style scoped>\n",
       "    .dataframe tbody tr th:only-of-type {\n",
       "        vertical-align: middle;\n",
       "    }\n",
       "\n",
       "    .dataframe tbody tr th {\n",
       "        vertical-align: top;\n",
       "    }\n",
       "\n",
       "    .dataframe thead th {\n",
       "        text-align: right;\n",
       "    }\n",
       "</style>\n",
       "<table border=\"1\" class=\"dataframe\">\n",
       "  <thead>\n",
       "    <tr style=\"text-align: right;\">\n",
       "      <th></th>\n",
       "      <th>17949</th>\n",
       "    </tr>\n",
       "  </thead>\n",
       "  <tbody>\n",
       "    <tr>\n",
       "      <th>pdf_url</th>\n",
       "      <td>https://wayback.archive-it.org/org-571/2023012...</td>\n",
       "    </tr>\n",
       "    <tr>\n",
       "      <th>pdf_file</th>\n",
       "      <td>output/pdfs/occ-OCC_06_09_openness.pdf</td>\n",
       "    </tr>\n",
       "    <tr>\n",
       "      <th>fileid</th>\n",
       "      <td>98d679a2</td>\n",
       "    </tr>\n",
       "    <tr>\n",
       "      <th>complaint_no</th>\n",
       "      <td>98</td>\n",
       "    </tr>\n",
       "    <tr>\n",
       "      <th>complaint_meta</th>\n",
       "      <td>DATE OF COMPLAINT: 02/09/09 DATE OF COMPLETION...</td>\n",
       "    </tr>\n",
       "    <tr>\n",
       "      <th>...</th>\n",
       "      <td>...</td>\n",
       "    </tr>\n",
       "    <tr>\n",
       "      <th>inapp_action</th>\n",
       "      <td>False</td>\n",
       "    </tr>\n",
       "    <tr>\n",
       "      <th>malignant_action</th>\n",
       "      <td>False</td>\n",
       "    </tr>\n",
       "    <tr>\n",
       "      <th>failed_reqmt</th>\n",
       "      <td>True</td>\n",
       "    </tr>\n",
       "    <tr>\n",
       "      <th>time_to_complete</th>\n",
       "      <td>131 days 00:00:00</td>\n",
       "    </tr>\n",
       "    <tr>\n",
       "      <th>ttc_group</th>\n",
       "      <td>3 to 6 months</td>\n",
       "    </tr>\n",
       "  </tbody>\n",
       "</table>\n",
       "<p>71 rows × 1 columns</p>\n",
       "</div>"
      ],
      "text/plain": [
       "                                                              17949\n",
       "pdf_url           https://wayback.archive-it.org/org-571/2023012...\n",
       "pdf_file                     output/pdfs/occ-OCC_06_09_openness.pdf\n",
       "fileid                                                     98d679a2\n",
       "complaint_no                                                     98\n",
       "complaint_meta    DATE OF COMPLAINT: 02/09/09 DATE OF COMPLETION...\n",
       "...                                                             ...\n",
       "inapp_action                                                  False\n",
       "malignant_action                                              False\n",
       "failed_reqmt                                                   True\n",
       "time_to_complete                                  131 days 00:00:00\n",
       "ttc_group                                             3 to 6 months\n",
       "\n",
       "[71 rows x 1 columns]"
      ]
     },
     "execution_count": 14,
     "metadata": {},
     "output_type": "execute_result"
    }
   ],
   "source": [
    "indicated.sample().T"
   ]
  },
  {
   "cell_type": "markdown",
   "id": "96b5b396-2b8e-40c2-bf14-2ba336d74b27",
   "metadata": {},
   "source": [
    "### final datasets"
   ]
  },
  {
   "cell_type": "code",
   "execution_count": 15,
   "id": "cb93e3e1-a431-4616-8376-7f8d996ace43",
   "metadata": {},
   "outputs": [
    {
     "data": {
      "text/html": [
       "<div>\n",
       "<style scoped>\n",
       "    .dataframe tbody tr th:only-of-type {\n",
       "        vertical-align: middle;\n",
       "    }\n",
       "\n",
       "    .dataframe tbody tr th {\n",
       "        vertical-align: top;\n",
       "    }\n",
       "\n",
       "    .dataframe thead th {\n",
       "        text-align: right;\n",
       "    }\n",
       "</style>\n",
       "<table border=\"1\" class=\"dataframe\">\n",
       "  <thead>\n",
       "    <tr style=\"text-align: right;\">\n",
       "      <th></th>\n",
       "      <th>12362</th>\n",
       "    </tr>\n",
       "  </thead>\n",
       "  <tbody>\n",
       "    <tr>\n",
       "      <th>pdf_url</th>\n",
       "      <td>https://wayback.archive-it.org/org-571/2023012...</td>\n",
       "    </tr>\n",
       "    <tr>\n",
       "      <th>pdf_file</th>\n",
       "      <td>output/pdfs/occ-OCC_11_07_openness.pdf</td>\n",
       "    </tr>\n",
       "    <tr>\n",
       "      <th>fileid</th>\n",
       "      <td>adca54e5</td>\n",
       "    </tr>\n",
       "    <tr>\n",
       "      <th>complaint_no</th>\n",
       "      <td>33</td>\n",
       "    </tr>\n",
       "    <tr>\n",
       "      <th>complaint_meta</th>\n",
       "      <td>DATE OF COMPLAINT: 01/26/07 DATE OF COMPLETION...</td>\n",
       "    </tr>\n",
       "    <tr>\n",
       "      <th>...</th>\n",
       "      <td>...</td>\n",
       "    </tr>\n",
       "    <tr>\n",
       "      <th>inapp_action</th>\n",
       "      <td>False</td>\n",
       "    </tr>\n",
       "    <tr>\n",
       "      <th>malignant_action</th>\n",
       "      <td>False</td>\n",
       "    </tr>\n",
       "    <tr>\n",
       "      <th>failed_reqmt</th>\n",
       "      <td>True</td>\n",
       "    </tr>\n",
       "    <tr>\n",
       "      <th>time_to_complete</th>\n",
       "      <td>293 days 00:00:00</td>\n",
       "    </tr>\n",
       "    <tr>\n",
       "      <th>ttc_group</th>\n",
       "      <td>6 months to 1 year</td>\n",
       "    </tr>\n",
       "  </tbody>\n",
       "</table>\n",
       "<p>71 rows × 1 columns</p>\n",
       "</div>"
      ],
      "text/plain": [
       "                                                              12362\n",
       "pdf_url           https://wayback.archive-it.org/org-571/2023012...\n",
       "pdf_file                     output/pdfs/occ-OCC_11_07_openness.pdf\n",
       "fileid                                                     adca54e5\n",
       "complaint_no                                                     33\n",
       "complaint_meta    DATE OF COMPLAINT: 01/26/07 DATE OF COMPLETION...\n",
       "...                                                             ...\n",
       "inapp_action                                                  False\n",
       "malignant_action                                              False\n",
       "failed_reqmt                                                   True\n",
       "time_to_complete                                  293 days 00:00:00\n",
       "ttc_group                                        6 months to 1 year\n",
       "\n",
       "[71 rows x 1 columns]"
      ]
     },
     "execution_count": 15,
     "metadata": {},
     "output_type": "execute_result"
    }
   ],
   "source": [
    "complaints.sample().T"
   ]
  },
  {
   "cell_type": "code",
   "execution_count": 16,
   "id": "f80303d2-8806-4c46-befe-9f788806a57d",
   "metadata": {},
   "outputs": [
    {
     "data": {
      "text/html": [
       "<div>\n",
       "<style scoped>\n",
       "    .dataframe tbody tr th:only-of-type {\n",
       "        vertical-align: middle;\n",
       "    }\n",
       "\n",
       "    .dataframe tbody tr th {\n",
       "        vertical-align: top;\n",
       "    }\n",
       "\n",
       "    .dataframe thead th {\n",
       "        text-align: right;\n",
       "    }\n",
       "</style>\n",
       "<table border=\"1\" class=\"dataframe\">\n",
       "  <thead>\n",
       "    <tr style=\"text-align: right;\">\n",
       "      <th></th>\n",
       "      <th>pdf_url</th>\n",
       "      <th>pdf_file</th>\n",
       "      <th>fileid</th>\n",
       "      <th>complaint_no</th>\n",
       "      <th>complaint_meta</th>\n",
       "      <th>allegation_no</th>\n",
       "      <th>allegation_text</th>\n",
       "      <th>allegation_start_page</th>\n",
       "      <th>txt_file</th>\n",
       "      <th>blank_allegation</th>\n",
       "      <th>...</th>\n",
       "      <th>arrest_wo_cause</th>\n",
       "      <th>display_weapon</th>\n",
       "      <th>unnec_force</th>\n",
       "      <th>dishonesty</th>\n",
       "      <th>bias</th>\n",
       "      <th>inapp_action</th>\n",
       "      <th>malignant_action</th>\n",
       "      <th>failed_reqmt</th>\n",
       "      <th>time_to_complete</th>\n",
       "      <th>ttc_group</th>\n",
       "    </tr>\n",
       "  </thead>\n",
       "  <tbody>\n",
       "    <tr>\n",
       "      <th>23939</th>\n",
       "      <td>https://wayback.archive-it.org/org-571/2023012...</td>\n",
       "      <td>output/pdfs/occ-OCC_01_09_openness.pdf</td>\n",
       "      <td>85d0a954</td>\n",
       "      <td>75</td>\n",
       "      <td>DATE OF COMPLAINT: 03/04/08 DATE OF COMPLETION...</td>\n",
       "      <td>1</td>\n",
       "      <td>SUMMARY OF ALLEGATION #1: The officer arrested...</td>\n",
       "      <td>113</td>\n",
       "      <td>../pdf2text/output/txt-test/occ-OCC_01_09_open...</td>\n",
       "      <td>False</td>\n",
       "      <td>...</td>\n",
       "      <td>True</td>\n",
       "      <td>False</td>\n",
       "      <td>False</td>\n",
       "      <td>False</td>\n",
       "      <td>False</td>\n",
       "      <td>False</td>\n",
       "      <td>False</td>\n",
       "      <td>False</td>\n",
       "      <td>333 days</td>\n",
       "      <td>6 months to 1 year</td>\n",
       "    </tr>\n",
       "  </tbody>\n",
       "</table>\n",
       "<p>1 rows × 71 columns</p>\n",
       "</div>"
      ],
      "text/plain": [
       "                                                 pdf_url  \\\n",
       "23939  https://wayback.archive-it.org/org-571/2023012...   \n",
       "\n",
       "                                     pdf_file    fileid  complaint_no  \\\n",
       "23939  output/pdfs/occ-OCC_01_09_openness.pdf  85d0a954            75   \n",
       "\n",
       "                                          complaint_meta  allegation_no  \\\n",
       "23939  DATE OF COMPLAINT: 03/04/08 DATE OF COMPLETION...              1   \n",
       "\n",
       "                                         allegation_text  \\\n",
       "23939  SUMMARY OF ALLEGATION #1: The officer arrested...   \n",
       "\n",
       "       allegation_start_page  \\\n",
       "23939                    113   \n",
       "\n",
       "                                                txt_file  blank_allegation  \\\n",
       "23939  ../pdf2text/output/txt-test/occ-OCC_01_09_open...             False   \n",
       "\n",
       "       ...  arrest_wo_cause display_weapon unnec_force dishonesty   bias  \\\n",
       "23939  ...             True          False       False      False  False   \n",
       "\n",
       "       inapp_action malignant_action failed_reqmt  time_to_complete  \\\n",
       "23939         False            False        False          333 days   \n",
       "\n",
       "                ttc_group  \n",
       "23939  6 months to 1 year  \n",
       "\n",
       "[1 rows x 71 columns]"
      ]
     },
     "execution_count": 16,
     "metadata": {},
     "output_type": "execute_result"
    }
   ],
   "source": [
    "allegations.sample()"
   ]
  },
  {
   "cell_type": "markdown",
   "id": "eea2e49f-07fe-433c-a0e5-819a4f4342f6",
   "metadata": {},
   "source": [
    "# disclaimer\n",
    "### things still in progress\n",
    "\n",
    "There are data entry, parsing, and processing errors in the Datetime data that are still being worked out. Much of this has been recovered but where `time_to_complete` is referenced, it will be from the subset of data that has a logical `time_to_complete` value (ie. not negative)."
   ]
  },
  {
   "cell_type": "code",
   "execution_count": 17,
   "id": "fb63a3b1-b8aa-43f9-a4a0-353f6f95c192",
   "metadata": {},
   "outputs": [
    {
     "data": {
      "text/plain": [
       "count                          28946\n",
       "mean     256 days 01:57:24.289366408\n",
       "std      233 days 05:39:29.956000140\n",
       "min             -3135 days +00:00:00\n",
       "25%                115 days 00:00:00\n",
       "50%                243 days 00:00:00\n",
       "75%                333 days 00:00:00\n",
       "max               2805 days 00:00:00\n",
       "Name: time_to_complete, dtype: object"
      ]
     },
     "execution_count": 17,
     "metadata": {},
     "output_type": "execute_result"
    }
   ],
   "source": [
    "dpa.time_to_complete.describe()"
   ]
  },
  {
   "cell_type": "code",
   "execution_count": 18,
   "id": "05cd5a00-9f59-4945-a016-83c4fa0e46a2",
   "metadata": {},
   "outputs": [
    {
     "data": {
      "text/plain": [
       "count                          28439\n",
       "mean     261 days 12:52:59.352297904\n",
       "std      228 days 15:35:24.568738260\n",
       "min                  1 days 00:00:00\n",
       "25%                119 days 00:00:00\n",
       "50%                250 days 00:00:00\n",
       "75%                333 days 00:00:00\n",
       "max               2805 days 00:00:00\n",
       "Name: time_to_complete, dtype: object"
      ]
     },
     "execution_count": 18,
     "metadata": {},
     "output_type": "execute_result"
    }
   ],
   "source": [
    "working.time_to_complete.describe()"
   ]
  },
  {
   "cell_type": "code",
   "execution_count": 19,
   "id": "55bdb91b-17b0-49d0-9da5-f9b706154a01",
   "metadata": {},
   "outputs": [
    {
     "data": {
      "text/plain": [
       "'593 rows or 2.0% of the data have an invalid `time_to_close`'"
      ]
     },
     "execution_count": 19,
     "metadata": {},
     "output_type": "execute_result"
    }
   ],
   "source": [
    "n_dropped = dpa.shape[0] - working.shape[0]\n",
    "prop_dropped = round(n_dropped/dpa.shape[0], 3)\n",
    "f\"{n_dropped} rows or {prop_dropped*100:.1f}% of the data have an invalid `time_to_close`\""
   ]
  },
  {
   "cell_type": "markdown",
   "id": "32a39416-858c-4cfb-900b-e23f9e88dd84",
   "metadata": {},
   "source": [
    "#### how many allegations are missing datetime info?"
   ]
  },
  {
   "cell_type": "code",
   "execution_count": 20,
   "id": "6f89c2f1-a0bf-40de-84a8-4399aacc1dbc",
   "metadata": {},
   "outputs": [
    {
     "data": {
      "text/plain": [
       "82"
      ]
     },
     "execution_count": 20,
     "metadata": {},
     "output_type": "execute_result"
    }
   ],
   "source": [
    "dpa.loc[dpa.year_complained.isna(), ['date_complained', 'year_complained']].shape[0]"
   ]
  },
  {
   "cell_type": "code",
   "execution_count": 21,
   "id": "8a59bf72-7a6d-4f98-8aa0-cabb10a9e816",
   "metadata": {},
   "outputs": [
    {
     "data": {
      "text/plain": [
       "0"
      ]
     },
     "execution_count": 21,
     "metadata": {},
     "output_type": "execute_result"
    }
   ],
   "source": [
    "dpa.loc[dpa.year_completed.isna(), ['date_completed', 'year_completed']].shape[0]"
   ]
  },
  {
   "cell_type": "code",
   "execution_count": 22,
   "id": "0f2a910a-5fc7-466c-9db2-53d4a08522ac",
   "metadata": {},
   "outputs": [],
   "source": [
    "# report info for allegations missing date complained\n",
    "# this is likely due to an extraction error we should be able to fix\n",
    "# dpa.loc[dpa.year_complained.isna(), ['pdf_file', 'date_complained', 'complaint_meta']]"
   ]
  },
  {
   "cell_type": "markdown",
   "id": "310cbfce-f0ad-473d-a56f-4df03a3fba4f",
   "metadata": {},
   "source": [
    "# about the collection"
   ]
  },
  {
   "cell_type": "markdown",
   "id": "c4e6af29-e054-4356-9ea2-893a8dc18899",
   "metadata": {},
   "source": [
    "#### how many report files have been scraped?"
   ]
  },
  {
   "cell_type": "code",
   "execution_count": 23,
   "id": "125451f2-6e0b-45d4-b84a-3d24a42c716c",
   "metadata": {},
   "outputs": [
    {
     "data": {
      "text/plain": [
       "191"
      ]
     },
     "execution_count": 23,
     "metadata": {},
     "output_type": "execute_result"
    }
   ],
   "source": [
    "len(dpa.fileid.unique())"
   ]
  },
  {
   "cell_type": "markdown",
   "id": "7201facd-7ea3-4ecf-973d-770dfe0bc339",
   "metadata": {},
   "source": [
    "#### how many complaints are represented in the collection?"
   ]
  },
  {
   "cell_type": "code",
   "execution_count": 24,
   "id": "0d03e3f6-e4a5-4206-8c08-c43909e18f49",
   "metadata": {},
   "outputs": [
    {
     "data": {
      "text/plain": [
       "11380"
      ]
     },
     "execution_count": 24,
     "metadata": {},
     "output_type": "execute_result"
    }
   ],
   "source": [
    "len(dpa.complaint_id.unique())"
   ]
  },
  {
   "cell_type": "markdown",
   "id": "928b1e60-6221-476f-bb55-03f5657666ab",
   "metadata": {},
   "source": [
    "#### what is the timeline of complaints in the reports?"
   ]
  },
  {
   "cell_type": "code",
   "execution_count": 25,
   "id": "b7739080-879b-4853-a4c9-a2b57958c0ea",
   "metadata": {},
   "outputs": [
    {
     "data": {
      "text/plain": [
       "count                            28950\n",
       "mean     2012-05-12 19:38:42.652849664\n",
       "min                2004-01-26 00:00:00\n",
       "25%                2007-01-24 00:00:00\n",
       "50%                2009-04-15 00:00:00\n",
       "75%                2018-01-19 00:00:00\n",
       "max                2024-09-03 00:00:00\n",
       "Name: date_complained, dtype: object"
      ]
     },
     "execution_count": 25,
     "metadata": {},
     "output_type": "execute_result"
    }
   ],
   "source": [
    "dpa.date_complained.describe()"
   ]
  },
  {
   "cell_type": "markdown",
   "id": "cb16ffb6-9597-483f-9803-0b4f1a2fac6c",
   "metadata": {},
   "source": [
    "#### how many allegations are represented in the collection?"
   ]
  },
  {
   "cell_type": "code",
   "execution_count": 26,
   "id": "3f7acb25-c6da-4fc1-a075-9c6b6e461e3a",
   "metadata": {},
   "outputs": [
    {
     "data": {
      "text/plain": [
       "29032"
      ]
     },
     "execution_count": 26,
     "metadata": {},
     "output_type": "execute_result"
    }
   ],
   "source": [
    "len(dpa.allegation_id.unique())"
   ]
  },
  {
   "cell_type": "markdown",
   "id": "2dc3338f-dc4d-4d04-ac8f-37184e41fd95",
   "metadata": {},
   "source": [
    "#### is the data 1 row per allegation?"
   ]
  },
  {
   "cell_type": "code",
   "execution_count": 27,
   "id": "de5602dc-5023-45ca-ab30-fdd873fb4744",
   "metadata": {},
   "outputs": [
    {
     "data": {
      "text/plain": [
       "True"
      ]
     },
     "execution_count": 27,
     "metadata": {},
     "output_type": "execute_result"
    }
   ],
   "source": [
    "dpa.shape[0] == len(dpa.allegation_id.unique())"
   ]
  },
  {
   "cell_type": "markdown",
   "id": "7e157a8b-4faf-49a9-bb92-57e486a999d6",
   "metadata": {},
   "source": [
    "#### how many complaints are in the average report?"
   ]
  },
  {
   "cell_type": "code",
   "execution_count": 28,
   "id": "48a1b80f-2d95-48b6-b3e3-5def23bed67b",
   "metadata": {},
   "outputs": [
    {
     "data": {
      "text/plain": [
       "np.int64(65)"
      ]
     },
     "execution_count": 28,
     "metadata": {},
     "output_type": "execute_result"
    }
   ],
   "source": [
    "dpa[['fileid', 'complaint_no']].groupby('fileid').complaint_no.max().mean().astype(int)"
   ]
  },
  {
   "cell_type": "markdown",
   "id": "f41d10d5-1af3-439b-9d27-dbf01e439909",
   "metadata": {},
   "source": [
    "#### how many allegations are in the average complaint?"
   ]
  },
  {
   "cell_type": "code",
   "execution_count": 29,
   "id": "c2603f97-9ad9-4c50-a69d-2ccc6e067f69",
   "metadata": {},
   "outputs": [
    {
     "data": {
      "text/plain": [
       "np.int64(2)"
      ]
     },
     "execution_count": 29,
     "metadata": {},
     "output_type": "execute_result"
    }
   ],
   "source": [
    "dpa[['complaint_id', 'allegation_no']].groupby('complaint_id').allegation_no.max().mean().astype(int)"
   ]
  },
  {
   "cell_type": "markdown",
   "id": "15fd25ff-5cad-442c-8dd2-914cf5b84988",
   "metadata": {},
   "source": [
    "# about the timeline"
   ]
  },
  {
   "cell_type": "markdown",
   "id": "50e55bbc-6025-4536-9584-129ecd09ca7d",
   "metadata": {},
   "source": [
    "#### how many complaints are received over time?"
   ]
  },
  {
   "cell_type": "code",
   "execution_count": 30,
   "id": "c51363f9-9b83-4fdc-b1ec-9733c8ef4b92",
   "metadata": {},
   "outputs": [
    {
     "data": {
      "text/plain": [
       "<Axes: xlabel='year_complained'>"
      ]
     },
     "execution_count": 30,
     "metadata": {},
     "output_type": "execute_result"
    },
    {
     "data": {
      "image/png": "[encoded data removed]",
      "text/plain": [
       "<Figure size 640x480 with 1 Axes>"
      ]
     },
     "metadata": {},
     "output_type": "display_data"
    }
   ],
   "source": [
    "yearly_compls = dpa.loc[dpa.year_complained.notna(), ['year_complained', 'complaint_id']]\n",
    "yearly_compls.year_complained = yearly_compls.year_complained.astype(int)\n",
    "yearly_compls.groupby('year_complained').complaint_id.apply(\n",
    "    lambda x: len(x.unique())).plot(kind='bar')"
   ]
  },
  {
   "cell_type": "markdown",
   "id": "9f86f9ec-d6dc-4c30-a9a7-61e034176507",
   "metadata": {},
   "source": [
    "#### how many allegations are received over time?"
   ]
  },
  {
   "cell_type": "code",
   "execution_count": 31,
   "id": "4fd524a2-3c88-4bb5-ad34-bc71d2ec7d76",
   "metadata": {},
   "outputs": [
    {
     "data": {
      "text/plain": [
       "<Axes: xlabel='year_complained'>"
      ]
     },
     "execution_count": 31,
     "metadata": {},
     "output_type": "execute_result"
    },
    {
     "data": {
      "image/png": "[encoded data removed]",
      "text/plain": [
       "<Figure size 640x480 with 1 Axes>"
      ]
     },
     "metadata": {},
     "output_type": "display_data"
    }
   ],
   "source": [
    "yearly_allegs = dpa.loc[dpa.year_complained.notna(), ['year_complained', 'allegation_id']]\n",
    "yearly_allegs.year_complained = yearly_allegs.year_complained.astype(int)\n",
    "yearly_allegs.groupby('year_complained').allegation_id.apply(\n",
    "    lambda x: len(x.unique())).plot(kind='bar')"
   ]
  },
  {
   "cell_type": "markdown",
   "id": "d6ae49d7-d6d9-475f-a48e-f81cf49417c3",
   "metadata": {},
   "source": [
    "#### how long is the average investigation into a complaint?\n",
    "- measured in days between `date_complained` and `date_completed`\n",
    "- only includes allegations/rows with a non-negative `time_to_complete`\n",
    "- organized by the `year_complained`"
   ]
  },
  {
   "cell_type": "code",
   "execution_count": 32,
   "id": "b695e7fc-4633-4900-bbe1-7ea6266531b8",
   "metadata": {},
   "outputs": [
    {
     "data": {
      "image/png": "[encoded data removed]",
      "text/plain": [
       "<Figure size 1500x600 with 1 Axes>"
      ]
     },
     "metadata": {},
     "output_type": "display_data"
    }
   ],
   "source": [
    "ttc_vc = working[['year_complained', 'time_to_complete']].groupby('year_complained').mean().sort_index().reset_index()\n",
    "x = ttc_vc.year_complained.astype(int).astype(str).values\n",
    "y = ttc_vc.time_to_complete.dt.days.values\n",
    "\n",
    "fig= plt.figure(figsize=(15,6))\n",
    "plt.title(\"average length of investigation overtime\")\n",
    "plt.xlabel(\"year complained\")\n",
    "plt.ylabel(\"time to complete (in days)\")\n",
    "plt.bar(x,y, label='', color='purple')\n",
    "plt.show()"
   ]
  },
  {
   "cell_type": "markdown",
   "id": "357a001f-9f9d-40f3-92cf-b130aeafc44f",
   "metadata": {},
   "source": [
    "## about `sustained` or `mediated` allegations"
   ]
  },
  {
   "cell_type": "markdown",
   "id": "ecae59a9-f649-4586-a96d-0b799e5caf0c",
   "metadata": {},
   "source": [
    "#### how many allegations were sustained?"
   ]
  },
  {
   "cell_type": "code",
   "execution_count": 33,
   "id": "8cd264cb-2dfc-49e4-90a7-777c14df1a10",
   "metadata": {},
   "outputs": [
    {
     "data": {
      "text/plain": [
       "sustained\n",
       "False    27512\n",
       "True      1520\n",
       "Name: count, dtype: int64"
      ]
     },
     "execution_count": 33,
     "metadata": {},
     "output_type": "execute_result"
    }
   ],
   "source": [
    "dpa.sustained.value_counts()"
   ]
  },
  {
   "cell_type": "markdown",
   "id": "d4449789-af05-44e4-817f-a841cf14cabc",
   "metadata": {},
   "source": [
    "#### how many allegations were mediated?"
   ]
  },
  {
   "cell_type": "code",
   "execution_count": 34,
   "id": "c727b4f9-5402-44c8-89f7-45861b6f1216",
   "metadata": {},
   "outputs": [
    {
     "data": {
      "text/plain": [
       "mediated\n",
       "False    27983\n",
       "True      1049\n",
       "Name: count, dtype: int64"
      ]
     },
     "execution_count": 34,
     "metadata": {},
     "output_type": "execute_result"
    }
   ],
   "source": [
    "dpa.mediated.value_counts()"
   ]
  },
  {
   "cell_type": "markdown",
   "id": "53ef26db-bfa9-44ad-8968-f7f2f7cd14b9",
   "metadata": {},
   "source": [
    "#### are any allegations both mediated and sustained? or are these mutually exclusive?"
   ]
  },
  {
   "cell_type": "code",
   "execution_count": 35,
   "id": "0f8a5799-1e59-4a7b-a102-72d5fb6bbb9c",
   "metadata": {},
   "outputs": [
    {
     "data": {
      "text/plain": [
       "np.False_"
      ]
     },
     "execution_count": 35,
     "metadata": {},
     "output_type": "execute_result"
    }
   ],
   "source": [
    "(dpa.sustained & dpa.mediated).any()"
   ]
  },
  {
   "cell_type": "markdown",
   "id": "ef9f1c8a-f5ba-498e-bf58-4cd762f3f38b",
   "metadata": {},
   "source": [
    "#### what are the original `finding` codes for `sustained` allegations?"
   ]
  },
  {
   "cell_type": "code",
   "execution_count": 36,
   "id": "a4e8a9ed-380c-4814-95db-a47ed552d42f",
   "metadata": {},
   "outputs": [
    {
     "data": {
      "text/plain": [
       "finding_original\n",
       "S                   1128\n",
       "PF                   170\n",
       "TF                   107\n",
       "IC(S)                 41\n",
       "IC                    30\n",
       "IC (Sustained)        13\n",
       "SF                     8\n",
       "SUS                    7\n",
       "IC (SUSTAINED)         4\n",
       "SUST                   4\n",
       "Sustained              3\n",
       "Improper Conduct       2\n",
       "Policy Failure         2\n",
       "ICS                    1\n",
       "Name: count, dtype: int64"
      ]
     },
     "execution_count": 36,
     "metadata": {},
     "output_type": "execute_result"
    }
   ],
   "source": [
    "dpa.loc[dpa.sustained == True, 'finding_original'].value_counts()"
   ]
  },
  {
   "cell_type": "markdown",
   "id": "8186ffb4-adb1-44f1-9147-ccb95c000e53",
   "metadata": {},
   "source": [
    "#### what are top 5 the original `conduct_category` codes for `sustained` allegations?"
   ]
  },
  {
   "cell_type": "code",
   "execution_count": 37,
   "id": "2b8ebb31-e11a-4dbc-98d1-78055b9d2a39",
   "metadata": {},
   "outputs": [
    {
     "data": {
      "text/plain": [
       "conduct_category\n",
       "Neglect of Duty          831\n",
       "Unwarranted Action       357\n",
       "Unknown category: CRD    198\n",
       "Unnecessary Force         55\n",
       "Discourtesy               38\n",
       "Name: count, dtype: int64"
      ]
     },
     "execution_count": 37,
     "metadata": {},
     "output_type": "execute_result"
    }
   ],
   "source": [
    "dpa.loc[dpa.sustained == True, 'conduct_category'].value_counts().head()"
   ]
  },
  {
   "cell_type": "markdown",
   "id": "097959c5-9a80-416a-a1e2-01109cc73e92",
   "metadata": {},
   "source": [
    "#### what are the top 5 original `conduct_category` codes for `mediated` allegations?"
   ]
  },
  {
   "cell_type": "code",
   "execution_count": 38,
   "id": "a42bfcba-d489-4ea8-88a1-42a09eec1d1b",
   "metadata": {},
   "outputs": [
    {
     "data": {
      "text/plain": [
       "conduct_category\n",
       "Neglect of Duty                  395\n",
       "Unknown category: CRD            324\n",
       "Unwarranted Action               222\n",
       "Conduct Unbecoming an Officer     65\n",
       "Discourtesy                       24\n",
       "Name: count, dtype: int64"
      ]
     },
     "execution_count": 38,
     "metadata": {},
     "output_type": "execute_result"
    }
   ],
   "source": [
    "dpa.loc[dpa.mediated == True, 'conduct_category'].value_counts().head()"
   ]
  },
  {
   "cell_type": "markdown",
   "id": "735a1e67-f7c8-413f-abc6-0c43ee52b787",
   "metadata": {},
   "source": [
    "#### what are the top 5 original `finding` codes for allegations not `sustained` or `mediated`?"
   ]
  },
  {
   "cell_type": "code",
   "execution_count": 39,
   "id": "9f447f8e-a116-4404-b206-c3227c569d5c",
   "metadata": {},
   "outputs": [
    {
     "data": {
      "text/plain": [
       "finding\n",
       "NS                10081\n",
       "Proper Conduct     6506\n",
       "NF                 2404\n",
       "Unfounded          2390\n",
       "NF/W                890\n",
       "Name: count, dtype: int64"
      ]
     },
     "execution_count": 39,
     "metadata": {},
     "output_type": "execute_result"
    }
   ],
   "source": [
    "dpa.loc[~(dpa.sustained | dpa.mediated), 'finding'].value_counts().head()"
   ]
  },
  {
   "cell_type": "markdown",
   "id": "2fd79a12-21fa-4dd1-a655-20d3e058b781",
   "metadata": {},
   "source": [
    "#### what are the rates of `mediated` and `sustained` allegations over time compared to other outcomes?"
   ]
  },
  {
   "cell_type": "code",
   "execution_count": 40,
   "id": "ed33cff2-15e8-44aa-8171-f3ee5a013ff5",
   "metadata": {},
   "outputs": [
    {
     "data": {
      "image/png": "[encoded data removed]",
      "text/plain": [
       "<Figure size 1000x600 with 1 Axes>"
      ]
     },
     "metadata": {},
     "output_type": "display_data"
    }
   ],
   "source": [
    "test = working[['year_complained', 'mediated', 'sustained']\n",
    "    ].groupby('year_complained').value_counts().to_frame().reset_index()\n",
    "x = sorted(test.year_complained.unique())\n",
    "y = {str(int(year)):\n",
    "     test.loc[(test.year_complained == year) & (test.mediated),\n",
    "     'count'].sum() for year in sorted(test.year_complained.unique())\n",
    "    }.values()\n",
    "y2 = {str(int(year)):\n",
    "     test.loc[(test.year_complained == year) & (test.sustained),\n",
    "     'count'].sum() for year in sorted(test.year_complained.unique())\n",
    "    }.values()\n",
    "y3 = {str(int(year)):\n",
    "     test.loc[(test.year_complained == year) & (~(test.mediated | test.sustained)),\n",
    "     'count'].sum() for year in sorted(test.year_complained.unique())\n",
    "    }.values()\n",
    "\n",
    "fig= plt.figure(figsize=(10,6))\n",
    "ax = fig.add_subplot(1, 1, 1)\n",
    "plt.plot(x, y, label='mediation reported', color='red')\n",
    "plt.plot(x, y2, label='sustained allegation reported', color='blue')\n",
    "plt.plot(x, y3, label='no mediation or sustained allegation', color='black')\n",
    "plt.title(\"count of reported completed investigations over time\")\n",
    "plt.xlabel(\"year of complaint\")\n",
    "plt.ylabel(\"volume of cases\")\n",
    "ax.legend(loc='upper right')\n",
    "plt.show()"
   ]
  },
  {
   "cell_type": "markdown",
   "id": "083669d0-f66a-4092-9633-0e8489f8c5b9",
   "metadata": {},
   "source": [
    "# about the allegations"
   ]
  },
  {
   "cell_type": "markdown",
   "id": "dd92ffce-0664-46fc-ad29-1dbd0c633c42",
   "metadata": {},
   "source": [
    "#### what are the top 5 types of allegations by `conduct_category`?"
   ]
  },
  {
   "cell_type": "code",
   "execution_count": 41,
   "id": "25804a0e-c8f9-4820-8efb-c64c256a689b",
   "metadata": {},
   "outputs": [
    {
     "data": {
      "text/plain": [
       "conduct_category\n",
       "Neglect of Duty                  8028\n",
       "Unwarranted Action               7697\n",
       "Unknown category: CRD            5397\n",
       "Unnecessary Force                2211\n",
       "Conduct Unbecoming an Officer    1686\n",
       "Name: count, dtype: int64"
      ]
     },
     "execution_count": 41,
     "metadata": {},
     "output_type": "execute_result"
    }
   ],
   "source": [
    "dpa.conduct_category.value_counts().head()"
   ]
  },
  {
   "cell_type": "markdown",
   "id": "98ff62cd-c559-4cd6-8863-9bfaa80f6ac3",
   "metadata": {},
   "source": [
    "#### what do the indicators derived from the SUMMARY OF ALLEGATION data say about the allegation categories?"
   ]
  },
  {
   "cell_type": "code",
   "execution_count": 42,
   "id": "28102ba8-ed8c-417f-819d-8e76c9ef1b69",
   "metadata": {},
   "outputs": [
    {
     "data": {
      "text/plain": [
       "failed_reqmt             7551\n",
       "inapp_action             6352\n",
       "action_wo_cause          5863\n",
       "unnec_force              2127\n",
       "detain_wo_cause          1781\n",
       "malignant_action         1335\n",
       "arrest_wo_cause          1191\n",
       "cite_wo_cause            1121\n",
       "bias                      783\n",
       "search_wo_cause           724\n",
       "dishonesty                260\n",
       "entry_wo_cause            241\n",
       "towed_wo_cause            217\n",
       "tookproperty_wo_cause     152\n",
       "display_weapon             55\n",
       "dtype: int64"
      ]
     },
     "execution_count": 42,
     "metadata": {},
     "output_type": "execute_result"
    }
   ],
   "source": [
    "dpa[[\n",
    "    'action_wo_cause',\n",
    "    'entry_wo_cause', 'search_wo_cause', 'towed_wo_cause',\n",
    "    'tookproperty_wo_cause', 'cite_wo_cause', 'detain_wo_cause',\n",
    "    'arrest_wo_cause', 'display_weapon', 'unnec_force', 'dishonesty',\n",
    "    'bias', 'inapp_action', 'malignant_action', 'failed_reqmt',\n",
    "]].sum().sort_values(ascending=False)"
   ]
  },
  {
   "cell_type": "markdown",
   "id": "79f854ab-87da-4fe0-b878-b4fe3a080cdb",
   "metadata": {},
   "source": [
    "## how do the indicators compare to the DPA categories?"
   ]
  },
  {
   "cell_type": "markdown",
   "id": "12115979-5314-4b8a-a148-a7773d8dca73",
   "metadata": {},
   "source": [
    "#### what kind of allegations are considered `Unwarranted Action` by the DPA?"
   ]
  },
  {
   "cell_type": "code",
   "execution_count": 43,
   "id": "b250adde-47c1-47a5-9035-3280d8471641",
   "metadata": {},
   "outputs": [
    {
     "data": {
      "text/plain": [
       "allegations\n",
       "The officer issued a citation without cause.                    544\n",
       "The officer detained the complainant without justification.     526\n",
       "The officer arrested the complainant without cause.             455\n",
       "The officers detained the complainant without justification.    359\n",
       "The officers arrested the complainant without cause.            264\n",
       "Name: count, dtype: int64"
      ]
     },
     "execution_count": 43,
     "metadata": {},
     "output_type": "execute_result"
    }
   ],
   "source": [
    "dpa.loc[dpa.conduct_category == 'Unwarranted Action', 'allegations'].value_counts().head()"
   ]
  },
  {
   "cell_type": "markdown",
   "id": "84af8b12-48fb-4f38-9152-c26b56a32bb5",
   "metadata": {},
   "source": [
    "#### what kind of allegations are considered `action_wo_cause`?"
   ]
  },
  {
   "cell_type": "code",
   "execution_count": 44,
   "id": "a721da0d-5240-4225-8793-cc7b0ff832f0",
   "metadata": {},
   "outputs": [
    {
     "data": {
      "text/plain": [
       "allegations\n",
       "The officer issued a citation without cause.                    551\n",
       "The officer detained the complainant without justification.     530\n",
       "The officer arrested the complainant without cause.             457\n",
       "The officers detained the complainant without justification.    359\n",
       "The officers arrested the complainant without cause.            265\n",
       "Name: count, dtype: int64"
      ]
     },
     "execution_count": 44,
     "metadata": {},
     "output_type": "execute_result"
    }
   ],
   "source": [
    "dpa.loc[dpa.action_wo_cause, 'allegations'].value_counts().head()"
   ]
  },
  {
   "cell_type": "markdown",
   "id": "a7fd3ea9-8cba-468c-81f0-431795051275",
   "metadata": {},
   "source": [
    "#### what kind of allegations are considered `CRD` by the DPA?"
   ]
  },
  {
   "cell_type": "code",
   "execution_count": 45,
   "id": "56e46787-215f-41ed-82d4-b97197dceaf6",
   "metadata": {},
   "outputs": [
    {
     "data": {
      "text/plain": [
       "Series([], Name: count, dtype: int64)"
      ]
     },
     "execution_count": 45,
     "metadata": {},
     "output_type": "execute_result"
    }
   ],
   "source": [
    "dpa.loc[dpa.conduct_category == 'CRD', 'allegations'].value_counts().head(10)"
   ]
  },
  {
   "cell_type": "markdown",
   "id": "27302b4b-5de8-4c71-9b2d-ce83dfb0c078",
   "metadata": {},
   "source": [
    "```{note}\n",
    "1. `Neglect of Duty` is similar in context and frequency to `failed_reqmt`. Our count is a bit lower likely due to a combination of:\n",
    "    - the coarse nature of the regex\n",
    "    - messy or noisy extractions that could be recovered with different processing\n",
    "    - difference in what is counted as 'Neglect of Duty' compared to my interpretation of certain allegations\n",
    "2. `Unwarranted Action` is similar in context and frequency to `action_wo_cause`.\n",
    "    - It looks like we might have a gap in definitional coverage for these two, what is considered unwarranted action that I didn't pick up as an action without cause?\n",
    "    - Note: `wo_cause` represents the identification of some variation of \"without cause\", \"without justification\", etc. The DPA category may include allegations that were more nuanced / less explicit than that in the content of the allegation.\n",
    "3. It's unclear to me what `CRD` stands for as a category, I suspect the \"C\" is \"Conduct\", but I don't see \"RD\" in the codes discussed in public reporting manuals. The allegations seem to include what I count as inappropriate or malignant activity, dishonesty, and more? Unclear how this is distinct from `Conduct Unbecoming`.\n",
    "    - older source: [sfpd-dgo-204-citizen-complaints-against-officers.pdf\n",
    "](https://www.sanfranciscopolice.org/sites/default/files/2019-06/sfpd-dgo-204-citizen-complaints-against-officers.pdf)\n",
    "    - recent source: [SFPDNotice.21026.20210329.pdf\n",
    "](https://www.sanfranciscopolice.org/sites/default/files/2021-03/SFPDNotice.21026.20210329.pdf)\n",
    "4. `Unnecessary Force` is very similar in context and frequency to `unnec_force`. Our count is a bit lower likely due to the same reason that (1) is off.\n",
    "5. Allegations that might be labeled `Conduct Unbecoming` by the DPA are spread out into `inapp_action`, `malignant_action`, `bias`, and `dishonesty`.\n",
    "6. `Discourtesy`, `Racial Slur`, and `Sexual Slur` are considered `malignant_action`.\n",
    "```"
   ]
  },
  {
   "cell_type": "markdown",
   "id": "8444c6ba-1cac-4e7e-b26a-68bbb074b0be",
   "metadata": {},
   "source": [
    "#### what kind of allegations are considered `inapp_action`?\n",
    "- or \"inappropriate action\""
   ]
  },
  {
   "cell_type": "code",
   "execution_count": 46,
   "id": "815e6fc2-a5d1-4dc3-b21f-ffb7a003b7ad",
   "metadata": {},
   "outputs": [
    {
     "data": {
      "text/plain": [
       "allegations\n",
       "The officer behaved or spoke inappropriately.                             595\n",
       "The officer behaved inappropriately.                                      440\n",
       "The officer behaved inappropriately and made inappropriate\\n comments.    381\n",
       "The officer used profanity.                                               341\n",
       "The officer made inappropriate comments.                                  303\n",
       "Name: count, dtype: int64"
      ]
     },
     "execution_count": 46,
     "metadata": {},
     "output_type": "execute_result"
    }
   ],
   "source": [
    "dpa.loc[dpa.inapp_action, 'allegations'].value_counts().head()"
   ]
  },
  {
   "cell_type": "markdown",
   "id": "2a79c211-b55a-4ca2-8e92-27e40433f9f9",
   "metadata": {},
   "source": [
    "#### what kind of allegations are considered `malignant_action`?"
   ]
  },
  {
   "cell_type": "code",
   "execution_count": 47,
   "id": "ca3f0eb2-ac61-432f-a0d1-57b2a25fe495",
   "metadata": {},
   "outputs": [
    {
     "data": {
      "text/plain": [
       "allegations\n",
       "The officer threatened the complainant.                                       122\n",
       "The officer displayed threatening, intimidating, or harassing\\n behavior.     121\n",
       "The officer harassed the complainant.                                          98\n",
       "The officers displayed threatening, intimidating, or harassing\\n behavior.     33\n",
       "The officer engaged in retaliatory behavior.                                   33\n",
       "Name: count, dtype: int64"
      ]
     },
     "execution_count": 47,
     "metadata": {},
     "output_type": "execute_result"
    }
   ],
   "source": [
    "dpa.loc[dpa.malignant_action, 'allegations'].value_counts().head()"
   ]
  },
  {
   "cell_type": "markdown",
   "id": "4e06e33a-05a3-4dc7-af95-dea7bf7ba576",
   "metadata": {},
   "source": [
    "#### what kind of allegations are considered `dishonesty` or `bias`?"
   ]
  },
  {
   "cell_type": "code",
   "execution_count": 48,
   "id": "7c95c0ff-4504-4b72-9b04-6ebdb0daec7b",
   "metadata": {},
   "outputs": [
    {
     "data": {
      "text/plain": [
       "allegations\n",
       "The officer misrepresented the truth.                       175\n",
       "The officers misrepresented the truth.                       38\n",
       "The officer filed false charges against the complainant.     15\n",
       "The officer filed false charges.                              8\n",
       "The officer misrepresented the truth                          3\n",
       "Name: count, dtype: int64"
      ]
     },
     "execution_count": 48,
     "metadata": {},
     "output_type": "execute_result"
    }
   ],
   "source": [
    "dpa.loc[dpa.dishonesty, 'allegations'].value_counts().head()"
   ]
  },
  {
   "cell_type": "code",
   "execution_count": 49,
   "id": "b2d259be-eba5-4ccd-b7cc-c84f42b9b17d",
   "metadata": {},
   "outputs": [
    {
     "data": {
      "text/plain": [
       "allegations\n",
       "The officer knowingly engaged in biased policing or\\n discrimination.     102\n",
       "The officer engaged in biased policing due to race.                        78\n",
       "The officer engaged in selective enforcement.                              65\n",
       "The officer engaged in biased policing based on race.                      48\n",
       "The officers knowingly engaged in biased policing or\\n discrimination.     44\n",
       "Name: count, dtype: int64"
      ]
     },
     "execution_count": 49,
     "metadata": {},
     "output_type": "execute_result"
    }
   ],
   "source": [
    "dpa.loc[dpa.bias, 'allegations'].value_counts().head()"
   ]
  },
  {
   "cell_type": "markdown",
   "id": "fc8a97bc-3515-4911-904d-e1e5529225ef",
   "metadata": {},
   "source": [
    "# `liability`"
   ]
  },
  {
   "cell_type": "code",
   "execution_count": 50,
   "id": "e1c7413a-ab33-424f-8ad8-1574f8788e35",
   "metadata": {},
   "outputs": [
    {
     "data": {
      "text/plain": [
       "35"
      ]
     },
     "execution_count": 50,
     "metadata": {},
     "output_type": "execute_result"
    }
   ],
   "source": [
    "dpa.loc[dpa.findings_of_fact.str.contains('liability', na=False)].shape[0]"
   ]
  },
  {
   "cell_type": "code",
   "execution_count": null,
   "id": "7808a84d-a0a8-43a6-a760-39f2723b6552",
   "metadata": {},
   "outputs": [],
   "source": []
  }
 ],
 "metadata": {
  "kernelspec": {
   "display_name": "Python 3 (ipykernel)",
   "language": "python",
   "name": "python3"
  },
  "language_info": {
   "codemirror_mode": {
    "name": "ipython",
    "version": 3
   },
   "file_extension": ".py",
   "mimetype": "text/x-python",
   "name": "python",
   "nbconvert_exporter": "python",
   "pygments_lexer": "ipython3",
   "version": "3.12.7"
  }
 },
 "nbformat": 4,
 "nbformat_minor": 5
}
