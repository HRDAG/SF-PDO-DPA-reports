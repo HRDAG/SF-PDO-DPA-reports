{
 "cells": [
  {
   "cell_type": "code",
   "execution_count": 1,
   "id": "6ebc197b-9338-4d17-9df4-5f29ff76fec0",
   "metadata": {},
   "outputs": [],
   "source": [
    "# dependencies\n",
    "import pandas as pd\n",
    "import pke"
   ]
  },
  {
   "cell_type": "code",
   "execution_count": 2,
   "id": "e0f6556b-2339-4e38-a8aa-e960a994185c",
   "metadata": {},
   "outputs": [],
   "source": [
    "# support methods"
   ]
  },
  {
   "cell_type": "code",
   "execution_count": 3,
   "id": "5944d7b7-a3f3-4b8c-a390-5ec3ab8644c3",
   "metadata": {},
   "outputs": [],
   "source": [
    "# main\n",
    "complaints = pd.read_parquet(\"../../export/output/complaints.parquet\")\n",
    "complaints['other_finding'] = ~(complaints.sustained | complaints.mediated)"
   ]
  },
  {
   "cell_type": "code",
   "execution_count": 4,
   "id": "930be728-6714-43dc-9ae4-edc2b508e592",
   "metadata": {},
   "outputs": [],
   "source": [
    "idcols = [\n",
    "    'fileid',\n",
    "    'complaint_id',\n",
    "    'allegation_id',\n",
    "]\n",
    "corecols = idcols + [\n",
    "    'year_complained',\n",
    "    'year_completed',\n",
    "    'month_complained',\n",
    "    'month_completed',\n",
    "    'date_complained',\n",
    "    'date_completed',\n",
    "    'time_to_complete',\n",
    "    'ttc_group',\n",
    "    'report_type',\n",
    "    'dpa_added',\n",
    "    'occ_added',\n",
    "    'outside_jurisdiction',\n",
    "    'complaint_meta',\n",
    "    'n_complaint_pages',\n",
    "    'allegation_start_page',\n",
    "    'allegation_text',\n",
    "    'allegations',\n",
    "    'category_of_conduct',\n",
    "    'category_of_conduct_original',\n",
    "    'finding',\n",
    "    'finding_original',\n",
    "    'findings_of_fact',\n",
    "    'mediated',\n",
    "    'sustained',\n",
    "    'other_finding',\n",
    "    'txt_file',\n",
    "    'pdf_url',\n",
    "]\n",
    "indcols = idcols + [col for col in complaints.columns if col not in corecols]"
   ]
  },
  {
   "cell_type": "code",
   "execution_count": 5,
   "id": "83361868-e49c-4ff0-a97c-b9bab95767e8",
   "metadata": {},
   "outputs": [
    {
     "data": {
      "text/html": [
       "<div>\n",
       "<style scoped>\n",
       "    .dataframe tbody tr th:only-of-type {\n",
       "        vertical-align: middle;\n",
       "    }\n",
       "\n",
       "    .dataframe tbody tr th {\n",
       "        vertical-align: top;\n",
       "    }\n",
       "\n",
       "    .dataframe thead th {\n",
       "        text-align: right;\n",
       "    }\n",
       "</style>\n",
       "<table border=\"1\" class=\"dataframe\">\n",
       "  <thead>\n",
       "    <tr style=\"text-align: right;\">\n",
       "      <th></th>\n",
       "      <th>14378</th>\n",
       "    </tr>\n",
       "  </thead>\n",
       "  <tbody>\n",
       "    <tr>\n",
       "      <th>fileid</th>\n",
       "      <td>b51e32b1</td>\n",
       "    </tr>\n",
       "    <tr>\n",
       "      <th>complaint_id</th>\n",
       "      <td>b51e32b1_18</td>\n",
       "    </tr>\n",
       "    <tr>\n",
       "      <th>allegation_id</th>\n",
       "      <td>80f5603868f66dc2</td>\n",
       "    </tr>\n",
       "    <tr>\n",
       "      <th>year_complained</th>\n",
       "      <td>2013.0</td>\n",
       "    </tr>\n",
       "    <tr>\n",
       "      <th>year_completed</th>\n",
       "      <td>2014.0</td>\n",
       "    </tr>\n",
       "    <tr>\n",
       "      <th>month_complained</th>\n",
       "      <td>9.0</td>\n",
       "    </tr>\n",
       "    <tr>\n",
       "      <th>month_completed</th>\n",
       "      <td>5.0</td>\n",
       "    </tr>\n",
       "    <tr>\n",
       "      <th>date_complained</th>\n",
       "      <td>2013-09-12 00:00:00</td>\n",
       "    </tr>\n",
       "    <tr>\n",
       "      <th>date_completed</th>\n",
       "      <td>2014-05-29 00:00:00</td>\n",
       "    </tr>\n",
       "    <tr>\n",
       "      <th>time_to_complete</th>\n",
       "      <td>259 days 00:00:00</td>\n",
       "    </tr>\n",
       "    <tr>\n",
       "      <th>ttc_group</th>\n",
       "      <td>6 months to 1 year</td>\n",
       "    </tr>\n",
       "    <tr>\n",
       "      <th>report_type</th>\n",
       "      <td>OCC</td>\n",
       "    </tr>\n",
       "    <tr>\n",
       "      <th>dpa_added</th>\n",
       "      <td>False</td>\n",
       "    </tr>\n",
       "    <tr>\n",
       "      <th>occ_added</th>\n",
       "      <td>False</td>\n",
       "    </tr>\n",
       "    <tr>\n",
       "      <th>outside_jurisdiction</th>\n",
       "      <td>False</td>\n",
       "    </tr>\n",
       "    <tr>\n",
       "      <th>complaint_meta</th>\n",
       "      <td>DATE OF COMPLAINT:            09/12/13       D...</td>\n",
       "    </tr>\n",
       "    <tr>\n",
       "      <th>n_complaint_pages</th>\n",
       "      <td>4</td>\n",
       "    </tr>\n",
       "    <tr>\n",
       "      <th>allegation_start_page</th>\n",
       "      <td>62</td>\n",
       "    </tr>\n",
       "    <tr>\n",
       "      <th>allegation_text</th>\n",
       "      <td>SUMMARY OF ALLEGATIONS #15-18: The officers en...</td>\n",
       "    </tr>\n",
       "    <tr>\n",
       "      <th>allegations</th>\n",
       "      <td>The officers entered the complainant’s room wi...</td>\n",
       "    </tr>\n",
       "    <tr>\n",
       "      <th>category_of_conduct</th>\n",
       "      <td>Unwarranted Action</td>\n",
       "    </tr>\n",
       "    <tr>\n",
       "      <th>category_of_conduct_original</th>\n",
       "      <td>UA</td>\n",
       "    </tr>\n",
       "    <tr>\n",
       "      <th>finding</th>\n",
       "      <td>Proper Conduct</td>\n",
       "    </tr>\n",
       "    <tr>\n",
       "      <th>finding_original</th>\n",
       "      <td>PC</td>\n",
       "    </tr>\n",
       "    <tr>\n",
       "      <th>findings_of_fact</th>\n",
       "      <td>Records from the Department of Emergency Manag...</td>\n",
       "    </tr>\n",
       "    <tr>\n",
       "      <th>mediated</th>\n",
       "      <td>False</td>\n",
       "    </tr>\n",
       "    <tr>\n",
       "      <th>sustained</th>\n",
       "      <td>False</td>\n",
       "    </tr>\n",
       "    <tr>\n",
       "      <th>other_finding</th>\n",
       "      <td>True</td>\n",
       "    </tr>\n",
       "    <tr>\n",
       "      <th>txt_file</th>\n",
       "      <td>../pdf2text/output/txt-test/OCC_05_14_openness...</td>\n",
       "    </tr>\n",
       "    <tr>\n",
       "      <th>pdf_url</th>\n",
       "      <td>https://wayback.archive-it.org/org-571/2023012...</td>\n",
       "    </tr>\n",
       "  </tbody>\n",
       "</table>\n",
       "</div>"
      ],
      "text/plain": [
       "                                                                          14378\n",
       "fileid                                                                 b51e32b1\n",
       "complaint_id                                                        b51e32b1_18\n",
       "allegation_id                                                  80f5603868f66dc2\n",
       "year_complained                                                          2013.0\n",
       "year_completed                                                           2014.0\n",
       "month_complained                                                            9.0\n",
       "month_completed                                                             5.0\n",
       "date_complained                                             2013-09-12 00:00:00\n",
       "date_completed                                              2014-05-29 00:00:00\n",
       "time_to_complete                                              259 days 00:00:00\n",
       "ttc_group                                                    6 months to 1 year\n",
       "report_type                                                                 OCC\n",
       "dpa_added                                                                 False\n",
       "occ_added                                                                 False\n",
       "outside_jurisdiction                                                      False\n",
       "complaint_meta                DATE OF COMPLAINT:            09/12/13       D...\n",
       "n_complaint_pages                                                             4\n",
       "allegation_start_page                                                        62\n",
       "allegation_text               SUMMARY OF ALLEGATIONS #15-18: The officers en...\n",
       "allegations                   The officers entered the complainant’s room wi...\n",
       "category_of_conduct                                          Unwarranted Action\n",
       "category_of_conduct_original                                                 UA\n",
       "finding                                                          Proper Conduct\n",
       "finding_original                                                             PC\n",
       "findings_of_fact              Records from the Department of Emergency Manag...\n",
       "mediated                                                                  False\n",
       "sustained                                                                 False\n",
       "other_finding                                                              True\n",
       "txt_file                      ../pdf2text/output/txt-test/OCC_05_14_openness...\n",
       "pdf_url                       https://wayback.archive-it.org/org-571/2023012..."
      ]
     },
     "execution_count": 5,
     "metadata": {},
     "output_type": "execute_result"
    }
   ],
   "source": [
    "complaints[corecols].sample().T"
   ]
  },
  {
   "cell_type": "code",
   "execution_count": 6,
   "id": "a60d9433-adc2-4f90-96b8-578ec64e7e96",
   "metadata": {},
   "outputs": [
    {
     "data": {
      "text/plain": [
       "array(['SUMMARY OF ALLEGATION #12: The officer wrote an inaccurate and incomplete statement. CATEGORY OF CONDUCT: ND                       FINDING: U             DEPT. ACTION: FINDINGS OF FACT: The co-complainant stated that the named officer’s statement attached to the incident report was inaccurate. She denied that the scene was out of control and denied that the officer had his star on his outermost clothing and identified himself. The officer denied the allegation. He stated he announced himself as a police officer and wore his police tar on his outermost clothing. A photo taken by a witness at the scene indicated the named officer had his police star on his outermost clothing while at the scene. Department records indicated that an officer on patrol viewed a physical altercation in progress and as the officer attempted to break up the altercation, other parties interfered prompting the officer to request additional units. The evidence proved that the act alleged in the complaint did not occur, or the named member was not involved in the act alleged.                                   OFFICE OF CITIZEN COMPLAINTS DATE OF COMPLAINT: 05/29/13                DATE OF COMPLETION: 05/06/14                PAGE #6 of 7'],\n",
       "      dtype=object)"
      ]
     },
     "execution_count": 6,
     "metadata": {},
     "output_type": "execute_result"
    }
   ],
   "source": [
    "complaints.allegation_text.sample().values"
   ]
  },
  {
   "cell_type": "code",
   "execution_count": 7,
   "id": "379a00fa-7eca-4156-9709-54f88e92a4e9",
   "metadata": {},
   "outputs": [
    {
     "data": {
      "text/html": [
       "<div>\n",
       "<style scoped>\n",
       "    .dataframe tbody tr th:only-of-type {\n",
       "        vertical-align: middle;\n",
       "    }\n",
       "\n",
       "    .dataframe tbody tr th {\n",
       "        vertical-align: top;\n",
       "    }\n",
       "\n",
       "    .dataframe thead th {\n",
       "        text-align: right;\n",
       "    }\n",
       "</style>\n",
       "<table border=\"1\" class=\"dataframe\">\n",
       "  <thead>\n",
       "    <tr style=\"text-align: right;\">\n",
       "      <th></th>\n",
       "      <th>allegation_text</th>\n",
       "      <th>sustained</th>\n",
       "      <th>mediated</th>\n",
       "      <th>finding</th>\n",
       "    </tr>\n",
       "  </thead>\n",
       "  <tbody>\n",
       "    <tr>\n",
       "      <th>0</th>\n",
       "      <td>SUMMARY OF ALLEGATION #1: The officer detained...</td>\n",
       "      <td>False</td>\n",
       "      <td>True</td>\n",
       "      <td>Mediated</td>\n",
       "    </tr>\n",
       "    <tr>\n",
       "      <th>1</th>\n",
       "      <td>SUMMARY OF ALLEGATION #1: The officer detained...</td>\n",
       "      <td>False</td>\n",
       "      <td>False</td>\n",
       "      <td>NS</td>\n",
       "    </tr>\n",
       "    <tr>\n",
       "      <th>2</th>\n",
       "      <td>SUMMARY OF ALLEGATIONS #3 continued: At 9:33 p...</td>\n",
       "      <td>False</td>\n",
       "      <td>False</td>\n",
       "      <td>None</td>\n",
       "    </tr>\n",
       "    <tr>\n",
       "      <th>3</th>\n",
       "      <td>SUMMARY OF ALLEGATIONS 1 and 2: The officers u...</td>\n",
       "      <td>False</td>\n",
       "      <td>False</td>\n",
       "      <td>NS</td>\n",
       "    </tr>\n",
       "    <tr>\n",
       "      <th>5</th>\n",
       "      <td>SUMMARY OF ALLEGATION #4: The officer lied. CA...</td>\n",
       "      <td>False</td>\n",
       "      <td>False</td>\n",
       "      <td>No Finding</td>\n",
       "    </tr>\n",
       "    <tr>\n",
       "      <th>...</th>\n",
       "      <td>...</td>\n",
       "      <td>...</td>\n",
       "      <td>...</td>\n",
       "      <td>...</td>\n",
       "    </tr>\n",
       "    <tr>\n",
       "      <th>28560</th>\n",
       "      <td>SUMMARY OF ALLEGATION #1: The officer failed t...</td>\n",
       "      <td>False</td>\n",
       "      <td>False</td>\n",
       "      <td>Proper Conduct</td>\n",
       "    </tr>\n",
       "    <tr>\n",
       "      <th>28561</th>\n",
       "      <td>SUMMARY OF ALLEGATIONS #3-4: The officers fail...</td>\n",
       "      <td>False</td>\n",
       "      <td>False</td>\n",
       "      <td>NS</td>\n",
       "    </tr>\n",
       "    <tr>\n",
       "      <th>28562</th>\n",
       "      <td>SUMMARY OF ALLEGATION #4: The officer conducte...</td>\n",
       "      <td>False</td>\n",
       "      <td>False</td>\n",
       "      <td>Withdrawn</td>\n",
       "    </tr>\n",
       "    <tr>\n",
       "      <th>28563</th>\n",
       "      <td>SUMMARY OF ALLEGATION #3: The officer used pro...</td>\n",
       "      <td>False</td>\n",
       "      <td>False</td>\n",
       "      <td>NS</td>\n",
       "    </tr>\n",
       "    <tr>\n",
       "      <th>28564</th>\n",
       "      <td>SUMMARY OF ALLEGATION #2: The named officer be...</td>\n",
       "      <td>False</td>\n",
       "      <td>False</td>\n",
       "      <td>Proper Conduct</td>\n",
       "    </tr>\n",
       "  </tbody>\n",
       "</table>\n",
       "<p>26125 rows × 4 columns</p>\n",
       "</div>"
      ],
      "text/plain": [
       "                                         allegation_text  sustained  mediated  \\\n",
       "0      SUMMARY OF ALLEGATION #1: The officer detained...      False      True   \n",
       "1      SUMMARY OF ALLEGATION #1: The officer detained...      False     False   \n",
       "2      SUMMARY OF ALLEGATIONS #3 continued: At 9:33 p...      False     False   \n",
       "3      SUMMARY OF ALLEGATIONS 1 and 2: The officers u...      False     False   \n",
       "5      SUMMARY OF ALLEGATION #4: The officer lied. CA...      False     False   \n",
       "...                                                  ...        ...       ...   \n",
       "28560  SUMMARY OF ALLEGATION #1: The officer failed t...      False     False   \n",
       "28561  SUMMARY OF ALLEGATIONS #3-4: The officers fail...      False     False   \n",
       "28562  SUMMARY OF ALLEGATION #4: The officer conducte...      False     False   \n",
       "28563  SUMMARY OF ALLEGATION #3: The officer used pro...      False     False   \n",
       "28564  SUMMARY OF ALLEGATION #2: The named officer be...      False     False   \n",
       "\n",
       "              finding  \n",
       "0            Mediated  \n",
       "1                  NS  \n",
       "2                None  \n",
       "3                  NS  \n",
       "5          No Finding  \n",
       "...               ...  \n",
       "28560  Proper Conduct  \n",
       "28561              NS  \n",
       "28562       Withdrawn  \n",
       "28563              NS  \n",
       "28564  Proper Conduct  \n",
       "\n",
       "[26125 rows x 4 columns]"
      ]
     },
     "execution_count": 7,
     "metadata": {},
     "output_type": "execute_result"
    }
   ],
   "source": [
    "complaints[['allegation_text', 'sustained', 'mediated', 'finding']]"
   ]
  },
  {
   "cell_type": "code",
   "execution_count": 18,
   "id": "00154941-4f02-45b4-9678-72893099e2a5",
   "metadata": {},
   "outputs": [],
   "source": [
    "# initialize keyphrase extraction model, here TopicRank\n",
    "topic_extractor = pke.unsupervised.TopicRank()\n",
    "multi_extractor = pke.unsupervised.MultipartiteRank()\n",
    "textr_extractor = pke.unsupervised.TextRank()\n",
    "topic2_extractor = pke.unsupervised.TopicalPageRank()"
   ]
  },
  {
   "cell_type": "code",
   "execution_count": 26,
   "id": "a1f1a42a-6e68-44ae-a2bb-26df009fc9c7",
   "metadata": {},
   "outputs": [],
   "source": [
    "nrows = complaints.shape[0]\n",
    "batches = []\n",
    "for i in range(0, nrows, 900):\n",
    "    if i + 900 > nrows: end = nrows\n",
    "    else: end = i + 900\n",
    "    newbatch = \"\\n\".join(complaints.iloc[i:end].allegation_text.values)\n",
    "    batches.append(newbatch)"
   ]
  },
  {
   "cell_type": "code",
   "execution_count": 60,
   "id": "599aa061-aa85-411d-a44b-38d1f7051803",
   "metadata": {},
   "outputs": [],
   "source": [
    "def joinstr(x):\n",
    "    if pd.isna(x.allegations):\n",
    "        print(\"missing allegations\")\n",
    "    if pd.isna(x.findings_of_fact):\n",
    "        print(\"missing findings of fact\")\n",
    "        print(x.allegation_id)\n",
    "        print(x.allegation_text)\n",
    "    return \"\\n\".join((x.allegations, x.findings_of_fact))"
   ]
  },
  {
   "cell_type": "code",
   "execution_count": null,
   "id": "b4e9ab0a-07a0-4c36-a597-cb07cd2cb594",
   "metadata": {},
   "outputs": [],
   "source": [
    "complaints"
   ]
  },
  {
   "cell_type": "code",
   "execution_count": 62,
   "id": "6886c99e-e4a9-4d22-b75b-9c045a5cda44",
   "metadata": {},
   "outputs": [],
   "source": [
    "assert not complaints.allegation_id.duplicated().any()"
   ]
  },
  {
   "cell_type": "code",
   "execution_count": 61,
   "id": "8e73c236-dc95-4819-ab59-66fbaefc6353",
   "metadata": {},
   "outputs": [
    {
     "name": "stdout",
     "output_type": "stream",
     "text": [
      "missing findings of fact\n",
      "0002469b0c5c4fee\n",
      "SUMMARY OF ALLEGATIONS #3 continued: At 9:33 p.m., the victim called 911, stated that she and her roommate had called earlier and that she wa getting more scared because of it being an escalating domestic situation. Dispatch informed her that the officers were on scene. One of the named officers understood the call for service involved a boyfriend and girlfriend arguing and the boyfriend was outside, ringing the doorbell. The officers found the ex-boyfriend sitting on the front teps of the apartment, between the locked metal gate and the front door. The officers pat-searched the ex-boyfriend for weapons and found none. One of the named officers recalled that the ex-boyfriend appeared somewhat under the influence. The victim spoke with one of the named officers, said that she and her ex-boyfriend had argued earlier in the evening and she had asked him to move out. According to one of the named officers, she denied that her ex-boyfriend was trying to break in and the officer found no ign of damage on the door. The victim said the ex-boyfriend was ringing the doorbell incessantly. She tated they had dated for about two years before breaking up and that he had called recently to say he wa homeless and she felt sorry for him and allowed him to stay with her. The victim’s roommate came outside and informed one of the named officers that the ex-boyfriend had tried to put rat poison in the victim’s spaghetti. According to the named officer, the victim denied that the ex-boyfriend would do such a thing to hurt her, said she had eaten the spaghetti and felt fine and showed the named officer the spaghetti sauce which appeared to have a green substance that looked like a garnish. Based on the victim’s assertions, the named officer concluded the spaghetti had not been poisoned. He did not inform any other officer about the spaghetti poisoning until after the murder. According to the victim’s roommate, he showed one of the named officers the burrito wrapper with sauce because the victim was downplaying the incident. The roommate stated that the named officer shrugged at his request to have the sauce tested for poison. The roommate went back upstairs with the burrito wrapper. The named officers determined that no domestic violence crime had occurred and that the incident involved only a verbal argument. This conclusion was based on the victim’s denial that her ex-boyfriend had tried to hurt her in any way or that she felt threatened. Additionally, her demeanor was very calm. According to one of the named officers, the victim agreed that the solution was for the ex-boyfriend to leave and stay with a relative who lived in the East Bay. The ex-boyfriend agreed and the officer watched the ex-boyfriend leave while the victim returned to her apartment. DATE OF COMPLAINT: 10/30/14               DATE OF COMPLETION: 09/21/17                PAGE# 7 of 12\n"
     ]
    },
    {
     "ename": "TypeError",
     "evalue": "sequence item 1: expected str instance, NoneType found",
     "output_type": "error",
     "traceback": [
      "\u001b[0;31m---------------------------------------------------------------------------\u001b[0m",
      "\u001b[0;31mTypeError\u001b[0m                                 Traceback (most recent call last)",
      "Cell \u001b[0;32mIn[61], line 1\u001b[0m\n\u001b[0;32m----> 1\u001b[0m \u001b[43mcomplaints\u001b[49m\u001b[43m[\u001b[49m\u001b[43m[\u001b[49m\u001b[38;5;124;43m'\u001b[39;49m\u001b[38;5;124;43mallegation_id\u001b[39;49m\u001b[38;5;124;43m'\u001b[39;49m\u001b[43m,\u001b[49m\u001b[43m \u001b[49m\u001b[38;5;124;43m'\u001b[39;49m\u001b[38;5;124;43mallegations\u001b[39;49m\u001b[38;5;124;43m'\u001b[39;49m\u001b[43m,\u001b[49m\u001b[43m \u001b[49m\u001b[38;5;124;43m'\u001b[39;49m\u001b[38;5;124;43mallegation_text\u001b[39;49m\u001b[38;5;124;43m'\u001b[39;49m\u001b[43m,\u001b[49m\u001b[43m \u001b[49m\u001b[38;5;124;43m'\u001b[39;49m\u001b[38;5;124;43mfindings_of_fact\u001b[39;49m\u001b[38;5;124;43m'\u001b[39;49m\u001b[43m]\u001b[49m\u001b[43m]\u001b[49m\u001b[38;5;241;43m.\u001b[39;49m\u001b[43mapply\u001b[49m\u001b[43m(\u001b[49m\n\u001b[1;32m      2\u001b[0m \u001b[43m    \u001b[49m\u001b[38;5;28;43;01mlambda\u001b[39;49;00m\u001b[43m \u001b[49m\u001b[43mx\u001b[49m\u001b[43m:\u001b[49m\u001b[43m \u001b[49m\u001b[43mjoinstr\u001b[49m\u001b[43m(\u001b[49m\u001b[43mx\u001b[49m\u001b[43m)\u001b[49m\u001b[43m,\u001b[49m\u001b[43m \u001b[49m\u001b[43maxis\u001b[49m\u001b[38;5;241;43m=\u001b[39;49m\u001b[38;5;241;43m1\u001b[39;49m\n\u001b[1;32m      3\u001b[0m \u001b[43m)\u001b[49m\n",
      "File \u001b[0;32m~/opt/miniconda3/lib/python3.12/site-packages/pandas/core/frame.py:10374\u001b[0m, in \u001b[0;36mDataFrame.apply\u001b[0;34m(self, func, axis, raw, result_type, args, by_row, engine, engine_kwargs, **kwargs)\u001b[0m\n\u001b[1;32m  10360\u001b[0m \u001b[38;5;28;01mfrom\u001b[39;00m \u001b[38;5;21;01mpandas\u001b[39;00m\u001b[38;5;21;01m.\u001b[39;00m\u001b[38;5;21;01mcore\u001b[39;00m\u001b[38;5;21;01m.\u001b[39;00m\u001b[38;5;21;01mapply\u001b[39;00m \u001b[38;5;28;01mimport\u001b[39;00m frame_apply\n\u001b[1;32m  10362\u001b[0m op \u001b[38;5;241m=\u001b[39m frame_apply(\n\u001b[1;32m  10363\u001b[0m     \u001b[38;5;28mself\u001b[39m,\n\u001b[1;32m  10364\u001b[0m     func\u001b[38;5;241m=\u001b[39mfunc,\n\u001b[0;32m   (...)\u001b[0m\n\u001b[1;32m  10372\u001b[0m     kwargs\u001b[38;5;241m=\u001b[39mkwargs,\n\u001b[1;32m  10373\u001b[0m )\n\u001b[0;32m> 10374\u001b[0m \u001b[38;5;28;01mreturn\u001b[39;00m \u001b[43mop\u001b[49m\u001b[38;5;241;43m.\u001b[39;49m\u001b[43mapply\u001b[49m\u001b[43m(\u001b[49m\u001b[43m)\u001b[49m\u001b[38;5;241m.\u001b[39m__finalize__(\u001b[38;5;28mself\u001b[39m, method\u001b[38;5;241m=\u001b[39m\u001b[38;5;124m\"\u001b[39m\u001b[38;5;124mapply\u001b[39m\u001b[38;5;124m\"\u001b[39m)\n",
      "File \u001b[0;32m~/opt/miniconda3/lib/python3.12/site-packages/pandas/core/apply.py:916\u001b[0m, in \u001b[0;36mFrameApply.apply\u001b[0;34m(self)\u001b[0m\n\u001b[1;32m    913\u001b[0m \u001b[38;5;28;01melif\u001b[39;00m \u001b[38;5;28mself\u001b[39m\u001b[38;5;241m.\u001b[39mraw:\n\u001b[1;32m    914\u001b[0m     \u001b[38;5;28;01mreturn\u001b[39;00m \u001b[38;5;28mself\u001b[39m\u001b[38;5;241m.\u001b[39mapply_raw(engine\u001b[38;5;241m=\u001b[39m\u001b[38;5;28mself\u001b[39m\u001b[38;5;241m.\u001b[39mengine, engine_kwargs\u001b[38;5;241m=\u001b[39m\u001b[38;5;28mself\u001b[39m\u001b[38;5;241m.\u001b[39mengine_kwargs)\n\u001b[0;32m--> 916\u001b[0m \u001b[38;5;28;01mreturn\u001b[39;00m \u001b[38;5;28;43mself\u001b[39;49m\u001b[38;5;241;43m.\u001b[39;49m\u001b[43mapply_standard\u001b[49m\u001b[43m(\u001b[49m\u001b[43m)\u001b[49m\n",
      "File \u001b[0;32m~/opt/miniconda3/lib/python3.12/site-packages/pandas/core/apply.py:1063\u001b[0m, in \u001b[0;36mFrameApply.apply_standard\u001b[0;34m(self)\u001b[0m\n\u001b[1;32m   1061\u001b[0m \u001b[38;5;28;01mdef\u001b[39;00m \u001b[38;5;21mapply_standard\u001b[39m(\u001b[38;5;28mself\u001b[39m):\n\u001b[1;32m   1062\u001b[0m     \u001b[38;5;28;01mif\u001b[39;00m \u001b[38;5;28mself\u001b[39m\u001b[38;5;241m.\u001b[39mengine \u001b[38;5;241m==\u001b[39m \u001b[38;5;124m\"\u001b[39m\u001b[38;5;124mpython\u001b[39m\u001b[38;5;124m\"\u001b[39m:\n\u001b[0;32m-> 1063\u001b[0m         results, res_index \u001b[38;5;241m=\u001b[39m \u001b[38;5;28;43mself\u001b[39;49m\u001b[38;5;241;43m.\u001b[39;49m\u001b[43mapply_series_generator\u001b[49m\u001b[43m(\u001b[49m\u001b[43m)\u001b[49m\n\u001b[1;32m   1064\u001b[0m     \u001b[38;5;28;01melse\u001b[39;00m:\n\u001b[1;32m   1065\u001b[0m         results, res_index \u001b[38;5;241m=\u001b[39m \u001b[38;5;28mself\u001b[39m\u001b[38;5;241m.\u001b[39mapply_series_numba()\n",
      "File \u001b[0;32m~/opt/miniconda3/lib/python3.12/site-packages/pandas/core/apply.py:1081\u001b[0m, in \u001b[0;36mFrameApply.apply_series_generator\u001b[0;34m(self)\u001b[0m\n\u001b[1;32m   1078\u001b[0m \u001b[38;5;28;01mwith\u001b[39;00m option_context(\u001b[38;5;124m\"\u001b[39m\u001b[38;5;124mmode.chained_assignment\u001b[39m\u001b[38;5;124m\"\u001b[39m, \u001b[38;5;28;01mNone\u001b[39;00m):\n\u001b[1;32m   1079\u001b[0m     \u001b[38;5;28;01mfor\u001b[39;00m i, v \u001b[38;5;129;01min\u001b[39;00m \u001b[38;5;28menumerate\u001b[39m(series_gen):\n\u001b[1;32m   1080\u001b[0m         \u001b[38;5;66;03m# ignore SettingWithCopy here in case the user mutates\u001b[39;00m\n\u001b[0;32m-> 1081\u001b[0m         results[i] \u001b[38;5;241m=\u001b[39m \u001b[38;5;28;43mself\u001b[39;49m\u001b[38;5;241;43m.\u001b[39;49m\u001b[43mfunc\u001b[49m\u001b[43m(\u001b[49m\u001b[43mv\u001b[49m\u001b[43m,\u001b[49m\u001b[43m \u001b[49m\u001b[38;5;241;43m*\u001b[39;49m\u001b[38;5;28;43mself\u001b[39;49m\u001b[38;5;241;43m.\u001b[39;49m\u001b[43margs\u001b[49m\u001b[43m,\u001b[49m\u001b[43m \u001b[49m\u001b[38;5;241;43m*\u001b[39;49m\u001b[38;5;241;43m*\u001b[39;49m\u001b[38;5;28;43mself\u001b[39;49m\u001b[38;5;241;43m.\u001b[39;49m\u001b[43mkwargs\u001b[49m\u001b[43m)\u001b[49m\n\u001b[1;32m   1082\u001b[0m         \u001b[38;5;28;01mif\u001b[39;00m \u001b[38;5;28misinstance\u001b[39m(results[i], ABCSeries):\n\u001b[1;32m   1083\u001b[0m             \u001b[38;5;66;03m# If we have a view on v, we need to make a copy because\u001b[39;00m\n\u001b[1;32m   1084\u001b[0m             \u001b[38;5;66;03m#  series_generator will swap out the underlying data\u001b[39;00m\n\u001b[1;32m   1085\u001b[0m             results[i] \u001b[38;5;241m=\u001b[39m results[i]\u001b[38;5;241m.\u001b[39mcopy(deep\u001b[38;5;241m=\u001b[39m\u001b[38;5;28;01mFalse\u001b[39;00m)\n",
      "Cell \u001b[0;32mIn[61], line 2\u001b[0m, in \u001b[0;36m<lambda>\u001b[0;34m(x)\u001b[0m\n\u001b[1;32m      1\u001b[0m complaints[[\u001b[38;5;124m'\u001b[39m\u001b[38;5;124mallegation_id\u001b[39m\u001b[38;5;124m'\u001b[39m, \u001b[38;5;124m'\u001b[39m\u001b[38;5;124mallegations\u001b[39m\u001b[38;5;124m'\u001b[39m, \u001b[38;5;124m'\u001b[39m\u001b[38;5;124mallegation_text\u001b[39m\u001b[38;5;124m'\u001b[39m, \u001b[38;5;124m'\u001b[39m\u001b[38;5;124mfindings_of_fact\u001b[39m\u001b[38;5;124m'\u001b[39m]]\u001b[38;5;241m.\u001b[39mapply(\n\u001b[0;32m----> 2\u001b[0m     \u001b[38;5;28;01mlambda\u001b[39;00m x: \u001b[43mjoinstr\u001b[49m\u001b[43m(\u001b[49m\u001b[43mx\u001b[49m\u001b[43m)\u001b[49m, axis\u001b[38;5;241m=\u001b[39m\u001b[38;5;241m1\u001b[39m\n\u001b[1;32m      3\u001b[0m )\n",
      "Cell \u001b[0;32mIn[60], line 8\u001b[0m, in \u001b[0;36mjoinstr\u001b[0;34m(x)\u001b[0m\n\u001b[1;32m      6\u001b[0m     \u001b[38;5;28mprint\u001b[39m(x\u001b[38;5;241m.\u001b[39mallegation_id)\n\u001b[1;32m      7\u001b[0m     \u001b[38;5;28mprint\u001b[39m(x\u001b[38;5;241m.\u001b[39mallegation_text)\n\u001b[0;32m----> 8\u001b[0m \u001b[38;5;28;01mreturn\u001b[39;00m \u001b[38;5;124;43m\"\u001b[39;49m\u001b[38;5;130;43;01m\\n\u001b[39;49;00m\u001b[38;5;124;43m\"\u001b[39;49m\u001b[38;5;241;43m.\u001b[39;49m\u001b[43mjoin\u001b[49m\u001b[43m(\u001b[49m\u001b[43m(\u001b[49m\u001b[43mx\u001b[49m\u001b[38;5;241;43m.\u001b[39;49m\u001b[43mallegations\u001b[49m\u001b[43m,\u001b[49m\u001b[43m \u001b[49m\u001b[43mx\u001b[49m\u001b[38;5;241;43m.\u001b[39;49m\u001b[43mfindings_of_fact\u001b[49m\u001b[43m)\u001b[49m\u001b[43m)\u001b[49m\n",
      "\u001b[0;31mTypeError\u001b[0m: sequence item 1: expected str instance, NoneType found"
     ]
    }
   ],
   "source": [
    "complaints[['allegation_id', 'allegations', 'allegation_text', 'findings_of_fact']].apply(\n",
    "    lambda x: joinstr(x), axis=1\n",
    ")"
   ]
  },
  {
   "cell_type": "code",
   "execution_count": 36,
   "id": "7e529526-ec0b-47fc-8469-3caa3a53e433",
   "metadata": {},
   "outputs": [
    {
     "data": {
      "text/plain": [
       "\u001b[0;31mSignature:\u001b[0m \u001b[0mtopic_extractor\u001b[0m\u001b[0;34m.\u001b[0m\u001b[0mcandidate_selection\u001b[0m\u001b[0;34m(\u001b[0m\u001b[0mpos\u001b[0m\u001b[0;34m=\u001b[0m\u001b[0;32mNone\u001b[0m\u001b[0;34m)\u001b[0m\u001b[0;34m\u001b[0m\u001b[0;34m\u001b[0m\u001b[0m\n",
       "\u001b[0;31mDocstring:\u001b[0m\n",
       "Selects longest sequences of nouns and adjectives as keyphrase\n",
       "candidates.\n",
       "\n",
       "Args:\n",
       "    pos (set): the set of valid POS tags, defaults to ('NOUN',\n",
       "        'PROPN', 'ADJ').\n",
       "\u001b[0;31mFile:\u001b[0m      ~/opt/miniconda3/lib/python3.12/site-packages/pke/unsupervised/graph_based/topicrank.py\n",
       "\u001b[0;31mType:\u001b[0m      method"
      ]
     },
     "metadata": {},
     "output_type": "display_data"
    }
   ],
   "source": [
    "topic_extractor.candidate_selection?"
   ]
  },
  {
   "cell_type": "code",
   "execution_count": 28,
   "id": "08306f9e-2561-44d1-a546-5a3eb622e45b",
   "metadata": {},
   "outputs": [],
   "source": [
    "topic_extractor.load_document(input=batches[0], language='en')\n",
    "topic_extractor.candidate_selection()\n",
    "topic_extractor.candidate_weighting()"
   ]
  },
  {
   "cell_type": "code",
   "execution_count": 32,
   "id": "0cfdc5ae-5714-4972-a545-a6985122e1a7",
   "metadata": {},
   "outputs": [],
   "source": [
    "keyphrases = topic_extractor.get_n_best(n=20)"
   ]
  },
  {
   "cell_type": "code",
   "execution_count": 33,
   "id": "4d0520c1-fdae-408d-9f8e-050d95a6d335",
   "metadata": {},
   "outputs": [
    {
     "data": {
      "text/plain": [
       "[('officer', 0.09580989480011193),\n",
       " ('complainant', 0.07312538923822846),\n",
       " ('finding', 0.03664249718169942),\n",
       " ('allegation', 0.030333566540713026),\n",
       " ('conduct', 0.022895513113075607),\n",
       " ('action', 0.021692063980007243),\n",
       " ('fact', 0.020000942717285402),\n",
       " ('category', 0.019344470768015997),\n",
       " ('summary', 0.018834734372133982),\n",
       " ('dept', 0.01780724432152054),\n",
       " ('date', 0.01469508558882679),\n",
       " ('evidence', 0.011663137173917076),\n",
       " ('complaint', 0.011358533998833915),\n",
       " ('vehicle', 0.008251570790537162),\n",
       " ('witnesses', 0.00808166104391796),\n",
       " ('citizen complaints', 0.008010195787387124),\n",
       " ('incident', 0.007741829453879393),\n",
       " ('insufficient evidence', 0.007004951329708432),\n",
       " ('completion', 0.006630582415737723),\n",
       " ('act', 0.005197017012686152)]"
      ]
     },
     "execution_count": 33,
     "metadata": {},
     "output_type": "execute_result"
    }
   ],
   "source": [
    "keyphrases"
   ]
  },
  {
   "cell_type": "code",
   "execution_count": null,
   "id": "9b331047-3806-47ad-b2b1-f76867de021b",
   "metadata": {},
   "outputs": [],
   "source": []
  }
 ],
 "metadata": {
  "kernelspec": {
   "display_name": "Python 3 (ipykernel)",
   "language": "python",
   "name": "python3"
  },
  "language_info": {
   "codemirror_mode": {
    "name": "ipython",
    "version": 3
   },
   "file_extension": ".py",
   "mimetype": "text/x-python",
   "name": "python",
   "nbconvert_exporter": "python",
   "pygments_lexer": "ipython3",
   "version": "3.12.4"
  }
 },
 "nbformat": 4,
 "nbformat_minor": 5
}
