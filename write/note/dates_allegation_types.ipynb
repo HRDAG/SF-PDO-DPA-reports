{
 "cells": [
  {
   "cell_type": "markdown",
   "id": "22b4dcb8-2ae1-4b0a-9e53-4f1634736869",
   "metadata": {},
   "source": [
    "# setup"
   ]
  },
  {
   "cell_type": "code",
   "execution_count": 1,
   "id": "3f9d4b04-919e-43c3-a0c6-ecb9dc0f0b4e",
   "metadata": {},
   "outputs": [],
   "source": [
    "# dependencies\n",
    "import re\n",
    "import time\n",
    "import pandas as pd\n",
    "from matplotlib import pyplot as plt"
   ]
  },
  {
   "cell_type": "code",
   "execution_count": 2,
   "id": "1f91f17e-8538-4565-a463-c7c77e18f619",
   "metadata": {},
   "outputs": [],
   "source": [
    "# support methods\n",
    "# not convinced this is useful\n",
    "def supp_datetime(df):\n",
    "    \"\"\"\n",
    "    The filenames in the data are what was scraped from the website.\n",
    "    These often include the year and month completed.\n",
    "    We could recover those values from the filenames if needed.\n",
    "    \"\"\"\n",
    "    copy = df.copy()\n",
    "    re_yyyymo = \"[0-9]{4}\" + \"[\" + re.escape(\"-_\") + \"]+\" + \"[0-9]{2}\"\n",
    "    re_yymo = \"[^0-9]([0-9]{2}\" + \"[\" + re.escape(\"-_\") + \"]+\" + \"[0-9]{2})\"\n",
    "    copy['filename_yyyymm'] = copy.pdf_file.apply(\n",
    "        lambda x: \"|\".join(re.findall(re_yyyymo, x)).replace(\"_\", \"-\")\n",
    "        if any(re.findall(re_yyyymo, x)) else None)\n",
    "    copy['filename_yymm'] = copy.pdf_file.apply(\n",
    "        lambda x: \"|\".join(re.findall(re_yymo, x)).replace(\"_\", \"-\")\n",
    "        if any(re.findall(re_yymo, x)) else None)\n",
    "    return copy"
   ]
  },
  {
   "cell_type": "code",
   "execution_count": 3,
   "id": "f458fc72-bb00-4972-9b37-fde53450c589",
   "metadata": {},
   "outputs": [],
   "source": [
    "# main\n",
    "dpa = pd.read_parquet(\"../../export/output/complaints.parquet\")\n",
    "\n",
    "# there are still negative TTC values, but we've fixed about 40 of them\n",
    "working = dpa.loc[(dpa.date_completed - dpa.date_complained) >= pd.Timedelta(0)].copy()"
   ]
  },
  {
   "cell_type": "markdown",
   "id": "9d55a87b-f994-468e-9a1e-8bc62ebbc240",
   "metadata": {},
   "source": [
    "# overview"
   ]
  },
  {
   "cell_type": "code",
   "execution_count": 4,
   "id": "8c439dff-4da4-4dc7-b36d-53b3c34e9a7a",
   "metadata": {},
   "outputs": [],
   "source": [
    "basiccols = ['pdf_url', 'pdf_file', 'fileid',\n",
    "             'complaint_no', 'allegation_no', 'complaint_meta',\n",
    "             'allegation_text', 'allegations',\n",
    "             'category_of_conduct', 'finding', 'sustained', 'findings_of_fact',]\n",
    "othercols = ['fileid'] + [col for col in dpa.columns if col not in basiccols]"
   ]
  },
  {
   "cell_type": "code",
   "execution_count": 5,
   "id": "b90b2764-4b1c-4f7c-b117-a85bc46b4817",
   "metadata": {},
   "outputs": [
    {
     "data": {
      "text/html": [
       "<div>\n",
       "<style scoped>\n",
       "    .dataframe tbody tr th:only-of-type {\n",
       "        vertical-align: middle;\n",
       "    }\n",
       "\n",
       "    .dataframe tbody tr th {\n",
       "        vertical-align: top;\n",
       "    }\n",
       "\n",
       "    .dataframe thead th {\n",
       "        text-align: right;\n",
       "    }\n",
       "</style>\n",
       "<table border=\"1\" class=\"dataframe\">\n",
       "  <thead>\n",
       "    <tr style=\"text-align: right;\">\n",
       "      <th></th>\n",
       "      <th>20683</th>\n",
       "    </tr>\n",
       "  </thead>\n",
       "  <tbody>\n",
       "    <tr>\n",
       "      <th>pdf_url</th>\n",
       "      <td>https://wayback.archive-it.org/org-571/2023012...</td>\n",
       "    </tr>\n",
       "    <tr>\n",
       "      <th>pdf_file</th>\n",
       "      <td>output/pdfs/occ-OCC_04_07_openness.pdf</td>\n",
       "    </tr>\n",
       "    <tr>\n",
       "      <th>fileid</th>\n",
       "      <td>85039def</td>\n",
       "    </tr>\n",
       "    <tr>\n",
       "      <th>complaint_no</th>\n",
       "      <td>32</td>\n",
       "    </tr>\n",
       "    <tr>\n",
       "      <th>allegation_no</th>\n",
       "      <td>4</td>\n",
       "    </tr>\n",
       "    <tr>\n",
       "      <th>complaint_meta</th>\n",
       "      <td>DATE OF COMPLAINT: 06/29/06 DATE OF COMPLETION...</td>\n",
       "    </tr>\n",
       "    <tr>\n",
       "      <th>allegation_text</th>\n",
       "      <td>SUMMARY OF ALLEGATION #4: The officer made ina...</td>\n",
       "    </tr>\n",
       "    <tr>\n",
       "      <th>allegations</th>\n",
       "      <td>The officer made inappropriate comments.</td>\n",
       "    </tr>\n",
       "    <tr>\n",
       "      <th>category_of_conduct</th>\n",
       "      <td>CRD</td>\n",
       "    </tr>\n",
       "    <tr>\n",
       "      <th>finding</th>\n",
       "      <td>No Finding</td>\n",
       "    </tr>\n",
       "    <tr>\n",
       "      <th>sustained</th>\n",
       "      <td>False</td>\n",
       "    </tr>\n",
       "    <tr>\n",
       "      <th>findings_of_fact</th>\n",
       "      <td>The officer who is the subject of the allegati...</td>\n",
       "    </tr>\n",
       "  </tbody>\n",
       "</table>\n",
       "</div>"
      ],
      "text/plain": [
       "                                                                 20683\n",
       "pdf_url              https://wayback.archive-it.org/org-571/2023012...\n",
       "pdf_file                        output/pdfs/occ-OCC_04_07_openness.pdf\n",
       "fileid                                                        85039def\n",
       "complaint_no                                                        32\n",
       "allegation_no                                                        4\n",
       "complaint_meta       DATE OF COMPLAINT: 06/29/06 DATE OF COMPLETION...\n",
       "allegation_text      SUMMARY OF ALLEGATION #4: The officer made ina...\n",
       "allegations                   The officer made inappropriate comments.\n",
       "category_of_conduct                                                CRD\n",
       "finding                                                     No Finding\n",
       "sustained                                                        False\n",
       "findings_of_fact     The officer who is the subject of the allegati..."
      ]
     },
     "execution_count": 5,
     "metadata": {},
     "output_type": "execute_result"
    }
   ],
   "source": [
    "dpa[basiccols].sample().T"
   ]
  },
  {
   "cell_type": "code",
   "execution_count": 6,
   "id": "92f1bdda-98d2-4231-bb06-3437641386ca",
   "metadata": {},
   "outputs": [
    {
     "data": {
      "text/plain": [
       "failed_reqmt             7096\n",
       "action_wo_cause          6269\n",
       "inapp_action             6014\n",
       "force                    3557\n",
       "bwc                      3210\n",
       "jlp                      2960\n",
       "default_finding          2543\n",
       "unnec_force              2057\n",
       "detain_wo_cause          1996\n",
       "malignant_action         1313\n",
       "withdrawn                1244\n",
       "arrest_wo_cause          1185\n",
       "cite_wo_cause            1124\n",
       "mediated                 1026\n",
       "firearm                   956\n",
       "search_wo_cause           935\n",
       "bias                      757\n",
       "occ_added                 574\n",
       "racial_bias               548\n",
       "resisting                 402\n",
       "minor                     387\n",
       "entry_wo_cause            378\n",
       "dpa_added                 360\n",
       "dishonesty                241\n",
       "towed_wo_cause            232\n",
       "tookproperty_wo_cause     192\n",
       "pursuit                   157\n",
       "no_officer_id             116\n",
       "home                       87\n",
       "display_weapon             55\n",
       "crisis                     30\n",
       "missing_person             26\n",
       "taser                      18\n",
       "swat                       18\n",
       "intimidation                8\n",
       "outside_jurisdiction        0\n",
       "blank_allegation            0\n",
       "dtype: int64"
      ]
     },
     "execution_count": 6,
     "metadata": {},
     "output_type": "execute_result"
    }
   ],
   "source": [
    "dpa[[col for col in othercols if dpa[col].dtype == bool]].sum().sort_values(ascending=False)"
   ]
  },
  {
   "cell_type": "markdown",
   "id": "c9f66b80-a483-40ed-bdd3-eaf04680bccd",
   "metadata": {},
   "source": [
    "# completed before the complaint"
   ]
  },
  {
   "cell_type": "code",
   "execution_count": 7,
   "id": "707f7997-9d4e-48cd-8da2-60cbb73d2769",
   "metadata": {},
   "outputs": [
    {
     "data": {
      "text/html": [
       "<div>\n",
       "<style scoped>\n",
       "    .dataframe tbody tr th:only-of-type {\n",
       "        vertical-align: middle;\n",
       "    }\n",
       "\n",
       "    .dataframe tbody tr th {\n",
       "        vertical-align: top;\n",
       "    }\n",
       "\n",
       "    .dataframe thead th {\n",
       "        text-align: right;\n",
       "    }\n",
       "</style>\n",
       "<table border=\"1\" class=\"dataframe\">\n",
       "  <thead>\n",
       "    <tr style=\"text-align: right;\">\n",
       "      <th></th>\n",
       "      <th>fileid</th>\n",
       "      <th>complaint_meta</th>\n",
       "      <th>date_complained</th>\n",
       "      <th>date_completed</th>\n",
       "    </tr>\n",
       "  </thead>\n",
       "  <tbody>\n",
       "    <tr>\n",
       "      <th>62</th>\n",
       "      <td>069120f2</td>\n",
       "      <td>DATE OF COMPLAINT:             08/20/19      D...</td>\n",
       "      <td>2019-08-20</td>\n",
       "      <td>2019-05-20</td>\n",
       "    </tr>\n",
       "    <tr>\n",
       "      <th>108</th>\n",
       "      <td>ec4a28d7</td>\n",
       "      <td>DATE OF COMPLAINT: 09/30/20                 DA...</td>\n",
       "      <td>2020-09-30</td>\n",
       "      <td>2020-03-23</td>\n",
       "    </tr>\n",
       "    <tr>\n",
       "      <th>114</th>\n",
       "      <td>9826cad4</td>\n",
       "      <td>DATE OF COMPLAINT: 07/27/15                DAT...</td>\n",
       "      <td>2016-07-29</td>\n",
       "      <td>2016-06-24</td>\n",
       "    </tr>\n",
       "    <tr>\n",
       "      <th>116</th>\n",
       "      <td>a49ece65</td>\n",
       "      <td>DATE OF COMPLAINT:              03/15/19     D...</td>\n",
       "      <td>2019-03-15</td>\n",
       "      <td>2019-01-11</td>\n",
       "    </tr>\n",
       "    <tr>\n",
       "      <th>276</th>\n",
       "      <td>d617d579</td>\n",
       "      <td>COMPLAINT DATE: 12/15/22              COMPLETI...</td>\n",
       "      <td>2022-12-15</td>\n",
       "      <td>2022-06-05</td>\n",
       "    </tr>\n",
       "    <tr>\n",
       "      <th>...</th>\n",
       "      <td>...</td>\n",
       "      <td>...</td>\n",
       "      <td>...</td>\n",
       "      <td>...</td>\n",
       "    </tr>\n",
       "    <tr>\n",
       "      <th>27023</th>\n",
       "      <td>dabfe6da</td>\n",
       "      <td>DATE OF COMPLAINT: 02/07/18                DAT...</td>\n",
       "      <td>2018-02-07</td>\n",
       "      <td>2018-01-24</td>\n",
       "    </tr>\n",
       "    <tr>\n",
       "      <th>27302</th>\n",
       "      <td>a49ece65</td>\n",
       "      <td>DATE OF COMPLAINT:              03/15/19     D...</td>\n",
       "      <td>2019-03-15</td>\n",
       "      <td>2019-01-11</td>\n",
       "    </tr>\n",
       "    <tr>\n",
       "      <th>27359</th>\n",
       "      <td>30bf2725</td>\n",
       "      <td>DATE OF COMPLAINT:            12/11/17    DATE...</td>\n",
       "      <td>2017-12-11</td>\n",
       "      <td>2017-07-05</td>\n",
       "    </tr>\n",
       "    <tr>\n",
       "      <th>27372</th>\n",
       "      <td>30bf2725</td>\n",
       "      <td>DATE OF COMPLAINT:             12/11/17       ...</td>\n",
       "      <td>2017-12-11</td>\n",
       "      <td>2017-07-05</td>\n",
       "    </tr>\n",
       "    <tr>\n",
       "      <th>27530</th>\n",
       "      <td>e10b0170</td>\n",
       "      <td>DATE OF COMPLAINT: 05/12/05             DATE O...</td>\n",
       "      <td>2006-05-10</td>\n",
       "      <td>2006-04-24</td>\n",
       "    </tr>\n",
       "  </tbody>\n",
       "</table>\n",
       "<p>206 rows × 4 columns</p>\n",
       "</div>"
      ],
      "text/plain": [
       "         fileid                                     complaint_meta  \\\n",
       "62     069120f2  DATE OF COMPLAINT:             08/20/19      D...   \n",
       "108    ec4a28d7  DATE OF COMPLAINT: 09/30/20                 DA...   \n",
       "114    9826cad4  DATE OF COMPLAINT: 07/27/15                DAT...   \n",
       "116    a49ece65  DATE OF COMPLAINT:              03/15/19     D...   \n",
       "276    d617d579  COMPLAINT DATE: 12/15/22              COMPLETI...   \n",
       "...         ...                                                ...   \n",
       "27023  dabfe6da  DATE OF COMPLAINT: 02/07/18                DAT...   \n",
       "27302  a49ece65  DATE OF COMPLAINT:              03/15/19     D...   \n",
       "27359  30bf2725  DATE OF COMPLAINT:            12/11/17    DATE...   \n",
       "27372  30bf2725  DATE OF COMPLAINT:             12/11/17       ...   \n",
       "27530  e10b0170  DATE OF COMPLAINT: 05/12/05             DATE O...   \n",
       "\n",
       "      date_complained date_completed  \n",
       "62         2019-08-20     2019-05-20  \n",
       "108        2020-09-30     2020-03-23  \n",
       "114        2016-07-29     2016-06-24  \n",
       "116        2019-03-15     2019-01-11  \n",
       "276        2022-12-15     2022-06-05  \n",
       "...               ...            ...  \n",
       "27023      2018-02-07     2018-01-24  \n",
       "27302      2019-03-15     2019-01-11  \n",
       "27359      2017-12-11     2017-07-05  \n",
       "27372      2017-12-11     2017-07-05  \n",
       "27530      2006-05-10     2006-04-24  \n",
       "\n",
       "[206 rows x 4 columns]"
      ]
     },
     "execution_count": 7,
     "metadata": {},
     "output_type": "execute_result"
    }
   ],
   "source": [
    "dpa.loc[(dpa.date_completed - dpa.date_complained) < pd.Timedelta(0), [\n",
    "    'fileid', 'complaint_meta', 'date_complained', 'date_completed']]"
   ]
  },
  {
   "cell_type": "markdown",
   "id": "203dd392-0ee7-4b09-a8d9-5394d107ca36",
   "metadata": {},
   "source": [
    "# date range"
   ]
  },
  {
   "cell_type": "code",
   "execution_count": 8,
   "id": "6ec2d6ea-031e-4596-ad31-c44dc128c58c",
   "metadata": {},
   "outputs": [
    {
     "data": {
      "text/plain": [
       "count                            25292\n",
       "mean     2012-08-20 21:24:23.798829824\n",
       "min                2001-07-17 00:00:00\n",
       "25%                2007-01-03 00:00:00\n",
       "50%                2013-09-25 00:00:00\n",
       "75%                2017-12-22 00:00:00\n",
       "max                2024-01-24 00:00:00\n",
       "Name: date_complained, dtype: object"
      ]
     },
     "execution_count": 8,
     "metadata": {},
     "output_type": "execute_result"
    }
   ],
   "source": [
    "dpa.date_complained.describe()"
   ]
  },
  {
   "cell_type": "code",
   "execution_count": 9,
   "id": "4ff4c1ff-a963-43b3-84a1-8e2cd7fbe6f1",
   "metadata": {},
   "outputs": [
    {
     "data": {
      "text/plain": [
       "count                            25262\n",
       "mean     2013-04-26 09:45:11.329269504\n",
       "min                2003-12-30 00:00:00\n",
       "25%                2007-08-23 00:00:00\n",
       "50%                2014-05-29 00:00:00\n",
       "75%                2018-07-12 00:00:00\n",
       "max                2024-02-24 00:00:00\n",
       "Name: date_completed, dtype: object"
      ]
     },
     "execution_count": 9,
     "metadata": {},
     "output_type": "execute_result"
    }
   ],
   "source": [
    "dpa.date_completed.describe()"
   ]
  },
  {
   "cell_type": "markdown",
   "id": "4335b676-e3e5-4261-93ed-25afcc0cf530",
   "metadata": {},
   "source": [
    "# case volume overtime"
   ]
  },
  {
   "cell_type": "code",
   "execution_count": 10,
   "id": "edc0f277-34a8-43f6-be24-a6f6c3a950ef",
   "metadata": {},
   "outputs": [
    {
     "data": {
      "text/plain": [
       "<Axes: xlabel='year_complained'>"
      ]
     },
     "execution_count": 10,
     "metadata": {},
     "output_type": "execute_result"
    },
    {
     "data": {
      "image/png": "[encoded data removed]",
      "text/plain": [
       "<Figure size 640x480 with 1 Axes>"
      ]
     },
     "metadata": {},
     "output_type": "display_data"
    }
   ],
   "source": [
    "dpa.year_complained.value_counts().sort_index().to_frame().plot()"
   ]
  },
  {
   "cell_type": "code",
   "execution_count": 11,
   "id": "ffef0c62-c619-4f94-b382-02fbc129dbdd",
   "metadata": {},
   "outputs": [
    {
     "data": {
      "text/plain": [
       "<Axes: xlabel='year_completed'>"
      ]
     },
     "execution_count": 11,
     "metadata": {},
     "output_type": "execute_result"
    },
    {
     "data": {
      "image/png": "[encoded data removed]",
      "text/plain": [
       "<Figure size 640x480 with 1 Axes>"
      ]
     },
     "metadata": {},
     "output_type": "display_data"
    }
   ],
   "source": [
    "dpa.year_completed.value_counts().sort_index().to_frame().plot()"
   ]
  },
  {
   "cell_type": "markdown",
   "id": "dc3e1ea5-4fac-4099-ac71-ace5afb18b99",
   "metadata": {},
   "source": [
    "# time to complete"
   ]
  },
  {
   "cell_type": "code",
   "execution_count": 12,
   "id": "cb91f485-c73c-40b1-9abd-788d4a095b3b",
   "metadata": {},
   "outputs": [
    {
     "data": {
      "text/plain": [
       "ttc_group\n",
       "6 months to 1 year    12641\n",
       "3 to 6 months          4569\n",
       "1 to 3 months          3199\n",
       "1 to 2 years           3119\n",
       "Less than 1 month       915\n",
       "Over 2 years            591\n",
       "NEGATIVE                206\n",
       "Name: count, dtype: int64"
      ]
     },
     "execution_count": 12,
     "metadata": {},
     "output_type": "execute_result"
    }
   ],
   "source": [
    "dpa.ttc_group.value_counts()"
   ]
  },
  {
   "cell_type": "code",
   "execution_count": 13,
   "id": "fc965874-91cf-4e9f-82a7-ae0c8fd2e95b",
   "metadata": {},
   "outputs": [
    {
     "data": {
      "text/plain": [
       "count                          25026\n",
       "mean     257 days 10:31:30.194198036\n",
       "std      206 days 19:17:33.832013244\n",
       "min                  1 days 00:00:00\n",
       "25%                130 days 00:00:00\n",
       "50%                247 days 00:00:00\n",
       "75%                329 days 00:00:00\n",
       "max               2805 days 00:00:00\n",
       "Name: time_to_complete, dtype: object"
      ]
     },
     "execution_count": 13,
     "metadata": {},
     "output_type": "execute_result"
    }
   ],
   "source": [
    "dpa.loc[(dpa.time_to_complete > pd.Timedelta(0))].time_to_complete.describe()"
   ]
  },
  {
   "cell_type": "code",
   "execution_count": 14,
   "id": "325c4309-2c1d-49c8-a808-dfd412d848aa",
   "metadata": {},
   "outputs": [
    {
     "data": {
      "text/plain": [
       "count                          25034\n",
       "mean     257 days 08:33:02.200207716\n",
       "std      206 days 19:43:41.609947990\n",
       "min                  0 days 00:00:00\n",
       "25%                130 days 00:00:00\n",
       "50%                247 days 00:00:00\n",
       "75%                329 days 00:00:00\n",
       "max               2805 days 00:00:00\n",
       "Name: time_to_complete, dtype: object"
      ]
     },
     "execution_count": 14,
     "metadata": {},
     "output_type": "execute_result"
    }
   ],
   "source": [
    "working.time_to_complete.describe()"
   ]
  },
  {
   "cell_type": "code",
   "execution_count": 15,
   "id": "136e1cd1-37ee-4411-82d7-1507abced528",
   "metadata": {},
   "outputs": [
    {
     "data": {
      "image/png": "[encoded data removed]",
      "text/plain": [
       "<Figure size 1500x600 with 1 Axes>"
      ]
     },
     "metadata": {},
     "output_type": "display_data"
    }
   ],
   "source": [
    "ttc_vc = working[['year_complained', 'time_to_complete']].groupby('year_complained').mean().sort_index().reset_index()\n",
    "x = ttc_vc.year_complained.astype(int).astype(str).values\n",
    "y = ttc_vc.time_to_complete.dt.days.values\n",
    "\n",
    "fig= plt.figure(figsize=(15,6))\n",
    "plt.title(\"average length of investigation overtime\")\n",
    "plt.xlabel(\"year complained\")\n",
    "plt.ylabel(\"time to complete (in days)\")\n",
    "plt.bar(x,y, label='', color='purple')\n",
    "plt.show()"
   ]
  },
  {
   "cell_type": "code",
   "execution_count": 16,
   "id": "8452246a-5963-4011-968d-7a0b8f224a92",
   "metadata": {},
   "outputs": [
    {
     "data": {
      "image/png": "[encoded data removed]",
      "text/plain": [
       "<Figure size 1000x600 with 1 Axes>"
      ]
     },
     "metadata": {},
     "output_type": "display_data"
    }
   ],
   "source": [
    "ttc_vc = working[['year_completed', 'time_to_complete']].groupby('year_completed').mean().sort_index().reset_index()\n",
    "x = ttc_vc.year_completed.astype(int).astype(str).values\n",
    "y = ttc_vc.time_to_complete.dt.days.values\n",
    "\n",
    "fig= plt.figure(figsize=(10,6))\n",
    "plt.title(\"average length of investigation overtime\")\n",
    "plt.xlabel(\"year completed\")\n",
    "plt.ylabel(\"time to complete (in days)\")\n",
    "plt.bar(x,y, label='', color='purple')\n",
    "plt.show()"
   ]
  },
  {
   "cell_type": "markdown",
   "id": "41ff416d-c599-4ddc-bd92-eaef5b4cff0b",
   "metadata": {},
   "source": [
    "# what else"
   ]
  },
  {
   "cell_type": "code",
   "execution_count": 17,
   "id": "35515bf2-1bc8-4b24-8081-0289ed48b8ea",
   "metadata": {},
   "outputs": [
    {
     "data": {
      "text/html": [
       "<div>\n",
       "<style scoped>\n",
       "    .dataframe tbody tr th:only-of-type {\n",
       "        vertical-align: middle;\n",
       "    }\n",
       "\n",
       "    .dataframe tbody tr th {\n",
       "        vertical-align: top;\n",
       "    }\n",
       "\n",
       "    .dataframe thead th {\n",
       "        text-align: right;\n",
       "    }\n",
       "</style>\n",
       "<table border=\"1\" class=\"dataframe\">\n",
       "  <thead>\n",
       "    <tr style=\"text-align: right;\">\n",
       "      <th></th>\n",
       "      <th>complaint_id</th>\n",
       "      <th>allegation_id</th>\n",
       "      <th>dpa_added</th>\n",
       "      <th>finding</th>\n",
       "      <th>sustained</th>\n",
       "    </tr>\n",
       "  </thead>\n",
       "  <tbody>\n",
       "    <tr>\n",
       "      <th>14452</th>\n",
       "      <td>00fc1c4c_0</td>\n",
       "      <td>85e770dc8e43e57e</td>\n",
       "      <td>False</td>\n",
       "      <td>NS</td>\n",
       "      <td>False</td>\n",
       "    </tr>\n",
       "    <tr>\n",
       "      <th>27119</th>\n",
       "      <td>00fc1c4c_1</td>\n",
       "      <td>fb30ec31430edf9f</td>\n",
       "      <td>False</td>\n",
       "      <td>Unfounded</td>\n",
       "      <td>False</td>\n",
       "    </tr>\n",
       "    <tr>\n",
       "      <th>18877</th>\n",
       "      <td>00fc1c4c_10</td>\n",
       "      <td>ae9c3c44e44152ec</td>\n",
       "      <td>False</td>\n",
       "      <td>NS</td>\n",
       "      <td>False</td>\n",
       "    </tr>\n",
       "    <tr>\n",
       "      <th>9122</th>\n",
       "      <td>00fc1c4c_10</td>\n",
       "      <td>555b31a96e610ad5</td>\n",
       "      <td>False</td>\n",
       "      <td>NS</td>\n",
       "      <td>False</td>\n",
       "    </tr>\n",
       "    <tr>\n",
       "      <th>2678</th>\n",
       "      <td>00fc1c4c_10</td>\n",
       "      <td>1942976b1a7dd0e5</td>\n",
       "      <td>False</td>\n",
       "      <td>NS</td>\n",
       "      <td>False</td>\n",
       "    </tr>\n",
       "    <tr>\n",
       "      <th>...</th>\n",
       "      <td>...</td>\n",
       "      <td>...</td>\n",
       "      <td>...</td>\n",
       "      <td>...</td>\n",
       "      <td>...</td>\n",
       "    </tr>\n",
       "    <tr>\n",
       "      <th>5263</th>\n",
       "      <td>fc5c93ad_9</td>\n",
       "      <td>3176f837e4187b26</td>\n",
       "      <td>False</td>\n",
       "      <td>Withdrawn</td>\n",
       "      <td>False</td>\n",
       "    </tr>\n",
       "    <tr>\n",
       "      <th>19281</th>\n",
       "      <td>fc5c93ad_9</td>\n",
       "      <td>b24a5a86f3d3b9b9</td>\n",
       "      <td>False</td>\n",
       "      <td>Withdrawn</td>\n",
       "      <td>False</td>\n",
       "    </tr>\n",
       "    <tr>\n",
       "      <th>7983</th>\n",
       "      <td>fc5c93ad_9</td>\n",
       "      <td>4aca6f322c46e755</td>\n",
       "      <td>False</td>\n",
       "      <td>Withdrawn</td>\n",
       "      <td>False</td>\n",
       "    </tr>\n",
       "    <tr>\n",
       "      <th>24479</th>\n",
       "      <td>fc5c93ad_9</td>\n",
       "      <td>e2e75874335f4ec9</td>\n",
       "      <td>False</td>\n",
       "      <td>Withdrawn</td>\n",
       "      <td>False</td>\n",
       "    </tr>\n",
       "    <tr>\n",
       "      <th>8246</th>\n",
       "      <td>fc5c93ad_9</td>\n",
       "      <td>4d51e81a3df9c053</td>\n",
       "      <td>False</td>\n",
       "      <td>Withdrawn</td>\n",
       "      <td>False</td>\n",
       "    </tr>\n",
       "  </tbody>\n",
       "</table>\n",
       "<p>25034 rows × 5 columns</p>\n",
       "</div>"
      ],
      "text/plain": [
       "      complaint_id     allegation_id  dpa_added    finding  sustained\n",
       "14452   00fc1c4c_0  85e770dc8e43e57e      False         NS      False\n",
       "27119   00fc1c4c_1  fb30ec31430edf9f      False  Unfounded      False\n",
       "18877  00fc1c4c_10  ae9c3c44e44152ec      False         NS      False\n",
       "9122   00fc1c4c_10  555b31a96e610ad5      False         NS      False\n",
       "2678   00fc1c4c_10  1942976b1a7dd0e5      False         NS      False\n",
       "...            ...               ...        ...        ...        ...\n",
       "5263    fc5c93ad_9  3176f837e4187b26      False  Withdrawn      False\n",
       "19281   fc5c93ad_9  b24a5a86f3d3b9b9      False  Withdrawn      False\n",
       "7983    fc5c93ad_9  4aca6f322c46e755      False  Withdrawn      False\n",
       "24479   fc5c93ad_9  e2e75874335f4ec9      False  Withdrawn      False\n",
       "8246    fc5c93ad_9  4d51e81a3df9c053      False  Withdrawn      False\n",
       "\n",
       "[25034 rows x 5 columns]"
      ]
     },
     "execution_count": 17,
     "metadata": {},
     "output_type": "execute_result"
    }
   ],
   "source": [
    "working[['complaint_id', 'allegation_id',\n",
    "         'dpa_added', 'finding', 'sustained']].sort_values('complaint_id')"
   ]
  },
  {
   "cell_type": "code",
   "execution_count": 18,
   "id": "4fded54d-1483-4901-a812-ecea2808aeec",
   "metadata": {},
   "outputs": [
    {
     "data": {
      "text/plain": [
       "sustained\n",
       "False    23417\n",
       "True      1617\n",
       "Name: count, dtype: int64"
      ]
     },
     "execution_count": 18,
     "metadata": {},
     "output_type": "execute_result"
    }
   ],
   "source": [
    "working.sustained.value_counts()"
   ]
  },
  {
   "cell_type": "code",
   "execution_count": 19,
   "id": "8227112c-ee10-43ad-96dd-291861f06301",
   "metadata": {},
   "outputs": [
    {
     "data": {
      "text/plain": [
       "occ_added  sustained\n",
       "False      False        23073\n",
       "           True          1389\n",
       "True       False          344\n",
       "           True           228\n",
       "Name: count, dtype: int64"
      ]
     },
     "execution_count": 19,
     "metadata": {},
     "output_type": "execute_result"
    }
   ],
   "source": [
    "working[['occ_added', 'sustained']].value_counts()"
   ]
  },
  {
   "cell_type": "code",
   "execution_count": 20,
   "id": "aa8a830c-cd3a-4dd9-811d-aa5c5b6ac6a1",
   "metadata": {},
   "outputs": [
    {
     "data": {
      "text/plain": [
       "dpa_added  sustained\n",
       "False      False        23275\n",
       "           True          1420\n",
       "True       True           197\n",
       "           False          142\n",
       "Name: count, dtype: int64"
      ]
     },
     "execution_count": 20,
     "metadata": {},
     "output_type": "execute_result"
    }
   ],
   "source": [
    "working[['dpa_added', 'sustained']].value_counts()"
   ]
  },
  {
   "cell_type": "code",
   "execution_count": 21,
   "id": "0f94221c-b074-48a2-a30f-ecad642753a6",
   "metadata": {},
   "outputs": [
    {
     "data": {
      "text/plain": [
       "mediated\n",
       "False    24015\n",
       "True      1019\n",
       "Name: count, dtype: int64"
      ]
     },
     "execution_count": 21,
     "metadata": {},
     "output_type": "execute_result"
    }
   ],
   "source": [
    "working.mediated.value_counts()"
   ]
  },
  {
   "cell_type": "code",
   "execution_count": 22,
   "id": "fbed8441-5bfe-453f-97c0-cd960521db53",
   "metadata": {},
   "outputs": [
    {
     "data": {
      "text/plain": [
       "force\n",
       "False    21522\n",
       "True      3512\n",
       "Name: count, dtype: int64"
      ]
     },
     "execution_count": 22,
     "metadata": {},
     "output_type": "execute_result"
    }
   ],
   "source": [
    "working.force.value_counts()"
   ]
  },
  {
   "cell_type": "code",
   "execution_count": 23,
   "id": "222d177e-622b-4adf-98fa-ed4c75c90a35",
   "metadata": {},
   "outputs": [
    {
     "data": {
      "text/plain": [
       "jlp\n",
       "False    22149\n",
       "True      2885\n",
       "Name: count, dtype: int64"
      ]
     },
     "execution_count": 23,
     "metadata": {},
     "output_type": "execute_result"
    }
   ],
   "source": [
    "working.jlp.value_counts()"
   ]
  },
  {
   "cell_type": "code",
   "execution_count": 24,
   "id": "9b947fd8-a248-4310-8c31-cba4277285fa",
   "metadata": {},
   "outputs": [
    {
     "data": {
      "text/plain": [
       "default_finding\n",
       "False    22507\n",
       "True      2527\n",
       "Name: count, dtype: int64"
      ]
     },
     "execution_count": 24,
     "metadata": {},
     "output_type": "execute_result"
    }
   ],
   "source": [
    "working.default_finding.value_counts()"
   ]
  },
  {
   "cell_type": "markdown",
   "id": "ede0af89-3811-46f3-9104-d16f27674aaf",
   "metadata": {},
   "source": [
    "# mediation and withdrawal trends"
   ]
  },
  {
   "cell_type": "code",
   "execution_count": 25,
   "id": "7ea5a871-1e14-4e1a-8c84-b50ba36339e9",
   "metadata": {},
   "outputs": [
    {
     "data": {
      "image/png": "[encoded data removed]",
      "text/plain": [
       "<Figure size 1000x600 with 1 Axes>"
      ]
     },
     "metadata": {},
     "output_type": "display_data"
    }
   ],
   "source": [
    "test = working[['year_complained', 'mediated', 'withdrawn']\n",
    "    ].groupby('year_complained').value_counts().to_frame().reset_index()\n",
    "x = sorted(test.year_complained.unique())\n",
    "y = {str(int(year)):\n",
    "     test.loc[(test.year_complained == year) & (test.mediated),\n",
    "     'count'].sum() for year in sorted(test.year_complained.unique())\n",
    "    }.values()\n",
    "y2 = {str(int(year)):\n",
    "     test.loc[(test.year_complained == year) & (test.withdrawn),\n",
    "     'count'].sum() for year in sorted(test.year_complained.unique())\n",
    "    }.values()\n",
    "y3 = {str(int(year)):\n",
    "     test.loc[(test.year_complained == year) & (~(test.mediated | test.withdrawn)),\n",
    "     'count'].sum() for year in sorted(test.year_complained.unique())\n",
    "    }.values()\n",
    "\n",
    "fig= plt.figure(figsize=(10,6))\n",
    "ax = fig.add_subplot(1, 1, 1)\n",
    "plt.plot(x, y, label='mediation reported', color='red')\n",
    "plt.plot(x, y2, label='withdrawal reported', color='blue')\n",
    "plt.plot(x, y3, label='no mediation or withdrawal reported', color='black')\n",
    "plt.title(\"count of reported completed investigations over time\")\n",
    "plt.xlabel(\"year of complaint\")\n",
    "plt.ylabel(\"volume of cases\")\n",
    "ax.legend(loc='upper right')\n",
    "plt.show()"
   ]
  },
  {
   "cell_type": "markdown",
   "id": "9273a983-b190-4828-8a1c-2306d020edba",
   "metadata": {},
   "source": [
    "# topic plotting"
   ]
  },
  {
   "cell_type": "code",
   "execution_count": 26,
   "id": "ec86a013-2a2e-44e0-9a73-b0a09268c97e",
   "metadata": {},
   "outputs": [],
   "source": [
    "# borrowed from us-ii-mp\n",
    "# needs reworking for this data\n",
    "def add_dist_plot(recent_hilo_tidy, dists, axs, i):\n",
    "    dist_df = recent_hilo_tidy.loc[recent_hilo_tidy.city_district_occurred == dists[i]]\n",
    "    for (report_type, color) in (('notification', 'gold'),\n",
    "                                 ('arrival', 'red'),\n",
    "                                 ('closure', 'purple')):\n",
    "        y = dist_df.loc[dist_df.report_type == report_type\n",
    "            ].sort_values('year_occurred')['report_rate(%)'].values\n",
    "        axs[i].plot(x, y, color=color, label=report_type)\n",
    "        axs[i].set_title(f\"District {dists[i]}\\n\", fontweight='bold')\n",
    "        axs[i].set_ylabel(\"proportion of cases\\nwith timestamp\\n\")\n",
    "        axs[i].legend(loc=\"upper right\")\n",
    "    return True"
   ]
  },
  {
   "cell_type": "code",
   "execution_count": 27,
   "id": "5bb14d13-e4d4-45fe-9784-562233b57dae",
   "metadata": {},
   "outputs": [],
   "source": [
    "group1 = [\n",
    "    'intimidation',\n",
    "    'jlp',\n",
    "    'resisting',\n",
    "    'force',\n",
    "    'pursuit',\n",
    "    'swat',\n",
    "    'firearm',\n",
    "    'taser',]\n",
    "group2 = [\n",
    "    'jlp',\n",
    "    'racial_bias',\n",
    "    'home',\n",
    "    'missing_person',\n",
    "    'minor',\n",
    "    'crisis',]\n",
    "group3 = [\n",
    "    ('force', 'jlp'),\n",
    "    ('bwc', 'jlp'),\n",
    "    ('firearm', 'jlp'),]"
   ]
  },
  {
   "cell_type": "code",
   "execution_count": 28,
   "id": "7799a444-2347-42d6-8dc9-4aef55384e59",
   "metadata": {},
   "outputs": [
    {
     "data": {
      "text/plain": [
       "intimidation         8\n",
       "jlp               2960\n",
       "racial_bias        548\n",
       "resisting          402\n",
       "force             3557\n",
       "bwc               3210\n",
       "pursuit            157\n",
       "swat                18\n",
       "firearm            956\n",
       "taser               18\n",
       "home                87\n",
       "missing_person      26\n",
       "minor              387\n",
       "crisis              30\n",
       "dtype: int64"
      ]
     },
     "execution_count": 28,
     "metadata": {},
     "output_type": "execute_result"
    }
   ],
   "source": [
    "dpa[[\n",
    "    'intimidation', 'jlp', 'racial_bias', 'resisting', 'force',\n",
    "    'bwc', 'pursuit', 'swat', 'firearm', 'taser',\n",
    "    'home', 'missing_person', 'minor', 'crisis',]].sum()"
   ]
  },
  {
   "cell_type": "markdown",
   "id": "a714a790-a46b-4619-90ac-56a03665b4b9",
   "metadata": {},
   "source": [
    "# exploring common words"
   ]
  },
  {
   "cell_type": "code",
   "execution_count": 29,
   "id": "6e8042b0-fb26-41dc-a59e-308aee6c8817",
   "metadata": {},
   "outputs": [],
   "source": [
    "colsadded = [\n",
    "    'action_wo_cause',\n",
    "    'entry_wo_cause', 'search_wo_cause', 'towed_wo_cause', 'tookproperty_wo_cause',\n",
    "    'cite_wo_cause', 'detain_wo_cause', 'arrest_wo_cause',\n",
    "    'display_weapon', 'unnec_force', 'malignant_action',\n",
    "    'dishonesty', 'bias',\n",
    "    'inapp_action', 'failed_reqmt',\n",
    "]"
   ]
  },
  {
   "cell_type": "code",
   "execution_count": 30,
   "id": "04a5afad-7126-470b-b699-0492ad3030ff",
   "metadata": {},
   "outputs": [
    {
     "data": {
      "text/plain": [
       "1903"
      ]
     },
     "execution_count": 30,
     "metadata": {},
     "output_type": "execute_result"
    }
   ],
   "source": [
    "dpa.loc[~dpa[colsadded].apply(any, axis=1), 'allegations'].shape[0]"
   ]
  },
  {
   "cell_type": "code",
   "execution_count": 31,
   "id": "b48f1b13-861f-45c7-8a3e-e4c1bba5d44c",
   "metadata": {},
   "outputs": [
    {
     "data": {
      "text/plain": [
       "failed_reqmt             7096\n",
       "action_wo_cause          6269\n",
       "inapp_action             6014\n",
       "unnec_force              2057\n",
       "detain_wo_cause          1996\n",
       "malignant_action         1313\n",
       "arrest_wo_cause          1185\n",
       "cite_wo_cause            1124\n",
       "search_wo_cause           935\n",
       "bias                      757\n",
       "entry_wo_cause            378\n",
       "dishonesty                241\n",
       "towed_wo_cause            232\n",
       "tookproperty_wo_cause     192\n",
       "display_weapon             55\n",
       "dtype: int64"
      ]
     },
     "execution_count": 31,
     "metadata": {},
     "output_type": "execute_result"
    }
   ],
   "source": [
    "dpa[colsadded].sum().sort_values(ascending=False)"
   ]
  },
  {
   "cell_type": "markdown",
   "id": "523af5a1-b5f3-4c8e-98db-365a9e236968",
   "metadata": {},
   "source": [
    "# top 5"
   ]
  },
  {
   "cell_type": "code",
   "execution_count": 32,
   "id": "165f6b1b-1f0e-483e-b604-6260b8d7154a",
   "metadata": {},
   "outputs": [
    {
     "data": {
      "text/plain": [
       "array(['failed_reqmt', 'action_wo_cause', 'inapp_action', 'unnec_force',\n",
       "       'detain_wo_cause'], dtype=object)"
      ]
     },
     "execution_count": 32,
     "metadata": {},
     "output_type": "execute_result"
    }
   ],
   "source": [
    "top5cols = dpa[colsadded].sum().sort_values(ascending=False).head(5).index.values\n",
    "top5cols"
   ]
  },
  {
   "cell_type": "code",
   "execution_count": 33,
   "id": "aad505a7-41b7-41ce-a5db-4dcd4ce5b488",
   "metadata": {},
   "outputs": [
    {
     "name": "stdout",
     "output_type": "stream",
     "text": [
      "failed_reqmt\n",
      "The officer failed to take required action.:\t1201\n",
      "The officers failed to take required action.:\t499\n",
      "The officer failed to properly investigate.:\t360\n",
      "The officers failed to properly investigate.:\t209\n",
      "The officer failed to properly process property.:\t192\n",
      "The officer failed to write an incident report.:\t99\n",
      "The officer failed to properly supervise.:\t84\n",
      "The officer failed to take the required action.:\t79\n",
      "The officer prepared an incomplete or inaccurate incident report.:\t60\n",
      "The officer failed to take a required action.:\t59\n",
      "\n",
      "action_wo_cause\n",
      "The officer detained the complainant without justification.:\t532\n",
      "The officer issued a citation without cause.:\t527\n",
      "The officer arrested the complainant without cause.:\t450\n",
      "The officers detained the complainant without justification.:\t375\n",
      "The officers arrested the complainant without cause.:\t262\n",
      "The officer cited the complainant without cause.:\t243\n",
      "The officer handcuffed the complainant without justification.:\t178\n",
      "The officer searched the complainant without cause.:\t107\n",
      "The officer made an arrest without cause.:\t92\n",
      "The officer detained a person without reasonable suspicion.:\t68\n",
      "\n",
      "inapp_action\n",
      "The officer behaved or spoke inappropriately.:\t452\n",
      "The officer behaved inappropriately.:\t436\n",
      "The officer behaved inappropriately and made inappropriate comments.:\t390\n",
      "The officer used profanity.:\t333\n",
      "The officer made inappropriate comments.:\t297\n",
      "The officer issued an invalid order.:\t173\n",
      "The officer drove improperly.:\t148\n",
      "The officer made an inappropriate comment.:\t129\n",
      "The officer behaved and spoke inappropriately.:\t122\n",
      "The officers behaved inappropriately.:\t111\n",
      "\n",
      "unnec_force\n",
      "The officer used unnecessary force.:\t333\n",
      "The officers used unnecessary force.:\t169\n",
      "The officer used unnecessary or excessive force.:\t83\n",
      "The officer used unnecessary force on the complainant.:\t73\n",
      "The officer used excessive force.:\t63\n",
      "The officer used unnecessary force during the arrest.:\t50\n",
      "The officers used unnecessary or excessive force.:\t50\n",
      "The officers used excessive force.:\t44\n",
      "The officer intentionally damaged property.:\t41\n",
      "The officer used unnecessary force during the detention.:\t36\n",
      "\n",
      "detain_wo_cause\n",
      "The officer detained the complainant without justification.:\t532\n",
      "The officers detained the complainant without justification.:\t375\n",
      "The officer handcuffed the complainant without justification.:\t178\n",
      "The officer detained a person without reasonable suspicion.:\t68\n",
      "The officers handcuffed the complainant without justification.:\t52\n",
      "The officer detained the complainant without cause.:\t42\n",
      "The officer detained a person without justification.:\t39\n",
      "The officers detained a person without reasonable suspicion.:\t38\n",
      "The officer handcuffed the complainant without cause.:\t35\n",
      "The officers detained the complainant without cause.:\t28\n",
      "\n"
     ]
    }
   ],
   "source": [
    "for col in top5cols:\n",
    "    print(col)\n",
    "    count = dpa[col].sum()\n",
    "    topallegs = dpa.loc[dpa[col], 'allegations'].value_counts().head(10)\n",
    "    for v,c in topallegs.items(): print(f\"{v}:\\t{c}\")\n",
    "    print()"
   ]
  },
  {
   "cell_type": "code",
   "execution_count": 34,
   "id": "c7fe6a23-b550-41ff-a254-eba64c691f45",
   "metadata": {},
   "outputs": [
    {
     "data": {
      "text/plain": [
       "'24.4% of the allegations are not represented by the top5 types of alleged misconduct'"
      ]
     },
     "execution_count": 34,
     "metadata": {},
     "output_type": "execute_result"
    }
   ],
   "source": [
    "nottop5 = list(set(colsadded).difference(set(top5cols)))\n",
    "n_nottop5 = dpa.loc[dpa[nottop5].apply(any, axis=1), 'allegations'].shape[0]\n",
    "f\"{round(n_nottop5/dpa.shape[0]*100, 1)\n",
    "}% of the allegations are not represented by the top5 types of alleged misconduct\""
   ]
  },
  {
   "cell_type": "code",
   "execution_count": 35,
   "id": "5dbabab0-bee9-4830-b45e-9781ae223064",
   "metadata": {},
   "outputs": [
    {
     "data": {
      "text/plain": [
       "'15.6% of the allegations are not represented by the top5 types of alleged misconduct'"
      ]
     },
     "execution_count": 35,
     "metadata": {},
     "output_type": "execute_result"
    }
   ],
   "source": [
    "n_nottop5 = dpa.loc[~(dpa.failed_reqmt | dpa.action_wo_cause | dpa.inapp_action |\n",
    "          dpa.unnec_force | dpa.detain_wo_cause), 'allegations'].shape[0]\n",
    "f\"{round(n_nottop5/dpa.shape[0]*100, 1)}% of the allegations are not represented by the top5 types of alleged misconduct\""
   ]
  },
  {
   "cell_type": "markdown",
   "id": "0e486caf-f1c1-400c-8edc-cdd6bacebffa",
   "metadata": {},
   "source": [
    "```{note}\n",
    "Which one of the above statements is right? Why are those calculations different?\n",
    "```"
   ]
  },
  {
   "cell_type": "code",
   "execution_count": 36,
   "id": "e711fc8f-73f1-4258-9d6a-6634a94f7e2f",
   "metadata": {},
   "outputs": [
    {
     "data": {
      "text/plain": [
       "unnec_force  malignant_action  dishonesty  bias \n",
       "False        False             False       False    1903\n",
       "             True              False       False    1064\n",
       "             False             False       True      729\n",
       "                               True        False     239\n",
       "             True              False       True       14\n",
       "Name: count, dtype: int64"
      ]
     },
     "execution_count": 36,
     "metadata": {},
     "output_type": "execute_result"
    }
   ],
   "source": [
    "dpa.loc[~(dpa.failed_reqmt | dpa.action_wo_cause | dpa.inapp_action |\n",
    "          dpa.unnec_force | dpa.detain_wo_cause), [\n",
    "    'unnec_force', 'malignant_action', 'dishonesty', 'bias']].value_counts()"
   ]
  },
  {
   "cell_type": "markdown",
   "id": "a49c3928-d0a4-4c00-adf3-e1a30f4ee65e",
   "metadata": {},
   "source": [
    "# category of conduct\n",
    "\n",
    "### --> what does \"CRD\" stand for?"
   ]
  },
  {
   "cell_type": "code",
   "execution_count": 37,
   "id": "9adbc300-2b0d-44c7-965d-3de79a9ca6bc",
   "metadata": {},
   "outputs": [
    {
     "data": {
      "text/plain": [
       "category_of_conduct\n",
       "Neglect of Duty                  7492\n",
       "Unwarranted Action               7434\n",
       "CRD                              5331\n",
       "Unnecessary Force                2110\n",
       "Conduct Unbecoming an Officer    1406\n",
       "Discourtesy                       642\n",
       "MISSING LABEL                     642\n",
       "Sexual Slur                       122\n",
       "Racial Slur                       108\n",
       "Policy or Procedure                21\n",
       "NA                                  6\n",
       "NS                                  4\n",
       "XXX                                 2\n",
       "MANDATE                             2\n",
       "T                                   1\n",
       "N                                   1\n",
       "PPC                                 1\n",
       "IE                                  1\n",
       "U                                   1\n",
       "Name: count, dtype: int64"
      ]
     },
     "execution_count": 37,
     "metadata": {},
     "output_type": "execute_result"
    }
   ],
   "source": [
    "dpa.category_of_conduct.fillna(\"MISSING LABEL\").value_counts()"
   ]
  },
  {
   "cell_type": "code",
   "execution_count": 38,
   "id": "49206186-1d92-4153-a290-8c0494e9a7cd",
   "metadata": {},
   "outputs": [
    {
     "data": {
      "text/plain": [
       "category_of_conduct            finding         \n",
       "CRD                            NS                  886\n",
       "Conduct Unbecoming an Officer  Unfounded           230\n",
       "CRD                            Unfounded           229\n",
       "Unwarranted Action             Proper Conduct      178\n",
       "                               NS                  167\n",
       "                                                  ... \n",
       "Policy or Procedure            No Finding            1\n",
       "                               Withdrawn             1\n",
       "Racial Slur                    Mediated              1\n",
       "Sexual Slur                    Mediated              1\n",
       "Neglect of Duty                Training Failure      1\n",
       "Name: count, Length: 80, dtype: int64"
      ]
     },
     "execution_count": 38,
     "metadata": {},
     "output_type": "execute_result"
    }
   ],
   "source": [
    "dpa.loc[~(dpa.failed_reqmt | dpa.action_wo_cause | dpa.inapp_action |\n",
    "          dpa.unnec_force | dpa.detain_wo_cause), [\n",
    "    'category_of_conduct', 'finding']].value_counts()"
   ]
  },
  {
   "cell_type": "code",
   "execution_count": 39,
   "id": "34479308-c41c-473a-8fdd-1a59f760a82e",
   "metadata": {},
   "outputs": [
    {
     "data": {
      "text/plain": [
       "inapp_action             3755\n",
       "malignant_action          858\n",
       "bias                      531\n",
       "dishonesty                163\n",
       "action_wo_cause            39\n",
       "failed_reqmt               28\n",
       "unnec_force                 5\n",
       "arrest_wo_cause             4\n",
       "tookproperty_wo_cause       2\n",
       "search_wo_cause             1\n",
       "entry_wo_cause              0\n",
       "towed_wo_cause              0\n",
       "cite_wo_cause               0\n",
       "detain_wo_cause             0\n",
       "display_weapon              0\n",
       "dtype: int64"
      ]
     },
     "execution_count": 39,
     "metadata": {},
     "output_type": "execute_result"
    }
   ],
   "source": [
    "dpa.loc[dpa.category_of_conduct == 'CRD', colsadded].sum().sort_values(ascending=False)"
   ]
  },
  {
   "cell_type": "code",
   "execution_count": 40,
   "id": "6080b6bf-cfbf-4123-a061-f50be7bb80cb",
   "metadata": {},
   "outputs": [
    {
     "data": {
      "text/plain": [
       "array(['SUMMARY OF ALLEGATION #1: The officer made threatening and inappropriate remarks to the complainant. CATEGORY OF CONDUCT: CRD                  FINDING: PC          DEPT. ACTION: FINDINGS OF FACT: The officer denied the allegation and stated the complainant was told what the lawful consequences of his continued actions would be. The evidence proved that the acts, which provided the basis for the allegations, occurred, however, such acts were justified, lawful and proper.'],\n",
       "      dtype=object)"
      ]
     },
     "execution_count": 40,
     "metadata": {},
     "output_type": "execute_result"
    }
   ],
   "source": [
    "dpa.loc[dpa.category_of_conduct == 'CRD', 'allegation_text'].sample().values"
   ]
  },
  {
   "cell_type": "code",
   "execution_count": 41,
   "id": "c4230e24-d92a-440c-854d-92214e67ae93",
   "metadata": {},
   "outputs": [
    {
     "data": {
      "text/plain": [
       "array(['SUMMARY OF ALLEGATION #1-4: The officers made inappropriate and threatening remarks. CATEGORY OF CONDUCT: CRD                 FINDING: NS               DEPT. ACTION: FINDINGS OF FACT: The complainant stated the officers laughed at him and did not allow him to make his contentions during the tow hearing. The officers denied they laughed at the complainant. The officers stated the complainant was argumentative and disruptive. There was no witness that provided a tatement at this time. There was insufficient evidence to prove or disprove the allegation made in the complaint.'],\n",
       "      dtype=object)"
      ]
     },
     "execution_count": 41,
     "metadata": {},
     "output_type": "execute_result"
    }
   ],
   "source": [
    "dpa.loc[dpa.category_of_conduct == 'CRD', 'allegation_text'].sample().values"
   ]
  },
  {
   "cell_type": "code",
   "execution_count": 42,
   "id": "c03df63e-5ae2-424f-928d-90cdd7de9bb2",
   "metadata": {},
   "outputs": [
    {
     "data": {
      "text/plain": [
       "array(['SUMMARY OF ALLEGATION#: CATEGORY OF CONDUCT               FINDING:            DEPT. ACTION: FINDINGS OF FACT:                                   OFFICE OF CITIZEN COMPLAINTS'],\n",
       "      dtype=object)"
      ]
     },
     "execution_count": 42,
     "metadata": {},
     "output_type": "execute_result"
    }
   ],
   "source": [
    "dpa.loc[(dpa.category_of_conduct.isna()),\n",
    "'allegation_text'].sample().values"
   ]
  },
  {
   "cell_type": "code",
   "execution_count": null,
   "id": "a2ff1d63-f128-47d9-a0ac-2a3344a85a15",
   "metadata": {},
   "outputs": [],
   "source": []
  }
 ],
 "metadata": {
  "kernelspec": {
   "display_name": "Python 3 (ipykernel)",
   "language": "python",
   "name": "python3"
  },
  "language_info": {
   "codemirror_mode": {
    "name": "ipython",
    "version": 3
   },
   "file_extension": ".py",
   "mimetype": "text/x-python",
   "name": "python",
   "nbconvert_exporter": "python",
   "pygments_lexer": "ipython3",
   "version": "3.12.2"
  }
 },
 "nbformat": 4,
 "nbformat_minor": 5
}
