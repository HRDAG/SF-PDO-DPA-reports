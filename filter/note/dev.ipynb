{
 "cells": [
  {
   "cell_type": "code",
   "execution_count": 1,
   "id": "02b6d1ed",
   "metadata": {},
   "outputs": [],
   "source": [
    "# dependencies\n",
    "import pandas as pd"
   ]
  },
  {
   "cell_type": "code",
   "execution_count": 2,
   "id": "2fba1e0e",
   "metadata": {},
   "outputs": [],
   "source": [
    "# support methods"
   ]
  },
  {
   "cell_type": "code",
   "execution_count": 68,
   "id": "c9b75eb8",
   "metadata": {},
   "outputs": [
    {
     "name": "stdout",
     "output_type": "stream",
     "text": [
      "<class 'pandas.core.frame.DataFrame'>\n",
      "RangeIndex: 27804 entries, 0 to 27803\n",
      "Data columns (total 12 columns):\n",
      " #   Column                 Non-Null Count  Dtype \n",
      "---  ------                 --------------  ----- \n",
      " 0   pdf_url                27804 non-null  object\n",
      " 1   pdf_file               27804 non-null  object\n",
      " 2   fileid                 27804 non-null  object\n",
      " 3   complaint_no           27804 non-null  int64 \n",
      " 4   complaint_meta         27657 non-null  object\n",
      " 5   allegation_no          27804 non-null  int64 \n",
      " 6   allegation_text        27804 non-null  object\n",
      " 7   allegation_start_page  27804 non-null  int64 \n",
      " 8   txt_file               27804 non-null  object\n",
      " 9   blank_allegation       27804 non-null  bool  \n",
      " 10  outside_jurisdiction   27804 non-null  bool  \n",
      " 11  allegation_id          27804 non-null  object\n",
      "dtypes: bool(2), int64(3), object(7)\n",
      "memory usage: 2.2+ MB\n"
     ]
    }
   ],
   "source": [
    "# main\n",
    "ref = pd.read_parquet(\"../../segment/output/reference-table.parquet\")\n",
    "ref.info()"
   ]
  },
  {
   "cell_type": "code",
   "execution_count": 70,
   "id": "64c3d584",
   "metadata": {},
   "outputs": [
    {
     "name": "stdout",
     "output_type": "stream",
     "text": [
      "<class 'pandas.core.frame.DataFrame'>\n",
      "RangeIndex: 27804 entries, 0 to 27803\n",
      "Data columns (total 6 columns):\n",
      " #   Column            Non-Null Count  Dtype \n",
      "---  ------            --------------  ----- \n",
      " 0   allegation_id     27804 non-null  object\n",
      " 1   complaint_meta    27657 non-null  object\n",
      " 2   allegation_text   27804 non-null  object\n",
      " 3   date_complained   26900 non-null  object\n",
      " 4   date_completed    27611 non-null  object\n",
      " 5   mediation_status  944 non-null    object\n",
      "dtypes: object(6)\n",
      "memory usage: 1.3+ MB\n"
     ]
    }
   ],
   "source": [
    "dates = pd.read_parquet(\"../../filter/output/dates.parquet\")\n",
    "dates.info()"
   ]
  },
  {
   "cell_type": "code",
   "execution_count": 71,
   "id": "78cb0c03",
   "metadata": {},
   "outputs": [
    {
     "data": {
      "text/plain": [
       "False"
      ]
     },
     "execution_count": 71,
     "metadata": {},
     "output_type": "execute_result"
    }
   ],
   "source": [
    "any(set(dates.allegation_id).difference(set(ref.allegation_id)))"
   ]
  },
  {
   "cell_type": "code",
   "execution_count": 74,
   "id": "1f65a21b",
   "metadata": {},
   "outputs": [
    {
     "data": {
      "text/plain": [
       "False"
      ]
     },
     "execution_count": 74,
     "metadata": {},
     "output_type": "execute_result"
    }
   ],
   "source": [
    "any(set(dates.allegation_text).difference(set(ref.allegation_text)))"
   ]
  },
  {
   "cell_type": "code",
   "execution_count": 82,
   "id": "b4629e97",
   "metadata": {},
   "outputs": [
    {
     "data": {
      "text/plain": [
       "True"
      ]
     },
     "execution_count": 82,
     "metadata": {},
     "output_type": "execute_result"
    }
   ],
   "source": [
    "all(ref[['allegation_id', 'allegation_text', 'complaint_meta']] == \n",
    "    dates[['allegation_id', 'allegation_text', 'complaint_meta']])"
   ]
  },
  {
   "cell_type": "code",
   "execution_count": 85,
   "id": "829ff5cf",
   "metadata": {},
   "outputs": [],
   "source": [
    "both = pd.merge(ref, dates, on='allegation_id', how='left')"
   ]
  },
  {
   "cell_type": "code",
   "execution_count": 88,
   "id": "9fc88a86",
   "metadata": {},
   "outputs": [
    {
     "data": {
      "text/plain": [
       "False"
      ]
     },
     "execution_count": 88,
     "metadata": {},
     "output_type": "execute_result"
    }
   ],
   "source": [
    "any(both.allegation_text_x != both.allegation_text_y)"
   ]
  },
  {
   "cell_type": "code",
   "execution_count": 95,
   "id": "e52d83a6",
   "metadata": {},
   "outputs": [
    {
     "data": {
      "text/plain": [
       "Index(['pdf_url', 'pdf_file', 'fileid', 'complaint_no', 'complaint_meta',\n",
       "       'allegation_no', 'allegation_text', 'allegation_start_page', 'txt_file',\n",
       "       'blank_allegation', 'outside_jurisdiction', 'allegation_id'],\n",
       "      dtype='object')"
      ]
     },
     "execution_count": 95,
     "metadata": {},
     "output_type": "execute_result"
    }
   ],
   "source": [
    "ref.columns"
   ]
  },
  {
   "cell_type": "code",
   "execution_count": 97,
   "id": "582feddb",
   "metadata": {},
   "outputs": [
    {
     "data": {
      "text/plain": [
       "array(['../pdf2text/output/txt-test/Openness_report_Jan_23.txt',\n",
       "       '../pdf2text/output/txt-test/Openness_report_Feb_23.txt',\n",
       "       '../pdf2text/output/txt-test/Openness%20March.txt',\n",
       "       '../pdf2text/output/txt-test/Openness%20April.txt',\n",
       "       '../pdf2text/output/txt-test/Openness%20May.txt',\n",
       "       '../pdf2text/output/txt-test/June_Openness.txt',\n",
       "       '../pdf2text/output/txt-test/openness%20oct.xlsx.txt',\n",
       "       '../pdf2text/output/txt-test/Openness%20Nov.txt',\n",
       "       '../pdf2text/output/txt-test/openness%20dec.xlsx.txt'],\n",
       "      dtype=object)"
      ]
     },
     "execution_count": 97,
     "metadata": {},
     "output_type": "execute_result"
    }
   ],
   "source": [
    "ref.loc[~((ref.txt_file.str.contains(\"DPA\")) | (ref.txt_file.str.contains(\"OCC\"))), 'txt_file'].unique()"
   ]
  },
  {
   "cell_type": "code",
   "execution_count": null,
   "id": "63d46461",
   "metadata": {},
   "outputs": [],
   "source": []
  }
 ],
 "metadata": {
  "kernelspec": {
   "display_name": "Python 3 (ipykernel)",
   "language": "python",
   "name": "python3"
  },
  "language_info": {
   "codemirror_mode": {
    "name": "ipython",
    "version": 3
   },
   "file_extension": ".py",
   "mimetype": "text/x-python",
   "name": "python",
   "nbconvert_exporter": "python",
   "pygments_lexer": "ipython3",
   "version": "3.10.11"
  }
 },
 "nbformat": 4,
 "nbformat_minor": 5
}
